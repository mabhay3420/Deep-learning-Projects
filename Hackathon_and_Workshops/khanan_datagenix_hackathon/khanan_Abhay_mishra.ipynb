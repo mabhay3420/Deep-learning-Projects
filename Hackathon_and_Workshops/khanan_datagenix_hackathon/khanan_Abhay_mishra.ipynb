{
  "nbformat": 4,
  "nbformat_minor": 0,
  "metadata": {
    "colab": {
      "name": "khanan_Abhay_mishra",
      "provenance": []
    },
    "kernelspec": {
      "name": "python3",
      "display_name": "Python 3"
    },
    "accelerator": "GPU"
  },
  "cells": [
    {
      "cell_type": "code",
      "metadata": {
        "id": "u8oGwc7JzvMH"
      },
      "source": [
        "import pandas as pd\n",
        "import numpy as np\n",
        "import matplotlib.pyplot as plt\n",
        "import torch\n",
        "import torch.nn as nn"
      ],
      "execution_count": 1,
      "outputs": []
    },
    {
      "cell_type": "markdown",
      "metadata": {
        "id": "goO5krRk1gti"
      },
      "source": [
        "## Preprocessing The data\n",
        "- Training Set  & Test Set\n",
        "  - remove 1st and second row as well as selected column  \n",
        "  - divide into train_input and train_label\n",
        "  - normalize the data"
      ]
    },
    {
      "cell_type": "markdown",
      "metadata": {
        "id": "lI5QjRcF9ZNq"
      },
      "source": [
        "### Normalizing the data"
      ]
    },
    {
      "cell_type": "markdown",
      "metadata": {
        "id": "i2Fe0eA6-viU"
      },
      "source": [
        "# Training"
      ]
    },
    {
      "cell_type": "code",
      "metadata": {
        "id": "51DaFopJ-vO0"
      },
      "source": [
        "import torch.optim as optim\n",
        "import time\n",
        "from torch.nn import functional as F"
      ],
      "execution_count": 116,
      "outputs": []
    },
    {
      "cell_type": "code",
      "metadata": {
        "id": "jhZmXQev-7yz",
        "outputId": "85ea2b03-2bbf-48f4-e7cb-f145e0df28a3",
        "colab": {
          "base_uri": "https://localhost:8080/",
          "height": 35
        }
      },
      "source": [
        "class power(nn.Module):\n",
        "  def __init__(self):\n",
        "    super(power,self).__init__()\n",
        "    self.fc1 = nn.Linear(6,6)\n",
        "    self.fc2 = nn.Linear(6,6)\n",
        "    self.fc3 = nn.Linear(6,1)\n",
        "\n",
        "  def forward(self,x):\n",
        "    x = F.relu(self.fc1(x))\n",
        "    x = F.relu(self.fc2(x))\n",
        "    x = F.relu(self.fc3(x))\n",
        "    return x\n",
        "power = power()\n",
        "device = torch.device('cuda:0' if torch.cuda.is_available else 'cpu')\n",
        "print(device)\n",
        "power.to(device)\n",
        "class RMSLELoss(nn.Module):\n",
        "    def __init__(self):\n",
        "        super().__init__()\n",
        "        self.mse = nn.MSELoss()\n",
        "        \n",
        "    def forward(self, pred, actual):\n",
        "        return torch.sqrt(self.mse(torch.log(pred + 1), torch.log(actual + 1)))\n",
        "RMSLELoss = RMSLELoss()\n",
        "RMSLELoss.to(device)\n",
        "optimizer = optim.Adam(power.parameters())\n",
        "criterion = nn.MSELoss()"
      ],
      "execution_count": 117,
      "outputs": [
        {
          "output_type": "stream",
          "text": [
            "cuda:0\n"
          ],
          "name": "stdout"
        }
      ]
    },
    {
      "cell_type": "code",
      "metadata": {
        "id": "pbZ_Jt2KAtD-",
        "outputId": "76aea801-fa42-4d94-e290-67d23ca98ab6",
        "colab": {
          "base_uri": "https://localhost:8080/",
          "height": 2113
        }
      },
      "source": [
        "t_start = time.time()\n",
        "losses = []\n",
        "for i in range(100000):\n",
        "  optimizer.zero_grad()\n",
        "  pred_label = power(train_input.float().to(device)).squeeze()\n",
        "  loss = criterion(pred_label.float().to(device),train_label.float().to(device))\n",
        "  loss.backward()\n",
        "  optimizer.step()\n",
        "  losses.append(loss)\n",
        "  if(i%1000==0):\n",
        "    print(\"epoch : %d--- loss = %5f\"%(i,loss))\n",
        "print(\"total time taken is : %5f s\"%(time.time()-t_start))\n",
        "plt.plot(losses)\n",
        "plt.show()"
      ],
      "execution_count": 118,
      "outputs": [
        {
          "output_type": "stream",
          "text": [
            "epoch : 0--- loss = 178920560.000000\n",
            "epoch : 1000--- loss = 163673808.000000\n",
            "epoch : 2000--- loss = 94292808.000000\n",
            "epoch : 3000--- loss = 21599270.000000\n",
            "epoch : 4000--- loss = 1247959.375000\n",
            "epoch : 5000--- loss = 602324.250000\n",
            "epoch : 6000--- loss = 590800.875000\n",
            "epoch : 7000--- loss = 573848.125000\n",
            "epoch : 8000--- loss = 548449.250000\n",
            "epoch : 9000--- loss = 512327.218750\n",
            "epoch : 10000--- loss = 464359.843750\n",
            "epoch : 11000--- loss = 406068.875000\n",
            "epoch : 12000--- loss = 343153.500000\n",
            "epoch : 13000--- loss = 283741.531250\n",
            "epoch : 14000--- loss = 233637.078125\n",
            "epoch : 15000--- loss = 194267.359375\n",
            "epoch : 16000--- loss = 163879.171875\n",
            "epoch : 17000--- loss = 139857.171875\n",
            "epoch : 18000--- loss = 121487.054688\n",
            "epoch : 19000--- loss = 109163.335938\n",
            "epoch : 20000--- loss = 101977.281250\n",
            "epoch : 21000--- loss = 98329.554688\n",
            "epoch : 22000--- loss = 96428.164062\n",
            "epoch : 23000--- loss = 95574.968750\n",
            "epoch : 24000--- loss = 95339.257812\n",
            "epoch : 25000--- loss = 95312.796875\n",
            "epoch : 26000--- loss = 95312.078125\n",
            "epoch : 27000--- loss = 95312.101562\n",
            "epoch : 28000--- loss = 95312.156250\n",
            "epoch : 29000--- loss = 95312.117188\n",
            "epoch : 30000--- loss = 95312.101562\n",
            "epoch : 31000--- loss = 95312.117188\n",
            "epoch : 32000--- loss = 95312.085938\n",
            "epoch : 33000--- loss = 95312.101562\n",
            "epoch : 34000--- loss = 95340.265625\n",
            "epoch : 35000--- loss = 95312.117188\n",
            "epoch : 36000--- loss = 95312.085938\n",
            "epoch : 37000--- loss = 95312.101562\n",
            "epoch : 38000--- loss = 95312.078125\n",
            "epoch : 39000--- loss = 95312.085938\n",
            "epoch : 40000--- loss = 95312.078125\n",
            "epoch : 41000--- loss = 95312.085938\n",
            "epoch : 42000--- loss = 95312.078125\n",
            "epoch : 43000--- loss = 95312.085938\n",
            "epoch : 44000--- loss = 95312.101562\n",
            "epoch : 45000--- loss = 95312.085938\n",
            "epoch : 46000--- loss = 95312.085938\n",
            "epoch : 47000--- loss = 95312.101562\n",
            "epoch : 48000--- loss = 95312.101562\n",
            "epoch : 49000--- loss = 95312.101562\n",
            "epoch : 50000--- loss = 95312.085938\n",
            "epoch : 51000--- loss = 95312.078125\n",
            "epoch : 52000--- loss = 95312.078125\n",
            "epoch : 53000--- loss = 95312.078125\n",
            "epoch : 54000--- loss = 95312.078125\n",
            "epoch : 55000--- loss = 95312.078125\n",
            "epoch : 56000--- loss = 95312.085938\n",
            "epoch : 57000--- loss = 95312.101562\n",
            "epoch : 58000--- loss = 95312.085938\n",
            "epoch : 59000--- loss = 95312.085938\n",
            "epoch : 60000--- loss = 95312.101562\n",
            "epoch : 61000--- loss = 95312.101562\n",
            "epoch : 62000--- loss = 95312.101562\n",
            "epoch : 63000--- loss = 95312.085938\n",
            "epoch : 64000--- loss = 95312.085938\n",
            "epoch : 65000--- loss = 95312.078125\n",
            "epoch : 66000--- loss = 95312.085938\n",
            "epoch : 67000--- loss = 95312.085938\n",
            "epoch : 68000--- loss = 95312.101562\n",
            "epoch : 69000--- loss = 95312.101562\n",
            "epoch : 70000--- loss = 95312.109375\n",
            "epoch : 71000--- loss = 95312.109375\n",
            "epoch : 72000--- loss = 95312.109375\n",
            "epoch : 73000--- loss = 95312.101562\n",
            "epoch : 74000--- loss = 95312.117188\n",
            "epoch : 75000--- loss = 95312.085938\n",
            "epoch : 76000--- loss = 95312.085938\n",
            "epoch : 77000--- loss = 95312.101562\n",
            "epoch : 78000--- loss = 95312.101562\n",
            "epoch : 79000--- loss = 95312.101562\n",
            "epoch : 80000--- loss = 95312.101562\n",
            "epoch : 81000--- loss = 95312.078125\n",
            "epoch : 82000--- loss = 95312.078125\n",
            "epoch : 83000--- loss = 95312.078125\n",
            "epoch : 84000--- loss = 95312.078125\n",
            "epoch : 85000--- loss = 95312.117188\n",
            "epoch : 86000--- loss = 95312.117188\n",
            "epoch : 87000--- loss = 95312.109375\n",
            "epoch : 88000--- loss = 95312.109375\n",
            "epoch : 89000--- loss = 95312.101562\n",
            "epoch : 90000--- loss = 95312.101562\n",
            "epoch : 91000--- loss = 95312.101562\n",
            "epoch : 92000--- loss = 95312.179688\n",
            "epoch : 93000--- loss = 95312.078125\n",
            "epoch : 94000--- loss = 95312.085938\n",
            "epoch : 95000--- loss = 95312.085938\n",
            "epoch : 96000--- loss = 95312.078125\n",
            "epoch : 97000--- loss = 95312.101562\n",
            "epoch : 98000--- loss = 95312.085938\n",
            "epoch : 99000--- loss = 95312.085938\n",
            "total time taken is : 177.083158 s\n"
          ],
          "name": "stdout"
        },
        {
          "output_type": "display_data",
          "data": {
            "image/png": "[encoded data removed]",
            "text/plain": [
              "<Figure size 432x288 with 1 Axes>"
            ]
          },
          "metadata": {
            "tags": [],
            "needs_background": "light"
          }
        }
      ]
    },
    {
      "cell_type": "code",
      "metadata": {
        "id": "37lBs8O91fBV",
        "outputId": "9c3a23db-c000-4857-a5ed-96deb3c0173d",
        "colab": {
          "base_uri": "https://localhost:8080/",
          "height": 35
        }
      },
      "source": [
        "train_set = pd.read_csv('/content/Training Data_KHANAN.csv')\n",
        "test_set = pd.read_csv('/content/Test_Data_KHANAN.csv')\n",
        "train_set = train_set.drop(labels = [0,1])\n",
        "train_label = train_set['HP']\n",
        "train_input = train_set.drop(columns=['HP','Selected'])\n",
        "test_set = test_set.drop(labels = [0,1])\n",
        "test_label = test_set['HP']\n",
        "test_input = test_set.drop(columns=['HP','Selected'])\n",
        "train_input = train_input.astype('float64')\n",
        "train_label = train_label.astype('float64')\n",
        "test_input = test_input.astype('float64')\n",
        "test_label = test_label.astype('float64')\n",
        "train_input = train_input.values\n",
        "train_label = train_label.values\n",
        "test_input = test_input.values\n",
        "test_label = test_label.values\n",
        "train_input = torch.from_numpy(train_input)\n",
        "train_label = torch.from_numpy(train_label)\n",
        "test_input= torch.from_numpy(test_input)\n",
        "test_label = torch.from_numpy(test_label)\n",
        "print(train_input.shape,train_label.shape,test_input.shape,test_label.shape)"
      ],
      "execution_count": 148,
      "outputs": [
        {
          "output_type": "stream",
          "text": [
            "torch.Size([1600, 6]) torch.Size([1600]) torch.Size([400, 6]) torch.Size([400])\n"
          ],
          "name": "stdout"
        }
      ]
    },
    {
      "cell_type": "code",
      "metadata": {
        "id": "e9Nn8MaI9UbA",
        "outputId": "5a818f2d-c140-4868-ca7d-4d99ab00b980",
        "colab": {
          "base_uri": "https://localhost:8080/",
          "height": 54
        }
      },
      "source": [
        "from sklearn.preprocessing import MinMaxScaler\n",
        "scaler = MinMaxScaler()\n",
        "scaler.fit(train_input)\n",
        "train_input = scaler.transform(train_input)\n",
        "train_input = torch.from_numpy(train_input)\n",
        "test_input = scaler.fit_transform(test_input)\n",
        "test_input = torch.from_numpy(test_input)\n",
        "print(train_input.shape,train_label.shape)\n",
        "print(test_input.shape,test_label.shape)"
      ],
      "execution_count": 149,
      "outputs": [
        {
          "output_type": "stream",
          "text": [
            "torch.Size([1600, 6]) torch.Size([1600])\n",
            "torch.Size([400, 6]) torch.Size([400])\n"
          ],
          "name": "stdout"
        }
      ]
    },
    {
      "cell_type": "markdown",
      "metadata": {
        "id": "nYDi21BlGgFI"
      },
      "source": [
        "## Train set accuracy"
      ]
    },
    {
      "cell_type": "code",
      "metadata": {
        "id": "tDxWwq4tGfQA",
        "outputId": "a11b01b9-4930-422e-e8cb-43f6676cd525",
        "colab": {
          "base_uri": "https://localhost:8080/",
          "height": 283
        }
      },
      "source": [
        "x = np.linspace(1,1600,1600)\n",
        "pred_train_label = power(train_input.float().to(device)).squeeze()\n",
        "loss = criterion(pred_train_label.float().to(device),train_label.float().to(device))\n",
        "print(\"MSE loss is :%5f\"%(loss))\n",
        "pred_train_label = pred_train_label.data.cpu().numpy()\n",
        "train_label = train_label.data.cpu().numpy()\n",
        "plt.plot(x,pred_train_label,color='b')\n",
        "plt.plot(x,train_label,color='g')\n",
        "# plt.plot(train_label,c = 'b',label = 'actual_power')\n",
        "plt.show()"
      ],
      "execution_count": 150,
      "outputs": [
        {
          "output_type": "stream",
          "text": [
            "MSE loss is :95312.117188\n"
          ],
          "name": "stdout"
        },
        {
          "output_type": "display_data",
          "data": {
            "image/png": "[encoded data removed]",
            "text/plain": [
              "<Figure size 432x288 with 1 Axes>"
            ]
          },
          "metadata": {
            "tags": [],
            "needs_background": "light"
          }
        }
      ]
    },
    {
      "cell_type": "markdown",
      "metadata": {
        "id": "btFneEh5Ip3K"
      },
      "source": [
        "# Test Set Accuracy"
      ]
    },
    {
      "cell_type": "code",
      "metadata": {
        "id": "QDpcB08xEghI",
        "outputId": "433dbd9a-0a14-46a9-c19c-df0d5e8b0983",
        "colab": {
          "base_uri": "https://localhost:8080/",
          "height": 283
        }
      },
      "source": [
        "pred_test_label = power(test_input.float().to(device)).squeeze()\n",
        "loss = criterion(pred_test_label.float().to(device),test_label.float().to(device))\n",
        "print(\"MSE loss is : %5f\"%(loss))\n",
        "pred_test_label = pred_test_label.data.cpu().numpy()\n",
        "test_label = test_label.data.cpu().numpy()\n",
        "plt.plot(pred_test_label,c = 'r',label = 'test_prediction')\n",
        "plt.plot(test_label,c = 'g',label = 'actual_power')\n",
        "plt.show()"
      ],
      "execution_count": 151,
      "outputs": [
        {
          "output_type": "stream",
          "text": [
            "MSE loss is : 111959.828125\n"
          ],
          "name": "stdout"
        },
        {
          "output_type": "display_data",
          "data": {
            "image/png": "[encoded data removed]",
            "text/plain": [
              "<Figure size 432x288 with 1 Axes>"
            ]
          },
          "metadata": {
            "tags": [],
            "needs_background": "light"
          }
        }
      ]
    },
    {
      "cell_type": "code",
      "metadata": {
        "id": "IVcdUub8E2y6"
      },
      "source": [
        "np.savetxt('result_test_data.csv',pred_test_label)"
      ],
      "execution_count": 154,
      "outputs": []
    },
    {
      "cell_type": "code",
      "metadata": {
        "id": "GnnTDqvUZhSo"
      },
      "source": [
        "np.savetxt('result_train_data.csv',pred_train_label)"
      ],
      "execution_count": 155,
      "outputs": []
    }
  ]
}