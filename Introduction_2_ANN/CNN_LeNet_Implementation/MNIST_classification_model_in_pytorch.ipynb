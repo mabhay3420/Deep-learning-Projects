{
  "nbformat": 4,
  "nbformat_minor": 0,
  "metadata": {
    "colab": {
      "name": "MNIST classification model in pytorch.ipynb",
      "provenance": [],
      "collapsed_sections": []
    },
    "kernelspec": {
      "name": "python3",
      "display_name": "Python 3"
    },
    "accelerator": "GPU",
    "widgets": {
      "application/vnd.jupyter.widget-state+json": {
        "c78efd2be4fb47448ac98ac2cbf4be50": {
          "model_module": "@jupyter-widgets/controls",
          "model_name": "HBoxModel",
          "state": {
            "_view_name": "HBoxView",
            "_dom_classes": [],
            "_model_name": "HBoxModel",
            "_view_module": "@jupyter-widgets/controls",
            "_model_module_version": "1.5.0",
            "_view_count": null,
            "_view_module_version": "1.5.0",
            "box_style": "",
            "layout": "IPY_MODEL_b903bc8a43d14b529238f5b12ba87aab",
            "_model_module": "@jupyter-widgets/controls",
            "children": [
              "IPY_MODEL_12750ef206964d28ae8c3ce912885051",
              "IPY_MODEL_8e20b06178a34b489a5fc7f6b66b3f20"
            ]
          }
        },
        "b903bc8a43d14b529238f5b12ba87aab": {
          "model_module": "@jupyter-widgets/base",
          "model_name": "LayoutModel",
          "state": {
            "_view_name": "LayoutView",
            "grid_template_rows": null,
            "right": null,
            "justify_content": null,
            "_view_module": "@jupyter-widgets/base",
            "overflow": null,
            "_model_module_version": "1.2.0",
            "_view_count": null,
            "flex_flow": null,
            "width": null,
            "min_width": null,
            "border": null,
            "align_items": null,
            "bottom": null,
            "_model_module": "@jupyter-widgets/base",
            "top": null,
            "grid_column": null,
            "overflow_y": null,
            "overflow_x": null,
            "grid_auto_flow": null,
            "grid_area": null,
            "grid_template_columns": null,
            "flex": null,
            "_model_name": "LayoutModel",
            "justify_items": null,
            "grid_row": null,
            "max_height": null,
            "align_content": null,
            "visibility": null,
            "align_self": null,
            "height": null,
            "min_height": null,
            "padding": null,
            "grid_auto_rows": null,
            "grid_gap": null,
            "max_width": null,
            "order": null,
            "_view_module_version": "1.2.0",
            "grid_template_areas": null,
            "object_position": null,
            "object_fit": null,
            "grid_auto_columns": null,
            "margin": null,
            "display": null,
            "left": null
          }
        },
        "12750ef206964d28ae8c3ce912885051": {
          "model_module": "@jupyter-widgets/controls",
          "model_name": "FloatProgressModel",
          "state": {
            "_view_name": "ProgressView",
            "style": "IPY_MODEL_eb63b934f12c4fd29e8c4d9028daf4ef",
            "_dom_classes": [],
            "description": "",
            "_model_name": "FloatProgressModel",
            "bar_style": "success",
            "max": 1,
            "_view_module": "@jupyter-widgets/controls",
            "_model_module_version": "1.5.0",
            "value": 1,
            "_view_count": null,
            "_view_module_version": "1.5.0",
            "orientation": "horizontal",
            "min": 0,
            "description_tooltip": null,
            "_model_module": "@jupyter-widgets/controls",
            "layout": "IPY_MODEL_c33d66a2163e4879994ba1655335efd5"
          }
        },
        "8e20b06178a34b489a5fc7f6b66b3f20": {
          "model_module": "@jupyter-widgets/controls",
          "model_name": "HTMLModel",
          "state": {
            "_view_name": "HTMLView",
            "style": "IPY_MODEL_0c88c885b9994df085805e91cee7e418",
            "_dom_classes": [],
            "description": "",
            "_model_name": "HTMLModel",
            "placeholder": "​",
            "_view_module": "@jupyter-widgets/controls",
            "_model_module_version": "1.5.0",
            "value": " 9920512/? [00:02&lt;00:00, 3849198.49it/s]",
            "_view_count": null,
            "_view_module_version": "1.5.0",
            "description_tooltip": null,
            "_model_module": "@jupyter-widgets/controls",
            "layout": "IPY_MODEL_534e5d3b50a84de08bf06138c3a27621"
          }
        },
        "eb63b934f12c4fd29e8c4d9028daf4ef": {
          "model_module": "@jupyter-widgets/controls",
          "model_name": "ProgressStyleModel",
          "state": {
            "_view_name": "StyleView",
            "_model_name": "ProgressStyleModel",
            "description_width": "initial",
            "_view_module": "@jupyter-widgets/base",
            "_model_module_version": "1.5.0",
            "_view_count": null,
            "_view_module_version": "1.2.0",
            "bar_color": null,
            "_model_module": "@jupyter-widgets/controls"
          }
        },
        "c33d66a2163e4879994ba1655335efd5": {
          "model_module": "@jupyter-widgets/base",
          "model_name": "LayoutModel",
          "state": {
            "_view_name": "LayoutView",
            "grid_template_rows": null,
            "right": null,
            "justify_content": null,
            "_view_module": "@jupyter-widgets/base",
            "overflow": null,
            "_model_module_version": "1.2.0",
            "_view_count": null,
            "flex_flow": null,
            "width": null,
            "min_width": null,
            "border": null,
            "align_items": null,
            "bottom": null,
            "_model_module": "@jupyter-widgets/base",
            "top": null,
            "grid_column": null,
            "overflow_y": null,
            "overflow_x": null,
            "grid_auto_flow": null,
            "grid_area": null,
            "grid_template_columns": null,
            "flex": null,
            "_model_name": "LayoutModel",
            "justify_items": null,
            "grid_row": null,
            "max_height": null,
            "align_content": null,
            "visibility": null,
            "align_self": null,
            "height": null,
            "min_height": null,
            "padding": null,
            "grid_auto_rows": null,
            "grid_gap": null,
            "max_width": null,
            "order": null,
            "_view_module_version": "1.2.0",
            "grid_template_areas": null,
            "object_position": null,
            "object_fit": null,
            "grid_auto_columns": null,
            "margin": null,
            "display": null,
            "left": null
          }
        },
        "0c88c885b9994df085805e91cee7e418": {
          "model_module": "@jupyter-widgets/controls",
          "model_name": "DescriptionStyleModel",
          "state": {
            "_view_name": "StyleView",
            "_model_name": "DescriptionStyleModel",
            "description_width": "",
            "_view_module": "@jupyter-widgets/base",
            "_model_module_version": "1.5.0",
            "_view_count": null,
            "_view_module_version": "1.2.0",
            "_model_module": "@jupyter-widgets/controls"
          }
        },
        "534e5d3b50a84de08bf06138c3a27621": {
          "model_module": "@jupyter-widgets/base",
          "model_name": "LayoutModel",
          "state": {
            "_view_name": "LayoutView",
            "grid_template_rows": null,
            "right": null,
            "justify_content": null,
            "_view_module": "@jupyter-widgets/base",
            "overflow": null,
            "_model_module_version": "1.2.0",
            "_view_count": null,
            "flex_flow": null,
            "width": null,
            "min_width": null,
            "border": null,
            "align_items": null,
            "bottom": null,
            "_model_module": "@jupyter-widgets/base",
            "top": null,
            "grid_column": null,
            "overflow_y": null,
            "overflow_x": null,
            "grid_auto_flow": null,
            "grid_area": null,
            "grid_template_columns": null,
            "flex": null,
            "_model_name": "LayoutModel",
            "justify_items": null,
            "grid_row": null,
            "max_height": null,
            "align_content": null,
            "visibility": null,
            "align_self": null,
            "height": null,
            "min_height": null,
            "padding": null,
            "grid_auto_rows": null,
            "grid_gap": null,
            "max_width": null,
            "order": null,
            "_view_module_version": "1.2.0",
            "grid_template_areas": null,
            "object_position": null,
            "object_fit": null,
            "grid_auto_columns": null,
            "margin": null,
            "display": null,
            "left": null
          }
        },
        "f16063532be743ed948b961f02a96cc6": {
          "model_module": "@jupyter-widgets/controls",
          "model_name": "HBoxModel",
          "state": {
            "_view_name": "HBoxView",
            "_dom_classes": [],
            "_model_name": "HBoxModel",
            "_view_module": "@jupyter-widgets/controls",
            "_model_module_version": "1.5.0",
            "_view_count": null,
            "_view_module_version": "1.5.0",
            "box_style": "",
            "layout": "IPY_MODEL_ed1c6d556d814bcebfc9cc9898bf2f4a",
            "_model_module": "@jupyter-widgets/controls",
            "children": [
              "IPY_MODEL_34a150743aa546ac9bf7b70bf45644b4",
              "IPY_MODEL_43b3cab149ec4e048dce45093e99eac7"
            ]
          }
        },
        "ed1c6d556d814bcebfc9cc9898bf2f4a": {
          "model_module": "@jupyter-widgets/base",
          "model_name": "LayoutModel",
          "state": {
            "_view_name": "LayoutView",
            "grid_template_rows": null,
            "right": null,
            "justify_content": null,
            "_view_module": "@jupyter-widgets/base",
            "overflow": null,
            "_model_module_version": "1.2.0",
            "_view_count": null,
            "flex_flow": null,
            "width": null,
            "min_width": null,
            "border": null,
            "align_items": null,
            "bottom": null,
            "_model_module": "@jupyter-widgets/base",
            "top": null,
            "grid_column": null,
            "overflow_y": null,
            "overflow_x": null,
            "grid_auto_flow": null,
            "grid_area": null,
            "grid_template_columns": null,
            "flex": null,
            "_model_name": "LayoutModel",
            "justify_items": null,
            "grid_row": null,
            "max_height": null,
            "align_content": null,
            "visibility": null,
            "align_self": null,
            "height": null,
            "min_height": null,
            "padding": null,
            "grid_auto_rows": null,
            "grid_gap": null,
            "max_width": null,
            "order": null,
            "_view_module_version": "1.2.0",
            "grid_template_areas": null,
            "object_position": null,
            "object_fit": null,
            "grid_auto_columns": null,
            "margin": null,
            "display": null,
            "left": null
          }
        },
        "34a150743aa546ac9bf7b70bf45644b4": {
          "model_module": "@jupyter-widgets/controls",
          "model_name": "FloatProgressModel",
          "state": {
            "_view_name": "ProgressView",
            "style": "IPY_MODEL_72c6d741c0264ed79950e180e243b191",
            "_dom_classes": [],
            "description": "",
            "_model_name": "FloatProgressModel",
            "bar_style": "success",
            "max": 1,
            "_view_module": "@jupyter-widgets/controls",
            "_model_module_version": "1.5.0",
            "value": 1,
            "_view_count": null,
            "_view_module_version": "1.5.0",
            "orientation": "horizontal",
            "min": 0,
            "description_tooltip": null,
            "_model_module": "@jupyter-widgets/controls",
            "layout": "IPY_MODEL_9aed30ba7b294b1fae69d8c8e2b5aef5"
          }
        },
        "43b3cab149ec4e048dce45093e99eac7": {
          "model_module": "@jupyter-widgets/controls",
          "model_name": "HTMLModel",
          "state": {
            "_view_name": "HTMLView",
            "style": "IPY_MODEL_24445b98c8784525b5d490aa54e2a9e5",
            "_dom_classes": [],
            "description": "",
            "_model_name": "HTMLModel",
            "placeholder": "​",
            "_view_module": "@jupyter-widgets/controls",
            "_model_module_version": "1.5.0",
            "value": " 32768/? [00:01&lt;00:00, 28839.85it/s]",
            "_view_count": null,
            "_view_module_version": "1.5.0",
            "description_tooltip": null,
            "_model_module": "@jupyter-widgets/controls",
            "layout": "IPY_MODEL_2e54b1358263472f839c8c75a989ca81"
          }
        },
        "72c6d741c0264ed79950e180e243b191": {
          "model_module": "@jupyter-widgets/controls",
          "model_name": "ProgressStyleModel",
          "state": {
            "_view_name": "StyleView",
            "_model_name": "ProgressStyleModel",
            "description_width": "initial",
            "_view_module": "@jupyter-widgets/base",
            "_model_module_version": "1.5.0",
            "_view_count": null,
            "_view_module_version": "1.2.0",
            "bar_color": null,
            "_model_module": "@jupyter-widgets/controls"
          }
        },
        "9aed30ba7b294b1fae69d8c8e2b5aef5": {
          "model_module": "@jupyter-widgets/base",
          "model_name": "LayoutModel",
          "state": {
            "_view_name": "LayoutView",
            "grid_template_rows": null,
            "right": null,
            "justify_content": null,
            "_view_module": "@jupyter-widgets/base",
            "overflow": null,
            "_model_module_version": "1.2.0",
            "_view_count": null,
            "flex_flow": null,
            "width": null,
            "min_width": null,
            "border": null,
            "align_items": null,
            "bottom": null,
            "_model_module": "@jupyter-widgets/base",
            "top": null,
            "grid_column": null,
            "overflow_y": null,
            "overflow_x": null,
            "grid_auto_flow": null,
            "grid_area": null,
            "grid_template_columns": null,
            "flex": null,
            "_model_name": "LayoutModel",
            "justify_items": null,
            "grid_row": null,
            "max_height": null,
            "align_content": null,
            "visibility": null,
            "align_self": null,
            "height": null,
            "min_height": null,
            "padding": null,
            "grid_auto_rows": null,
            "grid_gap": null,
            "max_width": null,
            "order": null,
            "_view_module_version": "1.2.0",
            "grid_template_areas": null,
            "object_position": null,
            "object_fit": null,
            "grid_auto_columns": null,
            "margin": null,
            "display": null,
            "left": null
          }
        },
        "24445b98c8784525b5d490aa54e2a9e5": {
          "model_module": "@jupyter-widgets/controls",
          "model_name": "DescriptionStyleModel",
          "state": {
            "_view_name": "StyleView",
            "_model_name": "DescriptionStyleModel",
            "description_width": "",
            "_view_module": "@jupyter-widgets/base",
            "_model_module_version": "1.5.0",
            "_view_count": null,
            "_view_module_version": "1.2.0",
            "_model_module": "@jupyter-widgets/controls"
          }
        },
        "2e54b1358263472f839c8c75a989ca81": {
          "model_module": "@jupyter-widgets/base",
          "model_name": "LayoutModel",
          "state": {
            "_view_name": "LayoutView",
            "grid_template_rows": null,
            "right": null,
            "justify_content": null,
            "_view_module": "@jupyter-widgets/base",
            "overflow": null,
            "_model_module_version": "1.2.0",
            "_view_count": null,
            "flex_flow": null,
            "width": null,
            "min_width": null,
            "border": null,
            "align_items": null,
            "bottom": null,
            "_model_module": "@jupyter-widgets/base",
            "top": null,
            "grid_column": null,
            "overflow_y": null,
            "overflow_x": null,
            "grid_auto_flow": null,
            "grid_area": null,
            "grid_template_columns": null,
            "flex": null,
            "_model_name": "LayoutModel",
            "justify_items": null,
            "grid_row": null,
            "max_height": null,
            "align_content": null,
            "visibility": null,
            "align_self": null,
            "height": null,
            "min_height": null,
            "padding": null,
            "grid_auto_rows": null,
            "grid_gap": null,
            "max_width": null,
            "order": null,
            "_view_module_version": "1.2.0",
            "grid_template_areas": null,
            "object_position": null,
            "object_fit": null,
            "grid_auto_columns": null,
            "margin": null,
            "display": null,
            "left": null
          }
        },
        "f981b922eb244e8494922dae485b4623": {
          "model_module": "@jupyter-widgets/controls",
          "model_name": "HBoxModel",
          "state": {
            "_view_name": "HBoxView",
            "_dom_classes": [],
            "_model_name": "HBoxModel",
            "_view_module": "@jupyter-widgets/controls",
            "_model_module_version": "1.5.0",
            "_view_count": null,
            "_view_module_version": "1.5.0",
            "box_style": "",
            "layout": "IPY_MODEL_3e61b2d1e9c54035b968a302232b4e6d",
            "_model_module": "@jupyter-widgets/controls",
            "children": [
              "IPY_MODEL_79e0f9c5cf5f4197aeb5bb20e0fe347e",
              "IPY_MODEL_d8af795b1de74bda95b200cf204a6aab"
            ]
          }
        },
        "3e61b2d1e9c54035b968a302232b4e6d": {
          "model_module": "@jupyter-widgets/base",
          "model_name": "LayoutModel",
          "state": {
            "_view_name": "LayoutView",
            "grid_template_rows": null,
            "right": null,
            "justify_content": null,
            "_view_module": "@jupyter-widgets/base",
            "overflow": null,
            "_model_module_version": "1.2.0",
            "_view_count": null,
            "flex_flow": null,
            "width": null,
            "min_width": null,
            "border": null,
            "align_items": null,
            "bottom": null,
            "_model_module": "@jupyter-widgets/base",
            "top": null,
            "grid_column": null,
            "overflow_y": null,
            "overflow_x": null,
            "grid_auto_flow": null,
            "grid_area": null,
            "grid_template_columns": null,
            "flex": null,
            "_model_name": "LayoutModel",
            "justify_items": null,
            "grid_row": null,
            "max_height": null,
            "align_content": null,
            "visibility": null,
            "align_self": null,
            "height": null,
            "min_height": null,
            "padding": null,
            "grid_auto_rows": null,
            "grid_gap": null,
            "max_width": null,
            "order": null,
            "_view_module_version": "1.2.0",
            "grid_template_areas": null,
            "object_position": null,
            "object_fit": null,
            "grid_auto_columns": null,
            "margin": null,
            "display": null,
            "left": null
          }
        },
        "79e0f9c5cf5f4197aeb5bb20e0fe347e": {
          "model_module": "@jupyter-widgets/controls",
          "model_name": "FloatProgressModel",
          "state": {
            "_view_name": "ProgressView",
            "style": "IPY_MODEL_5825471a4b964bb9b02aef34466d8882",
            "_dom_classes": [],
            "description": "",
            "_model_name": "FloatProgressModel",
            "bar_style": "success",
            "max": 1,
            "_view_module": "@jupyter-widgets/controls",
            "_model_module_version": "1.5.0",
            "value": 1,
            "_view_count": null,
            "_view_module_version": "1.5.0",
            "orientation": "horizontal",
            "min": 0,
            "description_tooltip": null,
            "_model_module": "@jupyter-widgets/controls",
            "layout": "IPY_MODEL_21d2c72bde044f0696f0e0fa8092332d"
          }
        },
        "d8af795b1de74bda95b200cf204a6aab": {
          "model_module": "@jupyter-widgets/controls",
          "model_name": "HTMLModel",
          "state": {
            "_view_name": "HTMLView",
            "style": "IPY_MODEL_9e8c8189107244089335e5f3dbe626f3",
            "_dom_classes": [],
            "description": "",
            "_model_name": "HTMLModel",
            "placeholder": "​",
            "_view_module": "@jupyter-widgets/controls",
            "_model_module_version": "1.5.0",
            "value": " 1654784/? [00:00&lt;00:00, 2027572.67it/s]",
            "_view_count": null,
            "_view_module_version": "1.5.0",
            "description_tooltip": null,
            "_model_module": "@jupyter-widgets/controls",
            "layout": "IPY_MODEL_7b687a67316d4dfbbf8a3e3c16ddeaa9"
          }
        },
        "5825471a4b964bb9b02aef34466d8882": {
          "model_module": "@jupyter-widgets/controls",
          "model_name": "ProgressStyleModel",
          "state": {
            "_view_name": "StyleView",
            "_model_name": "ProgressStyleModel",
            "description_width": "initial",
            "_view_module": "@jupyter-widgets/base",
            "_model_module_version": "1.5.0",
            "_view_count": null,
            "_view_module_version": "1.2.0",
            "bar_color": null,
            "_model_module": "@jupyter-widgets/controls"
          }
        },
        "21d2c72bde044f0696f0e0fa8092332d": {
          "model_module": "@jupyter-widgets/base",
          "model_name": "LayoutModel",
          "state": {
            "_view_name": "LayoutView",
            "grid_template_rows": null,
            "right": null,
            "justify_content": null,
            "_view_module": "@jupyter-widgets/base",
            "overflow": null,
            "_model_module_version": "1.2.0",
            "_view_count": null,
            "flex_flow": null,
            "width": null,
            "min_width": null,
            "border": null,
            "align_items": null,
            "bottom": null,
            "_model_module": "@jupyter-widgets/base",
            "top": null,
            "grid_column": null,
            "overflow_y": null,
            "overflow_x": null,
            "grid_auto_flow": null,
            "grid_area": null,
            "grid_template_columns": null,
            "flex": null,
            "_model_name": "LayoutModel",
            "justify_items": null,
            "grid_row": null,
            "max_height": null,
            "align_content": null,
            "visibility": null,
            "align_self": null,
            "height": null,
            "min_height": null,
            "padding": null,
            "grid_auto_rows": null,
            "grid_gap": null,
            "max_width": null,
            "order": null,
            "_view_module_version": "1.2.0",
            "grid_template_areas": null,
            "object_position": null,
            "object_fit": null,
            "grid_auto_columns": null,
            "margin": null,
            "display": null,
            "left": null
          }
        },
        "9e8c8189107244089335e5f3dbe626f3": {
          "model_module": "@jupyter-widgets/controls",
          "model_name": "DescriptionStyleModel",
          "state": {
            "_view_name": "StyleView",
            "_model_name": "DescriptionStyleModel",
            "description_width": "",
            "_view_module": "@jupyter-widgets/base",
            "_model_module_version": "1.5.0",
            "_view_count": null,
            "_view_module_version": "1.2.0",
            "_model_module": "@jupyter-widgets/controls"
          }
        },
        "7b687a67316d4dfbbf8a3e3c16ddeaa9": {
          "model_module": "@jupyter-widgets/base",
          "model_name": "LayoutModel",
          "state": {
            "_view_name": "LayoutView",
            "grid_template_rows": null,
            "right": null,
            "justify_content": null,
            "_view_module": "@jupyter-widgets/base",
            "overflow": null,
            "_model_module_version": "1.2.0",
            "_view_count": null,
            "flex_flow": null,
            "width": null,
            "min_width": null,
            "border": null,
            "align_items": null,
            "bottom": null,
            "_model_module": "@jupyter-widgets/base",
            "top": null,
            "grid_column": null,
            "overflow_y": null,
            "overflow_x": null,
            "grid_auto_flow": null,
            "grid_area": null,
            "grid_template_columns": null,
            "flex": null,
            "_model_name": "LayoutModel",
            "justify_items": null,
            "grid_row": null,
            "max_height": null,
            "align_content": null,
            "visibility": null,
            "align_self": null,
            "height": null,
            "min_height": null,
            "padding": null,
            "grid_auto_rows": null,
            "grid_gap": null,
            "max_width": null,
            "order": null,
            "_view_module_version": "1.2.0",
            "grid_template_areas": null,
            "object_position": null,
            "object_fit": null,
            "grid_auto_columns": null,
            "margin": null,
            "display": null,
            "left": null
          }
        },
        "a2e7a55750424ace9d0a6e9c0ea0b449": {
          "model_module": "@jupyter-widgets/controls",
          "model_name": "HBoxModel",
          "state": {
            "_view_name": "HBoxView",
            "_dom_classes": [],
            "_model_name": "HBoxModel",
            "_view_module": "@jupyter-widgets/controls",
            "_model_module_version": "1.5.0",
            "_view_count": null,
            "_view_module_version": "1.5.0",
            "box_style": "",
            "layout": "IPY_MODEL_b4b7a975adfe46718ed82c78d9d0d00c",
            "_model_module": "@jupyter-widgets/controls",
            "children": [
              "IPY_MODEL_5c93b1e5e3844d68882bf5ae0ea9f020",
              "IPY_MODEL_033fcb3741a343deb1d826f69a7e5add"
            ]
          }
        },
        "b4b7a975adfe46718ed82c78d9d0d00c": {
          "model_module": "@jupyter-widgets/base",
          "model_name": "LayoutModel",
          "state": {
            "_view_name": "LayoutView",
            "grid_template_rows": null,
            "right": null,
            "justify_content": null,
            "_view_module": "@jupyter-widgets/base",
            "overflow": null,
            "_model_module_version": "1.2.0",
            "_view_count": null,
            "flex_flow": null,
            "width": null,
            "min_width": null,
            "border": null,
            "align_items": null,
            "bottom": null,
            "_model_module": "@jupyter-widgets/base",
            "top": null,
            "grid_column": null,
            "overflow_y": null,
            "overflow_x": null,
            "grid_auto_flow": null,
            "grid_area": null,
            "grid_template_columns": null,
            "flex": null,
            "_model_name": "LayoutModel",
            "justify_items": null,
            "grid_row": null,
            "max_height": null,
            "align_content": null,
            "visibility": null,
            "align_self": null,
            "height": null,
            "min_height": null,
            "padding": null,
            "grid_auto_rows": null,
            "grid_gap": null,
            "max_width": null,
            "order": null,
            "_view_module_version": "1.2.0",
            "grid_template_areas": null,
            "object_position": null,
            "object_fit": null,
            "grid_auto_columns": null,
            "margin": null,
            "display": null,
            "left": null
          }
        },
        "5c93b1e5e3844d68882bf5ae0ea9f020": {
          "model_module": "@jupyter-widgets/controls",
          "model_name": "FloatProgressModel",
          "state": {
            "_view_name": "ProgressView",
            "style": "IPY_MODEL_739c4dc2383a4fa6bef034792817b404",
            "_dom_classes": [],
            "description": "  0%",
            "_model_name": "FloatProgressModel",
            "bar_style": "info",
            "max": 1,
            "_view_module": "@jupyter-widgets/controls",
            "_model_module_version": "1.5.0",
            "value": 0,
            "_view_count": null,
            "_view_module_version": "1.5.0",
            "orientation": "horizontal",
            "min": 0,
            "description_tooltip": null,
            "_model_module": "@jupyter-widgets/controls",
            "layout": "IPY_MODEL_14d486e32ada41eeb0b45098eb51b24c"
          }
        },
        "033fcb3741a343deb1d826f69a7e5add": {
          "model_module": "@jupyter-widgets/controls",
          "model_name": "HTMLModel",
          "state": {
            "_view_name": "HTMLView",
            "style": "IPY_MODEL_7a24d75e2964437e8f89f42290f5ad5b",
            "_dom_classes": [],
            "description": "",
            "_model_name": "HTMLModel",
            "placeholder": "​",
            "_view_module": "@jupyter-widgets/controls",
            "_model_module_version": "1.5.0",
            "value": " 0/4542 [00:00&lt;?, ?it/s]",
            "_view_count": null,
            "_view_module_version": "1.5.0",
            "description_tooltip": null,
            "_model_module": "@jupyter-widgets/controls",
            "layout": "IPY_MODEL_7472dbf49f464d2e88a4f6d9045ff5c0"
          }
        },
        "739c4dc2383a4fa6bef034792817b404": {
          "model_module": "@jupyter-widgets/controls",
          "model_name": "ProgressStyleModel",
          "state": {
            "_view_name": "StyleView",
            "_model_name": "ProgressStyleModel",
            "description_width": "initial",
            "_view_module": "@jupyter-widgets/base",
            "_model_module_version": "1.5.0",
            "_view_count": null,
            "_view_module_version": "1.2.0",
            "bar_color": null,
            "_model_module": "@jupyter-widgets/controls"
          }
        },
        "14d486e32ada41eeb0b45098eb51b24c": {
          "model_module": "@jupyter-widgets/base",
          "model_name": "LayoutModel",
          "state": {
            "_view_name": "LayoutView",
            "grid_template_rows": null,
            "right": null,
            "justify_content": null,
            "_view_module": "@jupyter-widgets/base",
            "overflow": null,
            "_model_module_version": "1.2.0",
            "_view_count": null,
            "flex_flow": null,
            "width": null,
            "min_width": null,
            "border": null,
            "align_items": null,
            "bottom": null,
            "_model_module": "@jupyter-widgets/base",
            "top": null,
            "grid_column": null,
            "overflow_y": null,
            "overflow_x": null,
            "grid_auto_flow": null,
            "grid_area": null,
            "grid_template_columns": null,
            "flex": null,
            "_model_name": "LayoutModel",
            "justify_items": null,
            "grid_row": null,
            "max_height": null,
            "align_content": null,
            "visibility": null,
            "align_self": null,
            "height": null,
            "min_height": null,
            "padding": null,
            "grid_auto_rows": null,
            "grid_gap": null,
            "max_width": null,
            "order": null,
            "_view_module_version": "1.2.0",
            "grid_template_areas": null,
            "object_position": null,
            "object_fit": null,
            "grid_auto_columns": null,
            "margin": null,
            "display": null,
            "left": null
          }
        },
        "7a24d75e2964437e8f89f42290f5ad5b": {
          "model_module": "@jupyter-widgets/controls",
          "model_name": "DescriptionStyleModel",
          "state": {
            "_view_name": "StyleView",
            "_model_name": "DescriptionStyleModel",
            "description_width": "",
            "_view_module": "@jupyter-widgets/base",
            "_model_module_version": "1.5.0",
            "_view_count": null,
            "_view_module_version": "1.2.0",
            "_model_module": "@jupyter-widgets/controls"
          }
        },
        "7472dbf49f464d2e88a4f6d9045ff5c0": {
          "model_module": "@jupyter-widgets/base",
          "model_name": "LayoutModel",
          "state": {
            "_view_name": "LayoutView",
            "grid_template_rows": null,
            "right": null,
            "justify_content": null,
            "_view_module": "@jupyter-widgets/base",
            "overflow": null,
            "_model_module_version": "1.2.0",
            "_view_count": null,
            "flex_flow": null,
            "width": null,
            "min_width": null,
            "border": null,
            "align_items": null,
            "bottom": null,
            "_model_module": "@jupyter-widgets/base",
            "top": null,
            "grid_column": null,
            "overflow_y": null,
            "overflow_x": null,
            "grid_auto_flow": null,
            "grid_area": null,
            "grid_template_columns": null,
            "flex": null,
            "_model_name": "LayoutModel",
            "justify_items": null,
            "grid_row": null,
            "max_height": null,
            "align_content": null,
            "visibility": null,
            "align_self": null,
            "height": null,
            "min_height": null,
            "padding": null,
            "grid_auto_rows": null,
            "grid_gap": null,
            "max_width": null,
            "order": null,
            "_view_module_version": "1.2.0",
            "grid_template_areas": null,
            "object_position": null,
            "object_fit": null,
            "grid_auto_columns": null,
            "margin": null,
            "display": null,
            "left": null
          }
        }
      }
    }
  },
  "cells": [
    {
      "cell_type": "markdown",
      "metadata": {
        "id": "Lo0lSOasECO1",
        "colab_type": "text"
      },
      "source": [
        "#Final results\n",
        "trained over 60,000 images and tested over 10,000 image from MNSIT dataset\n",
        "##CPU\n",
        "###overall:97%\n",
        "###digitwise:\n",
        "####Accuracy of 0 is : 98 %\n",
        "####Accuracy of 1 is : 98 %\n",
        "####Accuracy of 2 is : 97 %\n",
        "####Accuracy of 3 is : 96 %\n",
        "####Accuracy of 4 is : 98 %\n",
        "####Accuracy of 5 is : 96 %\n",
        "####Accuracy of 6 is : 97 %\n",
        "####Accuracy of 7 is : 96 %\n",
        "####Accuracy of 8 is : 96 %\n",
        "####Accuracy of 9 is : 94 %\n",
        "###Total time for training on *CPU* is **856.8572928905487 s** i.e approx **14.3 min**; avg **2.85 min per epoch**\n",
        "###Total time taken for training on *GPU* is **103.50141191482544 s** i.e. approx **1.7 min**; **avg 0.34 min per epoch**\n",
        "##GPU\n",
        "###overall accuracy is 97%\n",
        "####digit wise accuracy is:\n",
        "####Accuracy of 0 is : 98 %\n",
        "####Accuracy of 1 is : 98 %\n",
        "####Accuracy of 2 is : 96 %\n",
        "####Accuracy of 3 is : 98 %\n",
        "####Accuracy of 4 is : 99 %\n",
        "####Accuracy of 5 is : 95 %\n",
        "####Accuracy of 6 is : 97 %\n",
        "####Accuracy of 7 is : 96 %\n",
        "####Accuracy of 8 is : 96 %\n",
        "####Accuracy of 9 is : 95 %\n"
      ]
    },
    {
      "cell_type": "markdown",
      "metadata": {
        "id": "LLbQLjBxZryi",
        "colab_type": "text"
      },
      "source": [
        "Importing necessary modules"
      ]
    },
    {
      "cell_type": "code",
      "metadata": {
        "id": "94vU_eVXTP7V",
        "colab_type": "code",
        "colab": {}
      },
      "source": [
        "import torch\n",
        "import torchvision\n",
        "import torchvision.transforms as transforms\n",
        "import numpy as np\n",
        "import matplotlib.pyplot as plt\n",
        "import torch.optim as optim\n"
      ],
      "execution_count": 0,
      "outputs": []
    },
    {
      "cell_type": "markdown",
      "metadata": {
        "id": "XbAaeLCmaIqa",
        "colab_type": "text"
      },
      "source": [
        "Loading and normalizing MNSIT dataset"
      ]
    },
    {
      "cell_type": "code",
      "metadata": {
        "id": "KqzV9XFHZ2ls",
        "colab_type": "code",
        "colab": {
          "base_uri": "https://localhost:8080/",
          "height": 408,
          "referenced_widgets": [
            "c78efd2be4fb47448ac98ac2cbf4be50",
            "b903bc8a43d14b529238f5b12ba87aab",
            "12750ef206964d28ae8c3ce912885051",
            "8e20b06178a34b489a5fc7f6b66b3f20",
            "eb63b934f12c4fd29e8c4d9028daf4ef",
            "c33d66a2163e4879994ba1655335efd5",
            "0c88c885b9994df085805e91cee7e418",
            "534e5d3b50a84de08bf06138c3a27621",
            "f16063532be743ed948b961f02a96cc6",
            "ed1c6d556d814bcebfc9cc9898bf2f4a",
            "34a150743aa546ac9bf7b70bf45644b4",
            "43b3cab149ec4e048dce45093e99eac7",
            "72c6d741c0264ed79950e180e243b191",
            "9aed30ba7b294b1fae69d8c8e2b5aef5",
            "24445b98c8784525b5d490aa54e2a9e5",
            "2e54b1358263472f839c8c75a989ca81",
            "f981b922eb244e8494922dae485b4623",
            "3e61b2d1e9c54035b968a302232b4e6d",
            "79e0f9c5cf5f4197aeb5bb20e0fe347e",
            "d8af795b1de74bda95b200cf204a6aab",
            "5825471a4b964bb9b02aef34466d8882",
            "21d2c72bde044f0696f0e0fa8092332d",
            "9e8c8189107244089335e5f3dbe626f3",
            "7b687a67316d4dfbbf8a3e3c16ddeaa9",
            "a2e7a55750424ace9d0a6e9c0ea0b449",
            "b4b7a975adfe46718ed82c78d9d0d00c",
            "5c93b1e5e3844d68882bf5ae0ea9f020",
            "033fcb3741a343deb1d826f69a7e5add",
            "739c4dc2383a4fa6bef034792817b404",
            "14d486e32ada41eeb0b45098eb51b24c",
            "7a24d75e2964437e8f89f42290f5ad5b",
            "7472dbf49f464d2e88a4f6d9045ff5c0"
          ]
        },
        "outputId": "1e5cdb45-e2cf-4cee-dc7a-d00e9154dbdc"
      },
      "source": [
        "#convert the pil image to torch tensor and normalize it\n",
        "transform = transforms.Compose([transforms.ToTensor(),transforms.Normalize((0.1307), (0.3081))])\n",
        "trainset = torchvision.datasets.MNIST(root = './data',train=True,download=True,transform=transform)\n",
        "trainloader = torch.utils.data.DataLoader(trainset,batch_size=32,shuffle=True,num_workers=2)\n",
        "testset = torchvision.datasets.MNIST(root = './data',train=False,download=True,transform=transform)\n",
        "testloader = torch.utils.data.DataLoader(testset,batch_size=32,shuffle=False,num_workers=2)"
      ],
      "execution_count": 9,
      "outputs": [
        {
          "output_type": "stream",
          "text": [
            "Downloading http://yann.lecun.com/exdb/mnist/train-images-idx3-ubyte.gz to ./data/MNIST/raw/train-images-idx3-ubyte.gz\n"
          ],
          "name": "stdout"
        },
        {
          "output_type": "display_data",
          "data": {
            "application/vnd.jupyter.widget-view+json": {
              "model_id": "c78efd2be4fb47448ac98ac2cbf4be50",
              "version_minor": 0,
              "version_major": 2
            },
            "text/plain": [
              "HBox(children=(FloatProgress(value=1.0, bar_style='info', max=1.0), HTML(value='')))"
            ]
          },
          "metadata": {
            "tags": []
          }
        },
        {
          "output_type": "stream",
          "text": [
            "Extracting ./data/MNIST/raw/train-images-idx3-ubyte.gz to ./data/MNIST/raw\n",
            "Downloading http://yann.lecun.com/exdb/mnist/train-labels-idx1-ubyte.gz to ./data/MNIST/raw/train-labels-idx1-ubyte.gz\n"
          ],
          "name": "stdout"
        },
        {
          "output_type": "display_data",
          "data": {
            "application/vnd.jupyter.widget-view+json": {
              "model_id": "f16063532be743ed948b961f02a96cc6",
              "version_minor": 0,
              "version_major": 2
            },
            "text/plain": [
              "HBox(children=(FloatProgress(value=1.0, bar_style='info', max=1.0), HTML(value='')))"
            ]
          },
          "metadata": {
            "tags": []
          }
        },
        {
          "output_type": "stream",
          "text": [
            "Extracting ./data/MNIST/raw/train-labels-idx1-ubyte.gz to ./data/MNIST/raw\n",
            "Downloading http://yann.lecun.com/exdb/mnist/t10k-images-idx3-ubyte.gz to ./data/MNIST/raw/t10k-images-idx3-ubyte.gz\n"
          ],
          "name": "stdout"
        },
        {
          "output_type": "display_data",
          "data": {
            "application/vnd.jupyter.widget-view+json": {
              "model_id": "f981b922eb244e8494922dae485b4623",
              "version_minor": 0,
              "version_major": 2
            },
            "text/plain": [
              "HBox(children=(FloatProgress(value=1.0, bar_style='info', max=1.0), HTML(value='')))"
            ]
          },
          "metadata": {
            "tags": []
          }
        },
        {
          "output_type": "stream",
          "text": [
            "Extracting ./data/MNIST/raw/t10k-images-idx3-ubyte.gz to ./data/MNIST/raw\n",
            "Downloading http://yann.lecun.com/exdb/mnist/t10k-labels-idx1-ubyte.gz to ./data/MNIST/raw/t10k-labels-idx1-ubyte.gz\n",
            "\n",
            "\n",
            "\n"
          ],
          "name": "stdout"
        },
        {
          "output_type": "display_data",
          "data": {
            "application/vnd.jupyter.widget-view+json": {
              "model_id": "a2e7a55750424ace9d0a6e9c0ea0b449",
              "version_minor": 0,
              "version_major": 2
            },
            "text/plain": [
              "HBox(children=(FloatProgress(value=1.0, bar_style='info', max=1.0), HTML(value='')))"
            ]
          },
          "metadata": {
            "tags": []
          }
        },
        {
          "output_type": "stream",
          "text": [
            "Extracting ./data/MNIST/raw/t10k-labels-idx1-ubyte.gz to ./data/MNIST/raw\n",
            "Processing...\n",
            "Done!\n"
          ],
          "name": "stdout"
        },
        {
          "output_type": "stream",
          "text": [
            "/pytorch/torch/csrc/utils/tensor_numpy.cpp:141: UserWarning: The given NumPy array is not writeable, and PyTorch does not support non-writeable tensors. This means you can write to the underlying (supposedly non-writeable) NumPy array using the tensor. You may want to copy the array to protect its data or make it writeable before converting it to a tensor. This type of warning will be suppressed for the rest of this program.\n"
          ],
          "name": "stderr"
        }
      ]
    },
    {
      "cell_type": "code",
      "metadata": {
        "id": "bKwVypwbkWne",
        "colab_type": "code",
        "colab": {
          "base_uri": "https://localhost:8080/",
          "height": 255
        },
        "outputId": "449748ec-ce63-4be3-e51d-e277be478cf9"
      },
      "source": [
        "def imshow(img):\n",
        "  img = img/2+0.5\n",
        "  npimg = img.numpy()\n",
        "  plt.imshow(np.transpose(img,(1,2,0)))\n",
        "  plt.show()\n",
        "dataiter = iter(trainloader)\n",
        "image ,labels = dataiter.next()\n",
        "imshow(torchvision.utils.make_grid(image))\n",
        "print(labels.shape,image.shape)"
      ],
      "execution_count": 3,
      "outputs": [
        {
          "output_type": "stream",
          "text": [
            "Clipping input data to the valid range for imshow with RGB data ([0..1] for floats or [0..255] for integers).\n"
          ],
          "name": "stderr"
        },
        {
          "output_type": "display_data",
          "data": {
            "image/png": "[encoded data removed]",
            "text/plain": [
              "<Figure size 432x288 with 1 Axes>"
            ]
          },
          "metadata": {
            "tags": [],
            "needs_background": "light"
          }
        },
        {
          "output_type": "stream",
          "text": [
            "torch.Size([32]) torch.Size([32, 1, 28, 28])\n"
          ],
          "name": "stdout"
        }
      ]
    },
    {
      "cell_type": "markdown",
      "metadata": {
        "id": "49M3E7dCtBiA",
        "colab_type": "text"
      },
      "source": [
        "Define a convolutional network"
      ]
    },
    {
      "cell_type": "code",
      "metadata": {
        "id": "OQ1LrsKOmFxR",
        "colab_type": "code",
        "colab": {}
      },
      "source": [
        "import torch.nn as nn\n",
        "import torch.nn.functional as F"
      ],
      "execution_count": 0,
      "outputs": []
    },
    {
      "cell_type": "code",
      "metadata": {
        "id": "3l1m9H8-vCmH",
        "colab_type": "code",
        "colab": {}
      },
      "source": [
        "class dig_clasfr(nn.Module):\n",
        "  def __init__(self):\n",
        "    super(dig_clasfr,self).__init__()\n",
        "    self.C1 = nn.Conv2d(1,32,kernel_size=(3,3),stride=1)\n",
        "    self.C2 = nn.Conv2d(32,64,kernel_size=(3,3),stride=1)\n",
        "    self.S3 = nn.MaxPool2d(kernel_size=(2,2))\n",
        "    self.D3 = nn.Dropout2d(p=0.25)\n",
        "    self.F4 = nn.Linear(9216,128)\n",
        "    self.D4 = nn.Dropout(p=0.5)\n",
        "    self.OL = nn.Linear(128,10)\n",
        "  def forward(self,x):\n",
        "    x = F.relu(self.C1(x))\n",
        "    x = F.relu(self.C2(x))\n",
        "    x = self.S3(x)\n",
        "    x = self.D3(x)\n",
        "    x = x.view(x.size(0),-1)\n",
        "    x = F.relu(self.F4(x))\n",
        "    x = self.D4(x)\n",
        "    x = F.softmax(self.OL(x),dim = 1)\n",
        "    return x\n",
        "\n",
        "dig_clasfr = dig_clasfr()  "
      ],
      "execution_count": 0,
      "outputs": []
    },
    {
      "cell_type": "markdown",
      "metadata": {
        "id": "4zMM7miC4OV0",
        "colab_type": "text"
      },
      "source": [
        "Defining loss function and optimizer"
      ]
    },
    {
      "cell_type": "code",
      "metadata": {
        "id": "3HlL3lA84BGm",
        "colab_type": "code",
        "colab": {}
      },
      "source": [
        "criterion = nn.CrossEntropyLoss()\n",
        "optimizer = optim.SGD(dig_clasfr.parameters(),lr = 0.1)"
      ],
      "execution_count": 0,
      "outputs": []
    },
    {
      "cell_type": "markdown",
      "metadata": {
        "id": "QgihRCc345-q",
        "colab_type": "text"
      },
      "source": [
        "training over dataset"
      ]
    },
    {
      "cell_type": "code",
      "metadata": {
        "id": "kQ2oOFSX421t",
        "colab_type": "code",
        "colab": {
          "base_uri": "https://localhost:8080/",
          "height": 1000
        },
        "outputId": "7260d3f3-9eca-4864-970c-bad1a70165a6"
      },
      "source": [
        "import time\n",
        "t_start=time.time()\n",
        "for epoch in range(5):\n",
        "  running_loss = 0.0\n",
        "  for i,data in enumerate(trainloader,0):\n",
        "    img , label = data\n",
        "    #zero the parameter gradient\n",
        "    optimizer.zero_grad()\n",
        "    #forward + backward +optimization\n",
        "    output = dig_clasfr(img)\n",
        "    loss = criterion(output,label)\n",
        "    loss.backward()\n",
        "    optimizer.step()\n",
        "    running_loss += loss.item()\n",
        "    #statistics\n",
        "    if i%100 == 99:\n",
        "      print('[%d %5d] : %0.3f'%(epoch+1,i+1,running_loss/100))\n",
        "      running_loss = 0.0\n",
        "  print(\"total time taken for %d epoch is :\"%(epoch+1),str(time.time()-t_start))    \n",
        "print('Finished Training')\n",
        "\n",
        "\n"
      ],
      "execution_count": 34,
      "outputs": [
        {
          "output_type": "stream",
          "text": [
            "[1   100] : 1.487\n",
            "[1   200] : 1.492\n",
            "[1   300] : 1.488\n",
            "[1   400] : 1.488\n",
            "[1   500] : 1.494\n",
            "[1   600] : 1.490\n",
            "[1   700] : 1.489\n",
            "[1   800] : 1.493\n",
            "[1   900] : 1.492\n",
            "[1  1000] : 1.490\n",
            "[1  1100] : 1.486\n",
            "[1  1200] : 1.492\n",
            "[1  1300] : 1.489\n",
            "[1  1400] : 1.491\n",
            "[1  1500] : 1.489\n",
            "[1  1600] : 1.491\n",
            "[1  1700] : 1.488\n",
            "[1  1800] : 1.487\n",
            "total time taken for 1 epoch is : 159.66304755210876\n",
            "[2   100] : 1.491\n",
            "[2   200] : 1.488\n",
            "[2   300] : 1.491\n",
            "[2   400] : 1.490\n",
            "[2   500] : 1.485\n",
            "[2   600] : 1.494\n",
            "[2   700] : 1.482\n",
            "[2   800] : 1.490\n",
            "[2   900] : 1.491\n",
            "[2  1000] : 1.489\n",
            "[2  1100] : 1.488\n",
            "[2  1200] : 1.486\n",
            "[2  1300] : 1.484\n",
            "[2  1400] : 1.488\n",
            "[2  1500] : 1.488\n",
            "[2  1600] : 1.484\n",
            "[2  1700] : 1.488\n",
            "[2  1800] : 1.490\n",
            "total time taken for 2 epoch is : 326.5917992591858\n",
            "[3   100] : 1.485\n",
            "[3   200] : 1.488\n",
            "[3   300] : 1.490\n",
            "[3   400] : 1.487\n",
            "[3   500] : 1.484\n",
            "[3   600] : 1.483\n",
            "[3   700] : 1.491\n",
            "[3   800] : 1.483\n",
            "[3   900] : 1.481\n",
            "[3  1000] : 1.482\n",
            "[3  1100] : 1.485\n",
            "[3  1200] : 1.484\n",
            "[3  1300] : 1.483\n",
            "[3  1400] : 1.488\n",
            "[3  1500] : 1.487\n",
            "[3  1600] : 1.483\n",
            "[3  1700] : 1.485\n",
            "[3  1800] : 1.481\n",
            "total time taken for 3 epoch is : 491.6190724372864\n",
            "[4   100] : 1.486\n",
            "[4   200] : 1.487\n",
            "[4   300] : 1.484\n",
            "[4   400] : 1.485\n",
            "[4   500] : 1.484\n",
            "[4   600] : 1.482\n",
            "[4   700] : 1.482\n",
            "[4   800] : 1.487\n",
            "[4   900] : 1.485\n",
            "[4  1000] : 1.485\n",
            "[4  1100] : 1.480\n",
            "[4  1200] : 1.492\n",
            "[4  1300] : 1.489\n",
            "[4  1400] : 1.486\n",
            "[4  1500] : 1.484\n",
            "[4  1600] : 1.488\n",
            "[4  1700] : 1.481\n",
            "[4  1800] : 1.484\n",
            "total time taken for 4 epoch is : 673.1144876480103\n",
            "[5   100] : 1.485\n",
            "[5   200] : 1.483\n",
            "[5   300] : 1.482\n",
            "[5   400] : 1.486\n",
            "[5   500] : 1.485\n",
            "[5   600] : 1.482\n",
            "[5   700] : 1.483\n",
            "[5   800] : 1.485\n",
            "[5   900] : 1.485\n",
            "[5  1000] : 1.482\n",
            "[5  1100] : 1.485\n",
            "[5  1200] : 1.487\n",
            "[5  1300] : 1.487\n",
            "[5  1400] : 1.479\n",
            "[5  1500] : 1.480\n",
            "[5  1600] : 1.483\n",
            "[5  1700] : 1.484\n",
            "[5  1800] : 1.481\n",
            "total time taken for 5 epoch is : 856.8572928905487\n",
            "Finished Training\n"
          ],
          "name": "stdout"
        }
      ]
    },
    {
      "cell_type": "markdown",
      "metadata": {
        "id": "fBIlpCC0TnIX",
        "colab_type": "text"
      },
      "source": [
        "checking a sample of code"
      ]
    },
    {
      "cell_type": "code",
      "metadata": {
        "id": "TBZ6PHPxTtqV",
        "colab_type": "code",
        "colab": {
          "base_uri": "https://localhost:8080/",
          "height": 35
        },
        "outputId": "75e3a430-51ca-4cbf-c352-00e2407cbbb5"
      },
      "source": [
        "classes = ('0','1','2','3','4','5','6','7','8','9')\n",
        "classes[5]"
      ],
      "execution_count": 14,
      "outputs": [
        {
          "output_type": "execute_result",
          "data": {
            "text/plain": [
              "'5'"
            ]
          },
          "metadata": {
            "tags": []
          },
          "execution_count": 14
        }
      ]
    },
    {
      "cell_type": "code",
      "metadata": {
        "id": "sJKgeSZL-KyA",
        "colab_type": "code",
        "colab": {
          "base_uri": "https://localhost:8080/",
          "height": 292
        },
        "outputId": "75e1a3b4-f69a-422f-8a07-467fc1739399"
      },
      "source": [
        "\n",
        "dataiter = iter(testloader)\n",
        "images,labels = dataiter.next()\n",
        "imshow(torchvision.utils.make_grid(images))\n",
        "print(' '.join('%5s'%classes[labels[j]] for j in range(32)))\n",
        "output = dig_clasfr(images)\n",
        "_,predicted = torch.max(output,1)\n",
        "print(' '.join('%5s'%classes[predicted[j]] for j in range(32)))"
      ],
      "execution_count": 19,
      "outputs": [
        {
          "output_type": "stream",
          "text": [
            "Clipping input data to the valid range for imshow with RGB data ([0..1] for floats or [0..255] for integers).\n"
          ],
          "name": "stderr"
        },
        {
          "output_type": "display_data",
          "data": {
            "image/png": "[encoded data removed]",
            "text/plain": [
              "<Figure size 432x288 with 1 Axes>"
            ]
          },
          "metadata": {
            "tags": [],
            "needs_background": "light"
          }
        },
        {
          "output_type": "stream",
          "text": [
            "    7     2     1     0     4     1     4     9     5     9     0     6     9     0     1     5     9     7     3     4     9     6     6     5     4     0     7     4     0     1     3     1\n",
            "    7     2     1     0     4     1     4     9     5     9     0     6     9     0     1     5     9     7     3     4     9     6     6     5     4     0     7     4     0     1     3     1\n"
          ],
          "name": "stdout"
        }
      ]
    },
    {
      "cell_type": "markdown",
      "metadata": {
        "id": "tb-PpAyPcN9t",
        "colab_type": "text"
      },
      "source": [
        "testing the dataset over whole dataset"
      ]
    },
    {
      "cell_type": "code",
      "metadata": {
        "id": "7-ibhojfemMu",
        "colab_type": "code",
        "colab": {
          "base_uri": "https://localhost:8080/",
          "height": 35
        },
        "outputId": "93ad43f6-5712-4cd9-f438-e02e558f8bcb"
      },
      "source": [
        "correct = 0\n",
        "total = 0\n",
        "with torch.no_grad():\n",
        "  for data in testloader:\n",
        "    images,labels = data\n",
        "    outputs = dig_clasfr(images)\n",
        "    _,predicted = torch.max(outputs,1)\n",
        "    total +=labels.size(0)\n",
        "    correct += (predicted==labels).sum().item()\n",
        "print(\"accuracy of model over 10000 test images : %d %%\"%(100*correct/total))"
      ],
      "execution_count": 18,
      "outputs": [
        {
          "output_type": "stream",
          "text": [
            "accuracy of model over 10000 test images : 97 %\n"
          ],
          "name": "stdout"
        }
      ]
    },
    {
      "cell_type": "code",
      "metadata": {
        "id": "dpB8lZfLxY4n",
        "colab_type": "code",
        "colab": {
          "base_uri": "https://localhost:8080/",
          "height": 225
        },
        "outputId": "d498482a-add7-49b6-a925-5ad6bca4421e"
      },
      "source": [
        "class_correct = list(0. for i in range(10))\n",
        "class_total = list(0. for i in range(10))\n",
        "print(class_correct)\n",
        "with torch.no_grad():\n",
        "  for data in testloader:\n",
        "    images,labels = data\n",
        "    outputs = dig_clasfr(images)\n",
        "    _,predicted = torch.max(outputs,1)\n",
        "    c=(predicted == labels).squeeze()\n",
        "    for i in range(16):\n",
        "      label = labels[i]\n",
        "      class_correct[label] += c[i].item()\n",
        "      class_total[label]+=1\n",
        "print(class_correct,class_total)\n",
        "for i in range(10):\n",
        "  print(\"Accuracy of %s is : %2d %%\"%(classes[i],100*class_correct[i]/class_total[i]))"
      ],
      "execution_count": 32,
      "outputs": [
        {
          "output_type": "stream",
          "text": [
            "[0.0, 0.0, 0.0, 0.0, 0.0, 0.0, 0.0, 0.0, 0.0, 0.0]\n",
            "[468.0, 574.0, 534.0, 494.0, 499.0, 416.0, 450.0, 498.0, 453.0, 486.0] [474.0, 581.0, 545.0, 513.0, 508.0, 429.0, 460.0, 514.0, 468.0, 516.0]\n",
            "Accuracy of 0 is : 98 %\n",
            "Accuracy of 1 is : 98 %\n",
            "Accuracy of 2 is : 97 %\n",
            "Accuracy of 3 is : 96 %\n",
            "Accuracy of 4 is : 98 %\n",
            "Accuracy of 5 is : 96 %\n",
            "Accuracy of 6 is : 97 %\n",
            "Accuracy of 7 is : 96 %\n",
            "Accuracy of 8 is : 96 %\n",
            "Accuracy of 9 is : 94 %\n"
          ],
          "name": "stdout"
        }
      ]
    },
    {
      "cell_type": "markdown",
      "metadata": {
        "id": "R5cNBRRMB9-J",
        "colab_type": "text"
      },
      "source": [
        "comparing the gpu and cpu time"
      ]
    },
    {
      "cell_type": "code",
      "metadata": {
        "id": "7X-uo4tIB3Yd",
        "colab_type": "code",
        "colab": {
          "base_uri": "https://localhost:8080/",
          "height": 35
        },
        "outputId": "8b9847c2-d7af-4c34-8e14-779722b16f8a"
      },
      "source": [
        "device = torch.device(\"cuda:0\" if torch.cuda.is_available() else \"cpu\" )\n",
        "print(device)"
      ],
      "execution_count": 6,
      "outputs": [
        {
          "output_type": "stream",
          "text": [
            "cuda:0\n"
          ],
          "name": "stdout"
        }
      ]
    },
    {
      "cell_type": "code",
      "metadata": {
        "id": "24QuuUpp99lS",
        "colab_type": "code",
        "colab": {
          "base_uri": "https://localhost:8080/",
          "height": 173
        },
        "outputId": "f15a15ef-ca92-4cb1-9a50-79acc1b68ff6"
      },
      "source": [
        "dig_clasfr.to(device)"
      ],
      "execution_count": 7,
      "outputs": [
        {
          "output_type": "execute_result",
          "data": {
            "text/plain": [
              "dig_clasfr(\n",
              "  (C1): Conv2d(1, 32, kernel_size=(3, 3), stride=(1, 1))\n",
              "  (C2): Conv2d(32, 64, kernel_size=(3, 3), stride=(1, 1))\n",
              "  (S3): MaxPool2d(kernel_size=(2, 2), stride=(2, 2), padding=0, dilation=1, ceil_mode=False)\n",
              "  (D3): Dropout2d(p=0.25, inplace=False)\n",
              "  (F4): Linear(in_features=9216, out_features=128, bias=True)\n",
              "  (D4): Dropout(p=0.5, inplace=False)\n",
              "  (OL): Linear(in_features=128, out_features=10, bias=True)\n",
              ")"
            ]
          },
          "metadata": {
            "tags": []
          },
          "execution_count": 7
        }
      ]
    },
    {
      "cell_type": "code",
      "metadata": {
        "id": "MD42zvlmPRe8",
        "colab_type": "code",
        "colab": {
          "base_uri": "https://localhost:8080/",
          "height": 1000
        },
        "outputId": "9a91767d-5e55-4e60-8bba-050b96b1f905"
      },
      "source": [
        "import time\n",
        "t_start=time.time()\n",
        "for epoch in range(5):\n",
        "  running_loss = 0.0\n",
        "  for i,data in enumerate(trainloader,0):\n",
        "    img , label = data[0].to(device),data[1].to(device)\n",
        "    #zero the parameter gradient\n",
        "    optimizer.zero_grad()\n",
        "    #forward + backward +optimization\n",
        "    output = dig_clasfr(img)\n",
        "    loss = criterion(output,label)\n",
        "    loss.backward()\n",
        "    optimizer.step()\n",
        "    running_loss += loss.item()\n",
        "    #statistics\n",
        "    if i%100 == 99:\n",
        "      print('[%d %5d] : %0.3f'%(epoch+1,i+1,running_loss/100))\n",
        "      running_loss = 0.0\n",
        "  print(\"total time taken for %d epoch is :\"%(epoch+1),str(time.time()-t_start))    \n",
        "print('Finished Training')"
      ],
      "execution_count": 10,
      "outputs": [
        {
          "output_type": "stream",
          "text": [
            "[1   100] : 2.047\n",
            "[1   200] : 1.786\n",
            "[1   300] : 1.710\n",
            "[1   400] : 1.671\n",
            "[1   500] : 1.649\n",
            "[1   600] : 1.634\n",
            "[1   700] : 1.607\n",
            "[1   800] : 1.591\n",
            "[1   900] : 1.584\n",
            "[1  1000] : 1.565\n",
            "[1  1100] : 1.565\n",
            "[1  1200] : 1.551\n",
            "[1  1300] : 1.549\n",
            "[1  1400] : 1.539\n",
            "[1  1500] : 1.541\n",
            "[1  1600] : 1.532\n",
            "[1  1700] : 1.540\n",
            "[1  1800] : 1.531\n",
            "total time taken for 1 epoch is : 20.996236562728882\n",
            "[2   100] : 1.522\n",
            "[2   200] : 1.513\n",
            "[2   300] : 1.516\n",
            "[2   400] : 1.511\n",
            "[2   500] : 1.517\n",
            "[2   600] : 1.518\n",
            "[2   700] : 1.511\n",
            "[2   800] : 1.511\n",
            "[2   900] : 1.517\n",
            "[2  1000] : 1.510\n",
            "[2  1100] : 1.511\n",
            "[2  1200] : 1.501\n",
            "[2  1300] : 1.515\n",
            "[2  1400] : 1.506\n",
            "[2  1500] : 1.511\n",
            "[2  1600] : 1.510\n",
            "[2  1700] : 1.511\n",
            "[2  1800] : 1.506\n",
            "total time taken for 2 epoch is : 41.58619499206543\n",
            "[3   100] : 1.501\n",
            "[3   200] : 1.506\n",
            "[3   300] : 1.502\n",
            "[3   400] : 1.498\n",
            "[3   500] : 1.502\n",
            "[3   600] : 1.493\n",
            "[3   700] : 1.493\n",
            "[3   800] : 1.499\n",
            "[3   900] : 1.506\n",
            "[3  1000] : 1.499\n",
            "[3  1100] : 1.499\n",
            "[3  1200] : 1.504\n",
            "[3  1300] : 1.503\n",
            "[3  1400] : 1.502\n",
            "[3  1500] : 1.501\n",
            "[3  1600] : 1.503\n",
            "[3  1700] : 1.494\n",
            "[3  1800] : 1.503\n",
            "total time taken for 3 epoch is : 62.15304756164551\n",
            "[4   100] : 1.498\n",
            "[4   200] : 1.501\n",
            "[4   300] : 1.497\n",
            "[4   400] : 1.495\n",
            "[4   500] : 1.494\n",
            "[4   600] : 1.496\n",
            "[4   700] : 1.496\n",
            "[4   800] : 1.496\n",
            "[4   900] : 1.495\n",
            "[4  1000] : 1.492\n",
            "[4  1100] : 1.497\n",
            "[4  1200] : 1.494\n",
            "[4  1300] : 1.492\n",
            "[4  1400] : 1.488\n",
            "[4  1500] : 1.489\n",
            "[4  1600] : 1.487\n",
            "[4  1700] : 1.495\n",
            "[4  1800] : 1.494\n",
            "total time taken for 4 epoch is : 82.81318879127502\n",
            "[5   100] : 1.488\n",
            "[5   200] : 1.490\n",
            "[5   300] : 1.490\n",
            "[5   400] : 1.488\n",
            "[5   500] : 1.491\n",
            "[5   600] : 1.494\n",
            "[5   700] : 1.492\n",
            "[5   800] : 1.490\n",
            "[5   900] : 1.491\n",
            "[5  1000] : 1.493\n",
            "[5  1100] : 1.491\n",
            "[5  1200] : 1.491\n",
            "[5  1300] : 1.494\n",
            "[5  1400] : 1.489\n",
            "[5  1500] : 1.489\n",
            "[5  1600] : 1.488\n",
            "[5  1700] : 1.487\n",
            "[5  1800] : 1.489\n",
            "total time taken for 5 epoch is : 103.50141191482544\n",
            "Finished Training\n"
          ],
          "name": "stdout"
        }
      ]
    },
    {
      "cell_type": "code",
      "metadata": {
        "id": "WYSwlH0vQtBn",
        "colab_type": "code",
        "colab": {
          "base_uri": "https://localhost:8080/",
          "height": 35
        },
        "outputId": "9c056b9a-4ebf-4d04-bd15-bf29b0cd324c"
      },
      "source": [
        "correct = 0\n",
        "total = 0\n",
        "with torch.no_grad():\n",
        "  for data in testloader:\n",
        "    images,labels = data[0].to(device),data[1].to(device)\n",
        "    outputs = dig_clasfr(images)\n",
        "    _,predicted = torch.max(outputs,1)\n",
        "    total +=labels.size(0)\n",
        "    correct += (predicted==labels).sum().item()\n",
        "print(\"accuracy of model over 10000 test images : %d %%\"%(100*correct/total))"
      ],
      "execution_count": 11,
      "outputs": [
        {
          "output_type": "stream",
          "text": [
            "accuracy of model over 10000 test images : 97 %\n"
          ],
          "name": "stdout"
        }
      ]
    },
    {
      "cell_type": "code",
      "metadata": {
        "id": "r7FyJLTBRJoS",
        "colab_type": "code",
        "colab": {
          "base_uri": "https://localhost:8080/",
          "height": 225
        },
        "outputId": "d7bdf98c-0f03-46a6-e0a5-0cc6a8e89321"
      },
      "source": [
        "class_correct = list(0. for i in range(10))\n",
        "class_total = list(0. for i in range(10))\n",
        "print(class_correct)\n",
        "with torch.no_grad():\n",
        "  for data in testloader:\n",
        "    images,labels = data[0].to(device),data[1].to(device)\n",
        "    outputs = dig_clasfr(images)\n",
        "    _,predicted = torch.max(outputs,1)\n",
        "    c=(predicted == labels).squeeze()\n",
        "    for i in range(16):\n",
        "      label = labels[i]\n",
        "      class_correct[label] += c[i].item()\n",
        "      class_total[label]+=1\n",
        "print(class_correct,class_total)\n",
        "for i in range(10):\n",
        "  print(\"Accuracy of %s is : %2d %%\"%(classes[i],100*class_correct[i]/class_total[i]))"
      ],
      "execution_count": 15,
      "outputs": [
        {
          "output_type": "stream",
          "text": [
            "[0.0, 0.0, 0.0, 0.0, 0.0, 0.0, 0.0, 0.0, 0.0, 0.0]\n",
            "[466.0, 573.0, 525.0, 504.0, 503.0, 409.0, 449.0, 497.0, 452.0, 494.0] [474.0, 581.0, 545.0, 513.0, 508.0, 429.0, 460.0, 514.0, 468.0, 516.0]\n",
            "Accuracy of 0 is : 98 %\n",
            "Accuracy of 1 is : 98 %\n",
            "Accuracy of 2 is : 96 %\n",
            "Accuracy of 3 is : 98 %\n",
            "Accuracy of 4 is : 99 %\n",
            "Accuracy of 5 is : 95 %\n",
            "Accuracy of 6 is : 97 %\n",
            "Accuracy of 7 is : 96 %\n",
            "Accuracy of 8 is : 96 %\n",
            "Accuracy of 9 is : 95 %\n"
          ],
          "name": "stdout"
        }
      ]
    },
    {
      "cell_type": "code",
      "metadata": {
        "id": "7ZltkQ4yR_gn",
        "colab_type": "code",
        "colab": {}
      },
      "source": [
        ""
      ],
      "execution_count": 0,
      "outputs": []
    }
  ]
}