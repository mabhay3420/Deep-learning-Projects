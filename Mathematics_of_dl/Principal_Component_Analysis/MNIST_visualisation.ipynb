{
 "metadata": {
  "language_info": {
   "codemirror_mode": {
    "name": "ipython",
    "version": 3
   },
   "file_extension": ".py",
   "mimetype": "text/x-python",
   "name": "python",
   "nbconvert_exporter": "python",
   "pygments_lexer": "ipython3",
   "version": "3.8.5-final"
  },
  "orig_nbformat": 2,
  "kernelspec": {
   "name": "python38564bit3eec5dd7c18c42e9a38ae77f9ab8a8a0",
   "display_name": "Python 3.8.5 64-bit",
   "language": "python"
  }
 },
 "nbformat": 4,
 "nbformat_minor": 2,
 "cells": [
  {
   "source": [
    "## Practical Use of PCA : Visualize higher Dimensional representations"
   ],
   "cell_type": "markdown",
   "metadata": {}
  },
  {
   "cell_type": "code",
   "execution_count": null,
   "metadata": {},
   "outputs": [],
   "source": [
    "import numpy as np\n",
    "import pandas as pd\n",
    "import matplotlib.pyplot as plt\n",
    "from mpl_toolkits import mplot3d\n",
    "%matplotlib inline"
   ]
  },
  {
   "source": [
    "The csv file stores the optimal representation of images of MNIST data. Each row of csv file contains following information about each 28x28 grayscale image : 10 coordinates(For it's optimal representation in 10-D space ) and 1 label ( 1 value from 0 to 9 representing the number written on it.)"
   ],
   "cell_type": "markdown",
   "metadata": {}
  },
  {
   "cell_type": "code",
   "execution_count": null,
   "metadata": {},
   "outputs": [],
   "source": [
    "data = pd.read_csv(\"mnist.csv\",header=None,delimiter=' ')\n",
    "print(data.head())"
   ]
  },
  {
   "cell_type": "code",
   "execution_count": null,
   "metadata": {},
   "outputs": [],
   "source": [
    "image_data = data.to_numpy()\n",
    "print(image_data.shape)\n",
    "X = image_data[:,:-1]\n",
    "print(\"--- Original representation shape ---\")\n",
    "print(X.shape)\n",
    "print(\"--- Image labels ---\")\n",
    "label = image_data[:,-1:].astype(int)\n",
    "print(label.shape)"
   ]
  },
  {
   "cell_type": "code",
   "execution_count": null,
   "metadata": {},
   "outputs": [],
   "source": [
    "import numpy.linalg as LA\n",
    "eigen_val,eigen_vec = LA.eigh(np.transpose(X) @ X)\n",
    "print(eigen_val.shape)\n",
    "print(eigen_vec.shape)\n",
    "D = eigen_vec[-2:,:]\n",
    "C = X @ np.transpose(D)\n",
    "print(\"------Encoded values shape ---\\n\",C.shape)\n",
    "X_approx = C @ D\n",
    "print(\"------Decoded values shape ---\\n\",X_approx.shape)"
   ]
  },
  {
   "source": [
    "## Interesting Grouping of same category\n",
    "\n",
    "We can see that the representation of images in same category are very near each other. The boundries between different groups might not be clear in 2-D but the actual representation are in 10-D space where this boundry will be very much clear and thus helpful in making decision when a new image is presented. We can visualize the data in 3-D space too , the distinction between group will be lot more clear.\n",
    "\n",
    "There are different ways of Visualizing higher dimensional data. The [awesome article](http://colah.github.io/posts/2014-10-Visualizing-MNIST/) offers some great visulization using different techniques. Quoting from the article :\n",
    "\n",
    ">   \"There’s no way to map high-dimensional data into low dimensions and preserve all the structure. So, an approach must make trade-offs,    sacrificing one property to preserve another. PCA tries to preserve linear structure, MDS tries to preserve global geometry, and t-SNE  tries to preserve topology (neighborhood structure).\"\n"
   ],
   "cell_type": "markdown",
   "metadata": {}
  },
  {
   "cell_type": "code",
   "execution_count": null,
   "metadata": {
    "tags": []
   },
   "outputs": [],
   "source": [
    "import matplotlib.cm as cm\n",
    "df = pd.DataFrame(dict(x=C[:,0].squeeze(),y=C[:,1].squeeze(),label=label.squeeze()))\n",
    "groups = df.groupby('label')\n",
    "df.head()\n",
    "fig = plt.figure(figsize=(20,20),dpi=300)\n",
    "ax = fig.add_subplot()\n",
    "for name,group in groups:\n",
    "    ax.plot(group.x,group.y,marker='o',linestyle='',ms=7,label = str(name))\n",
    "ax.legend()\n",
    "plt.show()\n",
    "# plt.savefig(\"MNIST.png\")"
   ]
  }
 ]
}