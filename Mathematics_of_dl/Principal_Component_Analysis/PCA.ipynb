{
 "metadata": {
  "language_info": {
   "codemirror_mode": {
    "name": "ipython",
    "version": 3
   },
   "file_extension": ".py",
   "mimetype": "text/x-python",
   "name": "python",
   "nbconvert_exporter": "python",
   "pygments_lexer": "ipython3",
   "version": "3.8.5-final"
  },
  "orig_nbformat": 2,
  "kernelspec": {
   "name": "python38564bit3eec5dd7c18c42e9a38ae77f9ab8a8a0",
   "display_name": "Python 3.8.5 64-bit",
   "language": "python"
  }
 },
 "nbformat": 4,
 "nbformat_minor": 2,
 "cells": [
  {
   "source": [
    "## Simple implementation of Principal component analysis"
   ],
   "cell_type": "markdown",
   "metadata": {}
  },
  {
   "cell_type": "code",
   "execution_count": null,
   "metadata": {},
   "outputs": [],
   "source": [
    "import numpy as np\n",
    "import matplotlib.pyplot as plt\n",
    "%matplotlib inline"
   ]
  },
  {
   "source": [
    "X is the dataset we want to represent in some lower dimensional space. Each row of X represents a point in n-D space where n is the size of each row ( i.e. no of columns ). Here n = 3, in order to plot the numbers using pyplot. Our aim is to convert each 3-D point into 2-D point while preserving as much information as we can. In other words ** if we needed to convert this compressed 2-D representation into 3-D representation again, we should be as near to the real values as possible** i.e. the overall error must be as small as possible. Lossely speaking , we aim to minimize || g(C) - X ||<sub>F</sub> where C is compressed representation and g is the decoder function.and F represents Frobeous Norm.)"
   ],
   "cell_type": "markdown",
   "metadata": {}
  },
  {
   "cell_type": "code",
   "execution_count": null,
   "metadata": {},
   "outputs": [],
   "source": [
    "X = np.random.rand(5000,3)\n",
    "print(X)"
   ]
  },
  {
   "source": [
    "Calculating the eigen vectors and eigen values of X<sup>T</sup>X ."
   ],
   "cell_type": "markdown",
   "metadata": {}
  },
  {
   "cell_type": "code",
   "execution_count": null,
   "metadata": {},
   "outputs": [],
   "source": [
    "import numpy.linalg as LA\n",
    "eigen_val,eigen_vec = LA.eigh(np.transpose(X) @ X)\n",
    "print(eigen_val)\n",
    "print(eigen_vec)"
   ]
  },
  {
   "source": [
    "To decode data into 2-D space we want 2 eigen vectors corresponding to 2-largest eigen values. The eigen values produced by numpy.linalg.eigh are already in increasing order so we just choose the last 2 vectors from the list. D contains the required 2 vectors.\n",
    "\n",
    "Note : All the eigen values are real because the X<sup>T</sup>X is a real symmetric matrix. This allows us to define the ordering .In addition to this the eigen vectors are orthonormal to each other ( again because the concerned matrix is a real symmetric matrix.) This satisfies the two condition mentioned in the [proof](https://www.deeplearningbook.org/contents/linear_algebra.html):\n",
    "\n",
    ">    - All eigen vectors in matrix D should be orthogonal to each other.( D is not a square matrix so avoiding \" D is orthogonal matrix\")\n",
    ">    - DD<sup>T</sup> = I"
   ],
   "cell_type": "markdown",
   "metadata": {}
  },
  {
   "cell_type": "code",
   "execution_count": null,
   "metadata": {},
   "outputs": [],
   "source": [
    "D = eigen_vec[-2:]\n",
    "print(D)"
   ]
  },
  {
   "cell_type": "code",
   "execution_count": null,
   "metadata": {},
   "outputs": [],
   "source": [
    "print(X.shape)\n",
    "print(D.shape)"
   ]
  },
  {
   "source": [
    "In current numpy representation row represent an eigen vector ( A bit different from proof where column represent eigen vectors.) We define the Encoding function f and decoding function g ( @ represent matrix multiplication ):\n",
    ">   - g(c) = c @ D ( Consider General D )\n",
    ">   - f(x) = c = x @ D<sup>T</sup> ( Choose best c given D)\n",
    ">   - D = { k eigen vectors corresponding to k-highest eigen values }  ( Choose D such that total error is minimum ).\n",
    "\n",
    "Quoting from proof : \n",
    "\n",
    ">    \"PCA is defined by our choice of the decoding function.Specifically, to make the\n",
    ">    decoder very simple, we choose to use matrix multiplication to map the code back\n",
    ">    into R<sup>n</sup> . Let g( c ) = Dc , where D ∈ R <sup>n×l</sup> is the matrix defining the decoding.\"\n",
    "\n",
    "Notice the difference in order of multiplication. The given formula implements same things just in different order."
   ],
   "cell_type": "markdown",
   "metadata": {}
  },
  {
   "cell_type": "code",
   "execution_count": null,
   "metadata": {},
   "outputs": [],
   "source": [
    "C = X @ np.transpose(D)\n",
    "print(\"------Encoded values ---\\n\",C)\n",
    "X_approx = C @ D\n",
    "print(\"------Decoded values ---\\n\",X_approx)"
   ]
  },
  {
   "cell_type": "code",
   "execution_count": null,
   "metadata": {},
   "outputs": [],
   "source": [
    "print(\"------Encoded values ---\\n\",C)\n",
    "print(\"------Decoded values ---\\n\",X_approx)"
   ]
  },
  {
   "cell_type": "code",
   "execution_count": null,
   "metadata": {},
   "outputs": [],
   "source": [
    "class drawline():\n",
    "    def __init__(self,P1,P2,axis,color='pink'):\n",
    "        self.P1 = P1\n",
    "        self.P2 = P2\n",
    "        self.color = color\n",
    "        self.axis = axis\n",
    "\n",
    "    def draw(self):\n",
    "        x = [self.P1[0],self.P2[0]]\n",
    "        y = [self.P1[1],self.P2[1]]\n",
    "        z = [self.P1[2],self.P2[2]]\n",
    "        ax = self.axis\n",
    "        c = self.color\n",
    "        ax.plot3D(x,y,z,c=c)"
   ]
  },
  {
   "source": [
    "## PCA gives us a direction to look along for truest picture.\n",
    "\n",
    "The Graph above shows the working of PCA as follows : You encode the original 3-D data( red color ) into 2-D data ( green dots in graph below ). Now we wish to decode this encoded data again. In order to do so we are multiplying C by D where D consists of only 2 suitable eigen vectors each of length 3. ** The decoded values will all lie on a plane as the decoded points are just linear combination of these 2 eigen vectors **. So for n-D to k-D encoding we will need an optimal k-D plane to store the decoding and then we will generate an equivalent k-D plane(space) consisting of n-dimensional points ( Here we generated 2-D plane formed by 3-dimensional points ) and this k-D plane will be the truest picture we can obtain.\n",
    "\n",
    "So, We now have the explanation to our initial example for points A(1,0,0) and B(2,0,0). We could have choosen any plane parallel to x-axis but not Y-Z. In fact the planes containing x-axis are the best as they will decode into exact same picture of the two points."
   ],
   "cell_type": "markdown",
   "metadata": {}
  },
  {
   "cell_type": "code",
   "execution_count": null,
   "metadata": {},
   "outputs": [],
   "source": [
    "from mpl_toolkits import mplot3d\n",
    "\n",
    "# plt.rcParams['legend.fontsize'] = 25\n",
    "fig1 = plt.figure(figsize=(10,10))\n",
    "ax = plt.axes(projection = '3d')\n",
    "ax.scatter3D(X[:,0],X[:,1],X[:,2],c='red',label='original')\n",
    "ax.scatter3D(X_approx[:,0],X_approx[:,1],X_approx[:,2],c='blue',label='Decoded')\n",
    "ax.legend()\n",
    "\n",
    "i = 0\n",
    "for x in X:\n",
    "    x_approx = X_approx[i]\n",
    "    i+=1\n",
    "    line = drawline(x,x_approx,axis=ax)\n",
    "    line.draw()\n",
    "# plt.savefig(\"PCA_1.png\")\n"
   ]
  },
  {
   "cell_type": "code",
   "execution_count": null,
   "metadata": {},
   "outputs": [],
   "source": [
    "fig2 = plt.figure(figsize=(10,10))\n",
    "\n",
    "# plt.rcParams['legend.fontsize'] = 15 \n",
    "ax = plt.axes()\n",
    "ax.scatter(C[:,0],C[:,1],c='green',label='Encoded')\n",
    "ax.legend()\n",
    "# plt.savefig(\"PCA_2.png\")"
   ]
  },
  {
   "source": [
    "## Visualizing Simple Geometric Shapes"
   ],
   "cell_type": "markdown",
   "metadata": {}
  },
  {
   "cell_type": "code",
   "execution_count": null,
   "metadata": {},
   "outputs": [],
   "source": [
    "class PCA():\n",
    "    def __init__(self,original,k_dim):\n",
    "        self.X = original\n",
    "        self.k_dim = k_dim\n",
    "    \n",
    "    def Encode(self):\n",
    "        eigen_val,eigen_vec = LA.eigh(np.transpose(X)@X)\n",
    "        self.D = eigen_vec[- self.k_dim :]\n",
    "        self.C = self.X @ np.transpose(self.D)\n",
    "        return self.C\n",
    "    \n",
    "    def Decode(self):\n",
    "        X_approx = self.C @ self.D\n",
    "        return X_approx\n",
    "        "
   ]
  },
  {
   "cell_type": "code",
   "execution_count": null,
   "metadata": {},
   "outputs": [],
   "source": [
    "class DrawResult():\n",
    "    # import matplotlib as pyplot\n",
    "    def __init__(self,original , encoded , decoded):\n",
    "        self.X = original\n",
    "        self.C = encoded\n",
    "        self.X_approx = decoded\n",
    "    def draw_3D(self):\n",
    "        # plt.rcParams['legend.fontsize'] = 15\n",
    "        fig1 = plt.figure()\n",
    "        ax = plt.axes(projection = '3d')\n",
    "        ax.scatter3D(self.X[:,0],self.X[:,1],self.X[:,2],c='red',label='original')\n",
    "        ax.scatter3D(self.X_approx[:,0],self.X_approx[:,1],self.X_approx[:,2],c='blue',label='Decoded')\n",
    "        ax.legend()\n",
    "\n",
    "        i = 0\n",
    "        for x in self.X:\n",
    "            x_approx = self.X_approx[i]\n",
    "            i+=1\n",
    "            line = drawline(x,x_approx,axis=ax)\n",
    "            line.draw()\n",
    "    def draw_2D(self):\n",
    "        fig2 = plt.figure()\n",
    "\n",
    "        # plt.rcParams['legend.fontsize'] = 10\n",
    "        ax = plt.axes()\n",
    "        ax.scatter(self.C[:,0],self.C[:,1],c='green',label='Encoded')\n",
    "        ax.legend()"
   ]
  },
  {
   "cell_type": "code",
   "execution_count": null,
   "metadata": {},
   "outputs": [],
   "source": [
    "#Cube\n",
    "X=np.array([[0,0,0],\n",
    "   [0,0,1],\n",
    "   [0,1,0],\n",
    "   [0,1,1],\n",
    "   [1,0,0],\n",
    "   [1,0,1],\n",
    "   [1,1,0],\n",
    "   [1,1,1]])"
   ]
  },
  {
   "cell_type": "code",
   "execution_count": null,
   "metadata": {},
   "outputs": [],
   "source": [
    "Cube = PCA(X,2)\n",
    "C = Cube.Encode()\n",
    "X_approx = Cube.Decode()"
   ]
  },
  {
   "cell_type": "code",
   "execution_count": null,
   "metadata": {},
   "outputs": [],
   "source": [
    "Plot = DrawResult(X,C,X_approx)\n",
    "Plot.draw_3D()\n",
    "# plt.savefig(\"PCA_3.png\")\n",
    "Plot.draw_2D()\n",
    "# plt.savefig(\"PCA_4.png\")"
   ]
  }
 ]
}