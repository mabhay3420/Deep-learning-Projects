{
  "nbformat": 4,
  "nbformat_minor": 0,
  "metadata": {
    "colab": {
      "name": "LeNet.ipynb",
      "provenance": []
    },
    "kernelspec": {
      "name": "python3",
      "display_name": "Python 3"
    },
    "widgets": {
      "application/vnd.jupyter.widget-state+json": {
        "63ece4e1c84549e0b04af1a2d2dcf220": {
          "model_module": "@jupyter-widgets/controls",
          "model_name": "HBoxModel",
          "state": {
            "_view_name": "HBoxView",
            "_dom_classes": [],
            "_model_name": "HBoxModel",
            "_view_module": "@jupyter-widgets/controls",
            "_model_module_version": "1.5.0",
            "_view_count": null,
            "_view_module_version": "1.5.0",
            "box_style": "",
            "layout": "IPY_MODEL_709121e47dc24b2c9ebb480e39b9148e",
            "_model_module": "@jupyter-widgets/controls",
            "children": [
              "IPY_MODEL_cd57aa17d4884e44896877c20b712529",
              "IPY_MODEL_0365a15c889a467a9a8e02dd4530f36e"
            ]
          }
        },
        "709121e47dc24b2c9ebb480e39b9148e": {
          "model_module": "@jupyter-widgets/base",
          "model_name": "LayoutModel",
          "state": {
            "_view_name": "LayoutView",
            "grid_template_rows": null,
            "right": null,
            "justify_content": null,
            "_view_module": "@jupyter-widgets/base",
            "overflow": null,
            "_model_module_version": "1.2.0",
            "_view_count": null,
            "flex_flow": null,
            "width": null,
            "min_width": null,
            "border": null,
            "align_items": null,
            "bottom": null,
            "_model_module": "@jupyter-widgets/base",
            "top": null,
            "grid_column": null,
            "overflow_y": null,
            "overflow_x": null,
            "grid_auto_flow": null,
            "grid_area": null,
            "grid_template_columns": null,
            "flex": null,
            "_model_name": "LayoutModel",
            "justify_items": null,
            "grid_row": null,
            "max_height": null,
            "align_content": null,
            "visibility": null,
            "align_self": null,
            "height": null,
            "min_height": null,
            "padding": null,
            "grid_auto_rows": null,
            "grid_gap": null,
            "max_width": null,
            "order": null,
            "_view_module_version": "1.2.0",
            "grid_template_areas": null,
            "object_position": null,
            "object_fit": null,
            "grid_auto_columns": null,
            "margin": null,
            "display": null,
            "left": null
          }
        },
        "cd57aa17d4884e44896877c20b712529": {
          "model_module": "@jupyter-widgets/controls",
          "model_name": "FloatProgressModel",
          "state": {
            "_view_name": "ProgressView",
            "style": "IPY_MODEL_868ea584654a47fea9359ad27f7ee0ff",
            "_dom_classes": [],
            "description": "",
            "_model_name": "FloatProgressModel",
            "bar_style": "info",
            "max": 1,
            "_view_module": "@jupyter-widgets/controls",
            "_model_module_version": "1.5.0",
            "value": 1,
            "_view_count": null,
            "_view_module_version": "1.5.0",
            "orientation": "horizontal",
            "min": 0,
            "description_tooltip": null,
            "_model_module": "@jupyter-widgets/controls",
            "layout": "IPY_MODEL_e582e900acf040828abfaa951803f5f5"
          }
        },
        "0365a15c889a467a9a8e02dd4530f36e": {
          "model_module": "@jupyter-widgets/controls",
          "model_name": "HTMLModel",
          "state": {
            "_view_name": "HTMLView",
            "style": "IPY_MODEL_bf03dbe927b149afa903c44fe501f9a3",
            "_dom_classes": [],
            "description": "",
            "_model_name": "HTMLModel",
            "placeholder": "​",
            "_view_module": "@jupyter-widgets/controls",
            "_model_module_version": "1.5.0",
            "value": " 9920512/? [00:20&lt;00:00, 40150293.89it/s]",
            "_view_count": null,
            "_view_module_version": "1.5.0",
            "description_tooltip": null,
            "_model_module": "@jupyter-widgets/controls",
            "layout": "IPY_MODEL_9ff30e1704b843c1880e5c53fc472874"
          }
        },
        "868ea584654a47fea9359ad27f7ee0ff": {
          "model_module": "@jupyter-widgets/controls",
          "model_name": "ProgressStyleModel",
          "state": {
            "_view_name": "StyleView",
            "_model_name": "ProgressStyleModel",
            "description_width": "initial",
            "_view_module": "@jupyter-widgets/base",
            "_model_module_version": "1.5.0",
            "_view_count": null,
            "_view_module_version": "1.2.0",
            "bar_color": null,
            "_model_module": "@jupyter-widgets/controls"
          }
        },
        "e582e900acf040828abfaa951803f5f5": {
          "model_module": "@jupyter-widgets/base",
          "model_name": "LayoutModel",
          "state": {
            "_view_name": "LayoutView",
            "grid_template_rows": null,
            "right": null,
            "justify_content": null,
            "_view_module": "@jupyter-widgets/base",
            "overflow": null,
            "_model_module_version": "1.2.0",
            "_view_count": null,
            "flex_flow": null,
            "width": null,
            "min_width": null,
            "border": null,
            "align_items": null,
            "bottom": null,
            "_model_module": "@jupyter-widgets/base",
            "top": null,
            "grid_column": null,
            "overflow_y": null,
            "overflow_x": null,
            "grid_auto_flow": null,
            "grid_area": null,
            "grid_template_columns": null,
            "flex": null,
            "_model_name": "LayoutModel",
            "justify_items": null,
            "grid_row": null,
            "max_height": null,
            "align_content": null,
            "visibility": null,
            "align_self": null,
            "height": null,
            "min_height": null,
            "padding": null,
            "grid_auto_rows": null,
            "grid_gap": null,
            "max_width": null,
            "order": null,
            "_view_module_version": "1.2.0",
            "grid_template_areas": null,
            "object_position": null,
            "object_fit": null,
            "grid_auto_columns": null,
            "margin": null,
            "display": null,
            "left": null
          }
        },
        "bf03dbe927b149afa903c44fe501f9a3": {
          "model_module": "@jupyter-widgets/controls",
          "model_name": "DescriptionStyleModel",
          "state": {
            "_view_name": "StyleView",
            "_model_name": "DescriptionStyleModel",
            "description_width": "",
            "_view_module": "@jupyter-widgets/base",
            "_model_module_version": "1.5.0",
            "_view_count": null,
            "_view_module_version": "1.2.0",
            "_model_module": "@jupyter-widgets/controls"
          }
        },
        "9ff30e1704b843c1880e5c53fc472874": {
          "model_module": "@jupyter-widgets/base",
          "model_name": "LayoutModel",
          "state": {
            "_view_name": "LayoutView",
            "grid_template_rows": null,
            "right": null,
            "justify_content": null,
            "_view_module": "@jupyter-widgets/base",
            "overflow": null,
            "_model_module_version": "1.2.0",
            "_view_count": null,
            "flex_flow": null,
            "width": null,
            "min_width": null,
            "border": null,
            "align_items": null,
            "bottom": null,
            "_model_module": "@jupyter-widgets/base",
            "top": null,
            "grid_column": null,
            "overflow_y": null,
            "overflow_x": null,
            "grid_auto_flow": null,
            "grid_area": null,
            "grid_template_columns": null,
            "flex": null,
            "_model_name": "LayoutModel",
            "justify_items": null,
            "grid_row": null,
            "max_height": null,
            "align_content": null,
            "visibility": null,
            "align_self": null,
            "height": null,
            "min_height": null,
            "padding": null,
            "grid_auto_rows": null,
            "grid_gap": null,
            "max_width": null,
            "order": null,
            "_view_module_version": "1.2.0",
            "grid_template_areas": null,
            "object_position": null,
            "object_fit": null,
            "grid_auto_columns": null,
            "margin": null,
            "display": null,
            "left": null
          }
        },
        "5d5fa1576867415b8cac61137c8a1879": {
          "model_module": "@jupyter-widgets/controls",
          "model_name": "HBoxModel",
          "state": {
            "_view_name": "HBoxView",
            "_dom_classes": [],
            "_model_name": "HBoxModel",
            "_view_module": "@jupyter-widgets/controls",
            "_model_module_version": "1.5.0",
            "_view_count": null,
            "_view_module_version": "1.5.0",
            "box_style": "",
            "layout": "IPY_MODEL_ec353b253077457e86d568c26cae34a9",
            "_model_module": "@jupyter-widgets/controls",
            "children": [
              "IPY_MODEL_490c2dc27a01477ab7be8fbb381abea0",
              "IPY_MODEL_a67b98565b4c4109931db713f4d44096"
            ]
          }
        },
        "ec353b253077457e86d568c26cae34a9": {
          "model_module": "@jupyter-widgets/base",
          "model_name": "LayoutModel",
          "state": {
            "_view_name": "LayoutView",
            "grid_template_rows": null,
            "right": null,
            "justify_content": null,
            "_view_module": "@jupyter-widgets/base",
            "overflow": null,
            "_model_module_version": "1.2.0",
            "_view_count": null,
            "flex_flow": null,
            "width": null,
            "min_width": null,
            "border": null,
            "align_items": null,
            "bottom": null,
            "_model_module": "@jupyter-widgets/base",
            "top": null,
            "grid_column": null,
            "overflow_y": null,
            "overflow_x": null,
            "grid_auto_flow": null,
            "grid_area": null,
            "grid_template_columns": null,
            "flex": null,
            "_model_name": "LayoutModel",
            "justify_items": null,
            "grid_row": null,
            "max_height": null,
            "align_content": null,
            "visibility": null,
            "align_self": null,
            "height": null,
            "min_height": null,
            "padding": null,
            "grid_auto_rows": null,
            "grid_gap": null,
            "max_width": null,
            "order": null,
            "_view_module_version": "1.2.0",
            "grid_template_areas": null,
            "object_position": null,
            "object_fit": null,
            "grid_auto_columns": null,
            "margin": null,
            "display": null,
            "left": null
          }
        },
        "490c2dc27a01477ab7be8fbb381abea0": {
          "model_module": "@jupyter-widgets/controls",
          "model_name": "FloatProgressModel",
          "state": {
            "_view_name": "ProgressView",
            "style": "IPY_MODEL_804469f729874ca4a8113b80bc54830d",
            "_dom_classes": [],
            "description": "",
            "_model_name": "FloatProgressModel",
            "bar_style": "success",
            "max": 1,
            "_view_module": "@jupyter-widgets/controls",
            "_model_module_version": "1.5.0",
            "value": 1,
            "_view_count": null,
            "_view_module_version": "1.5.0",
            "orientation": "horizontal",
            "min": 0,
            "description_tooltip": null,
            "_model_module": "@jupyter-widgets/controls",
            "layout": "IPY_MODEL_acac4543f88444e2ba45aadd0462b717"
          }
        },
        "a67b98565b4c4109931db713f4d44096": {
          "model_module": "@jupyter-widgets/controls",
          "model_name": "HTMLModel",
          "state": {
            "_view_name": "HTMLView",
            "style": "IPY_MODEL_35f747a907404892996c21c5702f3832",
            "_dom_classes": [],
            "description": "",
            "_model_name": "HTMLModel",
            "placeholder": "​",
            "_view_module": "@jupyter-widgets/controls",
            "_model_module_version": "1.5.0",
            "value": " 32768/? [00:00&lt;00:00, 271232.54it/s]",
            "_view_count": null,
            "_view_module_version": "1.5.0",
            "description_tooltip": null,
            "_model_module": "@jupyter-widgets/controls",
            "layout": "IPY_MODEL_3e6a8f19c7034c1d8caa1274f30fef08"
          }
        },
        "804469f729874ca4a8113b80bc54830d": {
          "model_module": "@jupyter-widgets/controls",
          "model_name": "ProgressStyleModel",
          "state": {
            "_view_name": "StyleView",
            "_model_name": "ProgressStyleModel",
            "description_width": "initial",
            "_view_module": "@jupyter-widgets/base",
            "_model_module_version": "1.5.0",
            "_view_count": null,
            "_view_module_version": "1.2.0",
            "bar_color": null,
            "_model_module": "@jupyter-widgets/controls"
          }
        },
        "acac4543f88444e2ba45aadd0462b717": {
          "model_module": "@jupyter-widgets/base",
          "model_name": "LayoutModel",
          "state": {
            "_view_name": "LayoutView",
            "grid_template_rows": null,
            "right": null,
            "justify_content": null,
            "_view_module": "@jupyter-widgets/base",
            "overflow": null,
            "_model_module_version": "1.2.0",
            "_view_count": null,
            "flex_flow": null,
            "width": null,
            "min_width": null,
            "border": null,
            "align_items": null,
            "bottom": null,
            "_model_module": "@jupyter-widgets/base",
            "top": null,
            "grid_column": null,
            "overflow_y": null,
            "overflow_x": null,
            "grid_auto_flow": null,
            "grid_area": null,
            "grid_template_columns": null,
            "flex": null,
            "_model_name": "LayoutModel",
            "justify_items": null,
            "grid_row": null,
            "max_height": null,
            "align_content": null,
            "visibility": null,
            "align_self": null,
            "height": null,
            "min_height": null,
            "padding": null,
            "grid_auto_rows": null,
            "grid_gap": null,
            "max_width": null,
            "order": null,
            "_view_module_version": "1.2.0",
            "grid_template_areas": null,
            "object_position": null,
            "object_fit": null,
            "grid_auto_columns": null,
            "margin": null,
            "display": null,
            "left": null
          }
        },
        "35f747a907404892996c21c5702f3832": {
          "model_module": "@jupyter-widgets/controls",
          "model_name": "DescriptionStyleModel",
          "state": {
            "_view_name": "StyleView",
            "_model_name": "DescriptionStyleModel",
            "description_width": "",
            "_view_module": "@jupyter-widgets/base",
            "_model_module_version": "1.5.0",
            "_view_count": null,
            "_view_module_version": "1.2.0",
            "_model_module": "@jupyter-widgets/controls"
          }
        },
        "3e6a8f19c7034c1d8caa1274f30fef08": {
          "model_module": "@jupyter-widgets/base",
          "model_name": "LayoutModel",
          "state": {
            "_view_name": "LayoutView",
            "grid_template_rows": null,
            "right": null,
            "justify_content": null,
            "_view_module": "@jupyter-widgets/base",
            "overflow": null,
            "_model_module_version": "1.2.0",
            "_view_count": null,
            "flex_flow": null,
            "width": null,
            "min_width": null,
            "border": null,
            "align_items": null,
            "bottom": null,
            "_model_module": "@jupyter-widgets/base",
            "top": null,
            "grid_column": null,
            "overflow_y": null,
            "overflow_x": null,
            "grid_auto_flow": null,
            "grid_area": null,
            "grid_template_columns": null,
            "flex": null,
            "_model_name": "LayoutModel",
            "justify_items": null,
            "grid_row": null,
            "max_height": null,
            "align_content": null,
            "visibility": null,
            "align_self": null,
            "height": null,
            "min_height": null,
            "padding": null,
            "grid_auto_rows": null,
            "grid_gap": null,
            "max_width": null,
            "order": null,
            "_view_module_version": "1.2.0",
            "grid_template_areas": null,
            "object_position": null,
            "object_fit": null,
            "grid_auto_columns": null,
            "margin": null,
            "display": null,
            "left": null
          }
        },
        "4f6ee724a7e447d69310a7dc8f379547": {
          "model_module": "@jupyter-widgets/controls",
          "model_name": "HBoxModel",
          "state": {
            "_view_name": "HBoxView",
            "_dom_classes": [],
            "_model_name": "HBoxModel",
            "_view_module": "@jupyter-widgets/controls",
            "_model_module_version": "1.5.0",
            "_view_count": null,
            "_view_module_version": "1.5.0",
            "box_style": "",
            "layout": "IPY_MODEL_f34a4ff2b82443d9b6c1f31554f35d97",
            "_model_module": "@jupyter-widgets/controls",
            "children": [
              "IPY_MODEL_47db9b1f0db14035bac9b3985a7fce29",
              "IPY_MODEL_10aa8f63e080447bbce792b1e6cf7ba4"
            ]
          }
        },
        "f34a4ff2b82443d9b6c1f31554f35d97": {
          "model_module": "@jupyter-widgets/base",
          "model_name": "LayoutModel",
          "state": {
            "_view_name": "LayoutView",
            "grid_template_rows": null,
            "right": null,
            "justify_content": null,
            "_view_module": "@jupyter-widgets/base",
            "overflow": null,
            "_model_module_version": "1.2.0",
            "_view_count": null,
            "flex_flow": null,
            "width": null,
            "min_width": null,
            "border": null,
            "align_items": null,
            "bottom": null,
            "_model_module": "@jupyter-widgets/base",
            "top": null,
            "grid_column": null,
            "overflow_y": null,
            "overflow_x": null,
            "grid_auto_flow": null,
            "grid_area": null,
            "grid_template_columns": null,
            "flex": null,
            "_model_name": "LayoutModel",
            "justify_items": null,
            "grid_row": null,
            "max_height": null,
            "align_content": null,
            "visibility": null,
            "align_self": null,
            "height": null,
            "min_height": null,
            "padding": null,
            "grid_auto_rows": null,
            "grid_gap": null,
            "max_width": null,
            "order": null,
            "_view_module_version": "1.2.0",
            "grid_template_areas": null,
            "object_position": null,
            "object_fit": null,
            "grid_auto_columns": null,
            "margin": null,
            "display": null,
            "left": null
          }
        },
        "47db9b1f0db14035bac9b3985a7fce29": {
          "model_module": "@jupyter-widgets/controls",
          "model_name": "FloatProgressModel",
          "state": {
            "_view_name": "ProgressView",
            "style": "IPY_MODEL_ce524305bcbe470da1c0aaf230b50d73",
            "_dom_classes": [],
            "description": "  0%",
            "_model_name": "FloatProgressModel",
            "bar_style": "info",
            "max": 1,
            "_view_module": "@jupyter-widgets/controls",
            "_model_module_version": "1.5.0",
            "value": 0,
            "_view_count": null,
            "_view_module_version": "1.5.0",
            "orientation": "horizontal",
            "min": 0,
            "description_tooltip": null,
            "_model_module": "@jupyter-widgets/controls",
            "layout": "IPY_MODEL_cdab5d8d18744137b0fa54359f6a81d2"
          }
        },
        "10aa8f63e080447bbce792b1e6cf7ba4": {
          "model_module": "@jupyter-widgets/controls",
          "model_name": "HTMLModel",
          "state": {
            "_view_name": "HTMLView",
            "style": "IPY_MODEL_d60a848106f64114a2f86ae39119882e",
            "_dom_classes": [],
            "description": "",
            "_model_name": "HTMLModel",
            "placeholder": "​",
            "_view_module": "@jupyter-widgets/controls",
            "_model_module_version": "1.5.0",
            "value": " 0/1648877 [00:00&lt;?, ?it/s]",
            "_view_count": null,
            "_view_module_version": "1.5.0",
            "description_tooltip": null,
            "_model_module": "@jupyter-widgets/controls",
            "layout": "IPY_MODEL_1877020c25d047329031ad69af008886"
          }
        },
        "ce524305bcbe470da1c0aaf230b50d73": {
          "model_module": "@jupyter-widgets/controls",
          "model_name": "ProgressStyleModel",
          "state": {
            "_view_name": "StyleView",
            "_model_name": "ProgressStyleModel",
            "description_width": "initial",
            "_view_module": "@jupyter-widgets/base",
            "_model_module_version": "1.5.0",
            "_view_count": null,
            "_view_module_version": "1.2.0",
            "bar_color": null,
            "_model_module": "@jupyter-widgets/controls"
          }
        },
        "cdab5d8d18744137b0fa54359f6a81d2": {
          "model_module": "@jupyter-widgets/base",
          "model_name": "LayoutModel",
          "state": {
            "_view_name": "LayoutView",
            "grid_template_rows": null,
            "right": null,
            "justify_content": null,
            "_view_module": "@jupyter-widgets/base",
            "overflow": null,
            "_model_module_version": "1.2.0",
            "_view_count": null,
            "flex_flow": null,
            "width": null,
            "min_width": null,
            "border": null,
            "align_items": null,
            "bottom": null,
            "_model_module": "@jupyter-widgets/base",
            "top": null,
            "grid_column": null,
            "overflow_y": null,
            "overflow_x": null,
            "grid_auto_flow": null,
            "grid_area": null,
            "grid_template_columns": null,
            "flex": null,
            "_model_name": "LayoutModel",
            "justify_items": null,
            "grid_row": null,
            "max_height": null,
            "align_content": null,
            "visibility": null,
            "align_self": null,
            "height": null,
            "min_height": null,
            "padding": null,
            "grid_auto_rows": null,
            "grid_gap": null,
            "max_width": null,
            "order": null,
            "_view_module_version": "1.2.0",
            "grid_template_areas": null,
            "object_position": null,
            "object_fit": null,
            "grid_auto_columns": null,
            "margin": null,
            "display": null,
            "left": null
          }
        },
        "d60a848106f64114a2f86ae39119882e": {
          "model_module": "@jupyter-widgets/controls",
          "model_name": "DescriptionStyleModel",
          "state": {
            "_view_name": "StyleView",
            "_model_name": "DescriptionStyleModel",
            "description_width": "",
            "_view_module": "@jupyter-widgets/base",
            "_model_module_version": "1.5.0",
            "_view_count": null,
            "_view_module_version": "1.2.0",
            "_model_module": "@jupyter-widgets/controls"
          }
        },
        "1877020c25d047329031ad69af008886": {
          "model_module": "@jupyter-widgets/base",
          "model_name": "LayoutModel",
          "state": {
            "_view_name": "LayoutView",
            "grid_template_rows": null,
            "right": null,
            "justify_content": null,
            "_view_module": "@jupyter-widgets/base",
            "overflow": null,
            "_model_module_version": "1.2.0",
            "_view_count": null,
            "flex_flow": null,
            "width": null,
            "min_width": null,
            "border": null,
            "align_items": null,
            "bottom": null,
            "_model_module": "@jupyter-widgets/base",
            "top": null,
            "grid_column": null,
            "overflow_y": null,
            "overflow_x": null,
            "grid_auto_flow": null,
            "grid_area": null,
            "grid_template_columns": null,
            "flex": null,
            "_model_name": "LayoutModel",
            "justify_items": null,
            "grid_row": null,
            "max_height": null,
            "align_content": null,
            "visibility": null,
            "align_self": null,
            "height": null,
            "min_height": null,
            "padding": null,
            "grid_auto_rows": null,
            "grid_gap": null,
            "max_width": null,
            "order": null,
            "_view_module_version": "1.2.0",
            "grid_template_areas": null,
            "object_position": null,
            "object_fit": null,
            "grid_auto_columns": null,
            "margin": null,
            "display": null,
            "left": null
          }
        },
        "98cc96ad04ea4d1c8cda7b9778d513a6": {
          "model_module": "@jupyter-widgets/controls",
          "model_name": "HBoxModel",
          "state": {
            "_view_name": "HBoxView",
            "_dom_classes": [],
            "_model_name": "HBoxModel",
            "_view_module": "@jupyter-widgets/controls",
            "_model_module_version": "1.5.0",
            "_view_count": null,
            "_view_module_version": "1.5.0",
            "box_style": "",
            "layout": "IPY_MODEL_8b76864790c24b07a9d64795e02acc59",
            "_model_module": "@jupyter-widgets/controls",
            "children": [
              "IPY_MODEL_d796ea999c9049cbb5e918eba1d184d1",
              "IPY_MODEL_e6c420bc3bf14ea28d8f9213b5385d83"
            ]
          }
        },
        "8b76864790c24b07a9d64795e02acc59": {
          "model_module": "@jupyter-widgets/base",
          "model_name": "LayoutModel",
          "state": {
            "_view_name": "LayoutView",
            "grid_template_rows": null,
            "right": null,
            "justify_content": null,
            "_view_module": "@jupyter-widgets/base",
            "overflow": null,
            "_model_module_version": "1.2.0",
            "_view_count": null,
            "flex_flow": null,
            "width": null,
            "min_width": null,
            "border": null,
            "align_items": null,
            "bottom": null,
            "_model_module": "@jupyter-widgets/base",
            "top": null,
            "grid_column": null,
            "overflow_y": null,
            "overflow_x": null,
            "grid_auto_flow": null,
            "grid_area": null,
            "grid_template_columns": null,
            "flex": null,
            "_model_name": "LayoutModel",
            "justify_items": null,
            "grid_row": null,
            "max_height": null,
            "align_content": null,
            "visibility": null,
            "align_self": null,
            "height": null,
            "min_height": null,
            "padding": null,
            "grid_auto_rows": null,
            "grid_gap": null,
            "max_width": null,
            "order": null,
            "_view_module_version": "1.2.0",
            "grid_template_areas": null,
            "object_position": null,
            "object_fit": null,
            "grid_auto_columns": null,
            "margin": null,
            "display": null,
            "left": null
          }
        },
        "d796ea999c9049cbb5e918eba1d184d1": {
          "model_module": "@jupyter-widgets/controls",
          "model_name": "FloatProgressModel",
          "state": {
            "_view_name": "ProgressView",
            "style": "IPY_MODEL_1f37dba67b67448ea2ce480296986609",
            "_dom_classes": [],
            "description": "",
            "_model_name": "FloatProgressModel",
            "bar_style": "success",
            "max": 1,
            "_view_module": "@jupyter-widgets/controls",
            "_model_module_version": "1.5.0",
            "value": 1,
            "_view_count": null,
            "_view_module_version": "1.5.0",
            "orientation": "horizontal",
            "min": 0,
            "description_tooltip": null,
            "_model_module": "@jupyter-widgets/controls",
            "layout": "IPY_MODEL_283aa5514a04451ca904e8748e8fcd54"
          }
        },
        "e6c420bc3bf14ea28d8f9213b5385d83": {
          "model_module": "@jupyter-widgets/controls",
          "model_name": "HTMLModel",
          "state": {
            "_view_name": "HTMLView",
            "style": "IPY_MODEL_b8d2c6cb102841da872bdbba86cbe47a",
            "_dom_classes": [],
            "description": "",
            "_model_name": "HTMLModel",
            "placeholder": "​",
            "_view_module": "@jupyter-widgets/controls",
            "_model_module_version": "1.5.0",
            "value": " 8192/? [00:00&lt;00:00, 35546.75it/s]",
            "_view_count": null,
            "_view_module_version": "1.5.0",
            "description_tooltip": null,
            "_model_module": "@jupyter-widgets/controls",
            "layout": "IPY_MODEL_b7523bf19d31497fab86f28a7102840e"
          }
        },
        "1f37dba67b67448ea2ce480296986609": {
          "model_module": "@jupyter-widgets/controls",
          "model_name": "ProgressStyleModel",
          "state": {
            "_view_name": "StyleView",
            "_model_name": "ProgressStyleModel",
            "description_width": "initial",
            "_view_module": "@jupyter-widgets/base",
            "_model_module_version": "1.5.0",
            "_view_count": null,
            "_view_module_version": "1.2.0",
            "bar_color": null,
            "_model_module": "@jupyter-widgets/controls"
          }
        },
        "283aa5514a04451ca904e8748e8fcd54": {
          "model_module": "@jupyter-widgets/base",
          "model_name": "LayoutModel",
          "state": {
            "_view_name": "LayoutView",
            "grid_template_rows": null,
            "right": null,
            "justify_content": null,
            "_view_module": "@jupyter-widgets/base",
            "overflow": null,
            "_model_module_version": "1.2.0",
            "_view_count": null,
            "flex_flow": null,
            "width": null,
            "min_width": null,
            "border": null,
            "align_items": null,
            "bottom": null,
            "_model_module": "@jupyter-widgets/base",
            "top": null,
            "grid_column": null,
            "overflow_y": null,
            "overflow_x": null,
            "grid_auto_flow": null,
            "grid_area": null,
            "grid_template_columns": null,
            "flex": null,
            "_model_name": "LayoutModel",
            "justify_items": null,
            "grid_row": null,
            "max_height": null,
            "align_content": null,
            "visibility": null,
            "align_self": null,
            "height": null,
            "min_height": null,
            "padding": null,
            "grid_auto_rows": null,
            "grid_gap": null,
            "max_width": null,
            "order": null,
            "_view_module_version": "1.2.0",
            "grid_template_areas": null,
            "object_position": null,
            "object_fit": null,
            "grid_auto_columns": null,
            "margin": null,
            "display": null,
            "left": null
          }
        },
        "b8d2c6cb102841da872bdbba86cbe47a": {
          "model_module": "@jupyter-widgets/controls",
          "model_name": "DescriptionStyleModel",
          "state": {
            "_view_name": "StyleView",
            "_model_name": "DescriptionStyleModel",
            "description_width": "",
            "_view_module": "@jupyter-widgets/base",
            "_model_module_version": "1.5.0",
            "_view_count": null,
            "_view_module_version": "1.2.0",
            "_model_module": "@jupyter-widgets/controls"
          }
        },
        "b7523bf19d31497fab86f28a7102840e": {
          "model_module": "@jupyter-widgets/base",
          "model_name": "LayoutModel",
          "state": {
            "_view_name": "LayoutView",
            "grid_template_rows": null,
            "right": null,
            "justify_content": null,
            "_view_module": "@jupyter-widgets/base",
            "overflow": null,
            "_model_module_version": "1.2.0",
            "_view_count": null,
            "flex_flow": null,
            "width": null,
            "min_width": null,
            "border": null,
            "align_items": null,
            "bottom": null,
            "_model_module": "@jupyter-widgets/base",
            "top": null,
            "grid_column": null,
            "overflow_y": null,
            "overflow_x": null,
            "grid_auto_flow": null,
            "grid_area": null,
            "grid_template_columns": null,
            "flex": null,
            "_model_name": "LayoutModel",
            "justify_items": null,
            "grid_row": null,
            "max_height": null,
            "align_content": null,
            "visibility": null,
            "align_self": null,
            "height": null,
            "min_height": null,
            "padding": null,
            "grid_auto_rows": null,
            "grid_gap": null,
            "max_width": null,
            "order": null,
            "_view_module_version": "1.2.0",
            "grid_template_areas": null,
            "object_position": null,
            "object_fit": null,
            "grid_auto_columns": null,
            "margin": null,
            "display": null,
            "left": null
          }
        }
      }
    }
  },
  "cells": [
    {
      "cell_type": "code",
      "metadata": {
        "id": "cke-_SGPAJvS",
        "colab_type": "code",
        "colab": {}
      },
      "source": [
        "import torch\n",
        "import torch.nn as nn\n",
        "import torch.optim as optim\n",
        "from torch.nn import functional\n",
        "import torchvision\n",
        "import numpy as np\n",
        "import matplotlib.pyplot as plt\n",
        "import time\n",
        "from IPython import display"
      ],
      "execution_count": 0,
      "outputs": []
    },
    {
      "cell_type": "markdown",
      "metadata": {
        "id": "i-UU8wRtBiI7",
        "colab_type": "text"
      },
      "source": [
        "for grayscale and inline plotting"
      ]
    },
    {
      "cell_type": "code",
      "metadata": {
        "id": "0tUouiSiBIy0",
        "colab_type": "code",
        "colab": {}
      },
      "source": [
        "%matplotlib inline\n",
        "plt.rcParams['image.cmap']= \"gray\""
      ],
      "execution_count": 0,
      "outputs": []
    },
    {
      "cell_type": "markdown",
      "metadata": {
        "id": "oLCEpkkhB0kp",
        "colab_type": "text"
      },
      "source": [
        "#Visualisation"
      ]
    },
    {
      "cell_type": "code",
      "metadata": {
        "id": "we66e6IVBZ2O",
        "colab_type": "code",
        "colab": {}
      },
      "source": [
        "def plot_image(image):\n",
        "  nr,nc = image.shape\n",
        "  extent = [-0.5,nr - 0.5, nc - 0.5,-0.5]\n",
        "  plt.imshow(image ,extent=extent,origin='upper',interpolation='nearest')"
      ],
      "execution_count": 0,
      "outputs": []
    },
    {
      "cell_type": "code",
      "metadata": {
        "id": "a-zER4AACtiT",
        "colab_type": "code",
        "colab": {}
      },
      "source": [
        "  def visualize(t, loss, errcl, x5, x4 ,x3,x0,w1):\n",
        "    loss_avg = np.divide(np.cumsum(loss[: t+1]),range(1,t+2))\n",
        "\n",
        "    errcl_avg = np.divide(np.cumsum(errcl[: t+1]),range(1,t+2))\n",
        "\n",
        "    n_last_batches  = np.min([20,t])\n",
        "    k = np.ones(n_last_batches*2+1)/(n_last_batches+1)\n",
        "    k[:n_last_batches]=0\n",
        "    errcl_sm = np.convolve(np.pad(errcl, mode=\"edge\", pad_width=n_last_batches), k, mode=\"valid\")\n",
        "    errcl_sm = errcl_sm[: len(errcl_avg)]\n",
        "\n",
        "    loss_sm = np.convolve(np.pad(loss, mode=\"edge\", pad_width=n_last_batches), k, mode=\"valid\")\n",
        "    loss_sm = loss_sm[: len(loss)]\n",
        "\n",
        "    display.clear_output(wait=True)\n",
        "\n",
        "    plt.subplot(4, 3, 1)\n",
        "    plt.plot(loss, label=\"loss\")\n",
        "    plt.plot(loss_sm, label=\"smothed loss\")\n",
        "    plt.plot(loss_avg, label=\"avg loss\")\n",
        "    plt.legend()\n",
        "    plt.ylim(0, np.max(loss)*1.05)\n",
        "    plt.title(\"loss: avg - %.4f, smoothed - %.4f, current - %.4f\"  % (loss_avg[t], loss_sm[t], loss[t]))\n",
        "\n",
        "    plt.subplot(4, 3, 2)\n",
        "    plt.plot(errcl, label=\"cl err\")\n",
        "    plt.plot(errcl_sm, label=\"smothed cl err\")\n",
        "    plt.plot(errcl_avg, label=\"avg cl err\")\n",
        "    plt.legend()\n",
        "    plt.ylim(0, np.max(errcl)*1.05)\n",
        "    plt.title(\"cl error: avg - %.4f, smoothed - %.4f, current - %.4f\"  % (errcl_avg[t], errcl_sm[t], errcl[t]))\n",
        "    \n",
        "    plt.subplot(4, 3, 3)\n",
        "    plt.bar(range(len(x5)), x5)\n",
        "    plt.title(\"class confidences\")\n",
        "\n",
        "    plt.subplot(4,3,4)\n",
        "    plt.hist(x4)\n",
        "    plt.title(\"F6 activations\")\n",
        "\n",
        "    plt.subplot(4,3,5)\n",
        "    plt.hist(x3)\n",
        "    plt.title(\"C5 activations\")\n",
        "\n",
        "    plt.subplot(4,3,6)\n",
        "    plot_image(x0)\n",
        "    plt.title(\"input image\")\n",
        "\n",
        "    for i in range(w1.shape[0]):\n",
        "        plt.subplot(4,3,7+i)\n",
        "        plot_image(w1[i])\n",
        "        plt.title(\"C1 kernel channel \" + str(i))\n",
        "\n",
        "    plt.subplots_adjust(wspace=0.5)\n",
        "    plt.subplots_adjust(hspace=0.5)\n",
        "    plt.gcf().set_size_inches(18.5, 10.5)\n",
        "    display.display(plt.gcf())\n"
      ],
      "execution_count": 0,
      "outputs": []
    },
    {
      "cell_type": "markdown",
      "metadata": {
        "id": "Pcirt3Sjesg4",
        "colab_type": "text"
      },
      "source": [
        "data loading"
      ]
    },
    {
      "cell_type": "code",
      "metadata": {
        "id": "6lT4iwgFC5zc",
        "colab_type": "code",
        "outputId": "5857f67b-6d75-45ce-d9bb-1518615d47e1",
        "colab": {
          "base_uri": "https://localhost:8080/",
          "height": 408,
          "referenced_widgets": [
            "63ece4e1c84549e0b04af1a2d2dcf220",
            "709121e47dc24b2c9ebb480e39b9148e",
            "cd57aa17d4884e44896877c20b712529",
            "0365a15c889a467a9a8e02dd4530f36e",
            "868ea584654a47fea9359ad27f7ee0ff",
            "e582e900acf040828abfaa951803f5f5",
            "bf03dbe927b149afa903c44fe501f9a3",
            "9ff30e1704b843c1880e5c53fc472874",
            "5d5fa1576867415b8cac61137c8a1879",
            "ec353b253077457e86d568c26cae34a9",
            "490c2dc27a01477ab7be8fbb381abea0",
            "a67b98565b4c4109931db713f4d44096",
            "804469f729874ca4a8113b80bc54830d",
            "acac4543f88444e2ba45aadd0462b717",
            "35f747a907404892996c21c5702f3832",
            "3e6a8f19c7034c1d8caa1274f30fef08",
            "4f6ee724a7e447d69310a7dc8f379547",
            "f34a4ff2b82443d9b6c1f31554f35d97",
            "47db9b1f0db14035bac9b3985a7fce29",
            "10aa8f63e080447bbce792b1e6cf7ba4",
            "ce524305bcbe470da1c0aaf230b50d73",
            "cdab5d8d18744137b0fa54359f6a81d2",
            "d60a848106f64114a2f86ae39119882e",
            "1877020c25d047329031ad69af008886",
            "98cc96ad04ea4d1c8cda7b9778d513a6",
            "8b76864790c24b07a9d64795e02acc59",
            "d796ea999c9049cbb5e918eba1d184d1",
            "e6c420bc3bf14ea28d8f9213b5385d83",
            "1f37dba67b67448ea2ce480296986609",
            "283aa5514a04451ca904e8748e8fcd54",
            "b8d2c6cb102841da872bdbba86cbe47a",
            "b7523bf19d31497fab86f28a7102840e"
          ]
        }
      },
      "source": [
        "import urllib\n",
        "try :\n",
        "  #for python2\n",
        "  class AppURLopener(urllib.FancyURLopener):\n",
        "    version = \"Mozilla/5.0\"\n",
        "  \n",
        "  urllib._urlopener = AppURLopener()\n",
        "except AttributeError:\n",
        "    # For python 3\n",
        "    opener = urllib.request.build_opener()\n",
        "    opener.addheaders = [('User-agent', 'Mozilla/5.0')]\n",
        "    urllib.request.install_opener(opener)\n",
        "\n",
        "mnist = torchvision.datasets.MNIST(root='data',train=True,download=True)\n",
        "trainimages = mnist.data\n",
        "trainlabels = mnist.targets\n",
        "\n",
        "#training data shape\n",
        "print (\"Training data shape is :\",list(trainimages.size()))\n",
        "print (\"Training target shape is :\",list(trainlabels.size()))"
      ],
      "execution_count": 5,
      "outputs": [
        {
          "output_type": "stream",
          "text": [
            "Downloading http://yann.lecun.com/exdb/mnist/train-images-idx3-ubyte.gz to data/MNIST/raw/train-images-idx3-ubyte.gz\n"
          ],
          "name": "stdout"
        },
        {
          "output_type": "display_data",
          "data": {
            "application/vnd.jupyter.widget-view+json": {
              "model_id": "63ece4e1c84549e0b04af1a2d2dcf220",
              "version_minor": 0,
              "version_major": 2
            },
            "text/plain": [
              "HBox(children=(FloatProgress(value=1.0, bar_style='info', max=1.0), HTML(value='')))"
            ]
          },
          "metadata": {
            "tags": []
          }
        },
        {
          "output_type": "stream",
          "text": [
            "Extracting data/MNIST/raw/train-images-idx3-ubyte.gz to data/MNIST/raw\n",
            "Downloading http://yann.lecun.com/exdb/mnist/train-labels-idx1-ubyte.gz to data/MNIST/raw/train-labels-idx1-ubyte.gz\n"
          ],
          "name": "stdout"
        },
        {
          "output_type": "display_data",
          "data": {
            "application/vnd.jupyter.widget-view+json": {
              "model_id": "5d5fa1576867415b8cac61137c8a1879",
              "version_minor": 0,
              "version_major": 2
            },
            "text/plain": [
              "HBox(children=(FloatProgress(value=1.0, bar_style='info', max=1.0), HTML(value='')))"
            ]
          },
          "metadata": {
            "tags": []
          }
        },
        {
          "output_type": "stream",
          "text": [
            "Extracting data/MNIST/raw/train-labels-idx1-ubyte.gz to data/MNIST/raw\n",
            "Downloading http://yann.lecun.com/exdb/mnist/t10k-images-idx3-ubyte.gz to data/MNIST/raw/t10k-images-idx3-ubyte.gz\n",
            "\n"
          ],
          "name": "stdout"
        },
        {
          "output_type": "display_data",
          "data": {
            "application/vnd.jupyter.widget-view+json": {
              "model_id": "4f6ee724a7e447d69310a7dc8f379547",
              "version_minor": 0,
              "version_major": 2
            },
            "text/plain": [
              "HBox(children=(FloatProgress(value=1.0, bar_style='info', max=1.0), HTML(value='')))"
            ]
          },
          "metadata": {
            "tags": []
          }
        },
        {
          "output_type": "stream",
          "text": [
            "Extracting data/MNIST/raw/t10k-images-idx3-ubyte.gz to data/MNIST/raw\n",
            "Downloading http://yann.lecun.com/exdb/mnist/t10k-labels-idx1-ubyte.gz to data/MNIST/raw/t10k-labels-idx1-ubyte.gz\n"
          ],
          "name": "stdout"
        },
        {
          "output_type": "display_data",
          "data": {
            "application/vnd.jupyter.widget-view+json": {
              "model_id": "98cc96ad04ea4d1c8cda7b9778d513a6",
              "version_minor": 0,
              "version_major": 2
            },
            "text/plain": [
              "HBox(children=(FloatProgress(value=1.0, bar_style='info', max=1.0), HTML(value='')))"
            ]
          },
          "metadata": {
            "tags": []
          }
        },
        {
          "output_type": "stream",
          "text": [
            "Extracting data/MNIST/raw/t10k-labels-idx1-ubyte.gz to data/MNIST/raw\n",
            "Processing...\n",
            "Done!\n",
            "Training data shape is : [60000, 28, 28]\n",
            "Training target shape is : [60000]\n"
          ],
          "name": "stdout"
        },
        {
          "output_type": "stream",
          "text": [
            "/pytorch/torch/csrc/utils/tensor_numpy.cpp:141: UserWarning: The given NumPy array is not writeable, and PyTorch does not support non-writeable tensors. This means you can write to the underlying (supposedly non-writeable) NumPy array using the tensor. You may want to copy the array to protect its data or make it writeable before converting it to a tensor. This type of warning will be suppressed for the rest of this program.\n"
          ],
          "name": "stderr"
        }
      ]
    },
    {
      "cell_type": "markdown",
      "metadata": {
        "id": "NfsxXO4RxgLC",
        "colab_type": "text"
      },
      "source": [
        "## LeNet-5 Architecture\n",
        "\n",
        "![Original Architecture of LeNet-5](https://miro.medium.com/max/4308/1*1TI1aGBZ4dybR6__DI9dzA.png)\n",
        "\n",
        "The original architecture of LeNet-5. In this homework, we use max instead of average pooling for subsampling, and use fully connected instead of gaussian final layer. "
      ]
    },
    {
      "cell_type": "code",
      "metadata": {
        "id": "tRUeelZAjTtT",
        "colab_type": "code",
        "colab": {}
      },
      "source": [
        "class LeNet5(nn.Module):\n",
        "  def  __init__(self):\n",
        "    super(LeNet5,self).__init__()\n",
        "    self.C1 = nn.Conv2d(1,6,kernel_size=(5,5))\n",
        "    self.S1 = nn.MaxPool2d(kernel_size=(2,2),stride= 2)\n",
        "    self.C3 = nn.Conv2d(6,16,kernel_size=(5,5))\n",
        "    self.S4 = nn.MaxPool2d(kernel_size=(2,2),stride=2)\n",
        "    self.C5 = nn.Conv2d(16,120,kernel_size=(5,5))\n",
        "    self.F6 = nn.Linear(120,84)\n",
        "    self.OL = nn.Linear(84,10)\n",
        "\n",
        "    self.record = {\"C5 \": None,\"F6\":None}\n",
        "\n",
        "  def forward(self,x):\n",
        "    x = torch.tanh(self.C1(x))\n",
        "    x = self.S1(x)\n",
        "    x = torch.tanh(self.C3(x))\n",
        "    x = self.S4(x)\n",
        "    x = torch.tanh(self.C5(x))\n",
        "\n",
        "    x = x.view(x.size(0),-1)\n",
        "\n",
        "    self.record[\"C5\"] = x.clone().detach().numpy()\n",
        "\n",
        "    x = torch.tanh(self.F6(x))\n",
        "\n",
        "    self.record[\"F6\"] = x.clone().detach().numpy()\n",
        "\n",
        "    x = torch.tanh(self.OL(x))\n",
        "    return x"
      ],
      "execution_count": 0,
      "outputs": []
    },
    {
      "cell_type": "code",
      "metadata": {
        "id": "HcGBrO4z_Z1-",
        "colab_type": "code",
        "colab": {}
      },
      "source": [
        ""
      ],
      "execution_count": 0,
      "outputs": []
    },
    {
      "cell_type": "markdown",
      "metadata": {
        "id": "ZdYszKZcwy2A",
        "colab_type": "text"
      },
      "source": [
        "#Training with pytorch"
      ]
    },
    {
      "cell_type": "code",
      "metadata": {
        "id": "xIeeQ-tIrnFw",
        "colab_type": "code",
        "outputId": "b9fa1c6d-067e-4987-b723-ebd28a817642",
        "colab": {
          "base_uri": "https://localhost:8080/",
          "height": 1000
        }
      },
      "source": [
        "ntrain = trainimages.shape[0];\n",
        "n_epoch = 10;\n",
        "disp_freq = 100 #display freq\n",
        "batch_size = 32\n",
        "\n",
        "errs = []\n",
        "losses = []\n",
        "lenet5 =LeNet5()\n",
        "#using SGD (mini_batch)\n",
        "optimizer = optim.SGD(params = lenet5.parameters(),lr = 0.1)\n",
        "\n",
        "t_start = time.time()\n",
        "for iepoch in range(n_epoch):\n",
        "  for t in range(int(ntrain/batch_size)):\n",
        "    batchindices = np.random.choice(ntrain,batch_size,replace=False)\n",
        "    trainlabels_iter = trainlabels[batchindices]\n",
        "\n",
        "    #labeling of data as 1 and -1 for true and false respectively\n",
        "    y = torch.ones(10,batch_size)*(-1)\n",
        "    y[trainlabels_iter,torch.arange(batch_size,dtype=torch.int64)] = 1\n",
        "\n",
        "    #normalizing image data\n",
        "    imgs = torch.zeros([batch_size,1,32,32])\n",
        "    imgs[:,0,2: -2 ,2 : -2] = trainimages[batchindices].float()/255\n",
        "\n",
        "    #cleaning gradient buffer\n",
        "    optimizer.zero_grad()\n",
        "\n",
        "    #forward pass\n",
        "    out = lenet5(imgs)\n",
        "\n",
        "    #MSE loss\n",
        "    loss = torch.mean(0.5*(y-out.t())**2)\n",
        "\n",
        "    #backward pass\n",
        "    loss.backward()\n",
        "    \n",
        "    #update parameters\n",
        "    optimizer.step()\n",
        "\n",
        "    #calculating error rate and loss for plot\n",
        "    pred = torch.argmax(out,dim = 1)\n",
        "    err = torch.mean((pred != trainlabels_iter).float())\n",
        "    errs.append(err.detach().numpy())\n",
        "    losses.append(loss.detach().numpy())\n",
        "\n",
        "    #plots\n",
        "    if (t + 1) % disp_freq == 0:\n",
        "            plt.gcf().clear()\n",
        "            visualize(len(errs) - 1, losses, errs, out[0,:].detach(), lenet5.record[\"F6\"][:, 0], \n",
        "                      lenet5.record[\"C5\"][:, 0], imgs[0, 0].detach(), lenet5.C1.weight.detach().squeeze())\n",
        "            print(str(time.time() - t_start) + \" seconds per \" + str(disp_freq) + \" iterations\")\n",
        "            t_start = time.time()\n",
        "            time.sleep(0.01)\n",
        "\n",
        "    \n"
      ],
      "execution_count": 14,
      "outputs": [
        {
          "output_type": "display_data",
          "data": {
            "image/png": "[encoded data removed]",
            "text/plain": [
              "<Figure size 1332x756 with 12 Axes>"
            ]
          },
          "metadata": {
            "tags": []
          }
        },
        {
          "output_type": "stream",
          "text": [
            "3.1303369998931885 seconds per 100 iterations\n"
          ],
          "name": "stdout"
        },
        {
          "output_type": "display_data",
          "data": {
            "image/png": "[encoded data removed]",
            "text/plain": [
              "<Figure size 1332x756 with 12 Axes>"
            ]
          },
          "metadata": {
            "tags": [],
            "needs_background": "light"
          }
        }
      ]
    },
    {
      "cell_type": "markdown",
      "metadata": {
        "id": "nfmWL409BmJl",
        "colab_type": "text"
      },
      "source": [
        "#changing the network a bit"
      ]
    },
    {
      "cell_type": "markdown",
      "metadata": {
        "id": "xD5Y1q-9Brzy",
        "colab_type": "text"
      },
      "source": [
        "we are going to use relu in place of tanh and convert C5 into F5 i.e. fully connected layer.also we will use softmax for output"
      ]
    },
    {
      "cell_type": "code",
      "metadata": {
        "id": "3BZAZeml86Le",
        "colab_type": "code",
        "colab": {}
      },
      "source": [
        "class LeNet5_relu(nn.Module):\n",
        "  def __init__(self):\n",
        "    super(LeNet5_relu,self).__init__()\n",
        "    self.C1 = nn.Conv2d(1,6,kernel_size=(5,5))\n",
        "    self.S2 = nn.MaxPool2d(kernel_size=(2,2),stride=2)\n",
        "    self.C3 = nn.Conv2d(6,16,kernel_size=(5,5))\n",
        "    self.S4 = nn.MaxPool2d(kernel_size=(2,2),stride=2)\n",
        "    self.F5 = nn.Linear(400,120)\n",
        "    self.F6 = nn.Linear(120,84)\n",
        "    self.OL = nn.Linear(84,10)\n",
        "    self.record = {\"F5\":None,\"F6\":None}\n",
        "\n",
        "  def forward(self,x):\n",
        "    x = torch.relu(self.C1(x))\n",
        "    x = self.S2(x)\n",
        "    x = torch.relu(self.C3(x))\n",
        "    x = self.S4(x)\n",
        "    x = x.view(x.size(0),-1)\n",
        "    x = torch.relu(self.F5(x))\n",
        "    \n",
        "    self.record[\"F5\"] = x.clone().detach().numpy()\n",
        "\n",
        "    x = torch.relu(self.F6(x))\n",
        "\n",
        "    self.record[\"F6\"] = x.clone().detach().numpy()\n",
        "\n",
        "    x = functional.softmax(self.OL(x),dim = 1)\n",
        "    return x\n",
        " "
      ],
      "execution_count": 0,
      "outputs": []
    },
    {
      "cell_type": "code",
      "metadata": {
        "id": "4E2iExXjFbeB",
        "colab_type": "code",
        "colab": {}
      },
      "source": [
        ""
      ],
      "execution_count": 0,
      "outputs": []
    },
    {
      "cell_type": "code",
      "metadata": {
        "colab_type": "code",
        "outputId": "e33b48e8-5841-4734-b43f-033e49a7de06",
        "id": "hrqp2ZteGEGZ",
        "colab": {
          "base_uri": "https://localhost:8080/",
          "height": 1000
        }
      },
      "source": [
        "ntrain = trainimages.shape[0];\n",
        "n_epoch = 10;\n",
        "disp_freq = 100 #display freq\n",
        "batch_size = 32\n",
        "\n",
        "errs = []\n",
        "losses = []\n",
        "lenet5_relu =LeNet5_relu()\n",
        "#using SGD (mini_batch)\n",
        "optimizer = optim.SGD(params = lenet5_relu.parameters(),lr = 0.1)\n",
        "\n",
        "t_start = time.time()\n",
        "for iepoch in range(n_epoch):\n",
        "  for t in range(int(ntrain/batch_size)):\n",
        "    batchindices = np.random.choice(ntrain,batch_size,replace=False)\n",
        "    trainlabels_iter = trainlabels[batchindices]\n",
        "\n",
        "    #labeling of data as 1 and -1 for true and false respectively\n",
        "    y = torch.ones(10,batch_size)*(-1)\n",
        "    y[trainlabels_iter,torch.arange(batch_size,dtype=torch.int64)] = 1\n",
        "\n",
        "    #normalizing image data\n",
        "    imgs = torch.zeros([batch_size,1,32,32])\n",
        "    imgs[:,0,2: -2 ,2 : -2] = trainimages[batchindices].float()/255\n",
        "\n",
        "    #cleaning gradient buffer\n",
        "    optimizer.zero_grad()\n",
        "\n",
        "    #forward pass\n",
        "    out = lenet5_relu(imgs)\n",
        "\n",
        "    #MSE loss\n",
        "    loss = torch.mean(0.5*(y-out.t())**2)\n",
        "\n",
        "    #backward pass\n",
        "    loss.backward()\n",
        "    \n",
        "    #update parameters\n",
        "    optimizer.step()\n",
        "\n",
        "    #calculating error rate and loss for plot\n",
        "    pred = torch.argmax(out,dim = 1)\n",
        "    err = torch.mean((pred != trainlabels_iter).float())\n",
        "    errs.append(err.detach().numpy())\n",
        "    losses.append(loss.detach().numpy())\n",
        "\n",
        "    #plots\n",
        "    if (t + 1) % disp_freq == 0:\n",
        "            plt.gcf().clear()\n",
        "            visualize(len(errs) - 1, losses, errs, out[0,:].detach(), lenet5_relu.record[\"F6\"][:, 0], \n",
        "                      lenet5_relu.record[\"F5\"][:, 0], imgs[0, 0].detach(), lenet5_relu.C1.weight.detach().squeeze())\n",
        "            print(str(time.time() - t_start) + \" seconds per \" + str(disp_freq) + \" iterations\")\n",
        "            t_start = time.time()\n",
        "            time.sleep(0.01)\n",
        "\n",
        "    \n"
      ],
      "execution_count": 21,
      "outputs": [
        {
          "output_type": "display_data",
          "data": {
            "image/png": "[encoded data removed]",
            "text/plain": [
              "<Figure size 1332x756 with 12 Axes>"
            ]
          },
          "metadata": {
            "tags": []
          }
        },
        {
          "output_type": "stream",
          "text": [
            "2.864732027053833 seconds per 100 iterations\n"
          ],
          "name": "stdout"
        },
        {
          "output_type": "display_data",
          "data": {
            "image/png": "[encoded data removed]",
            "text/plain": [
              "<Figure size 1332x756 with 12 Axes>"
            ]
          },
          "metadata": {
            "tags": [],
            "needs_background": "light"
          }
        }
      ]
    }
  ]
}