{
  "nbformat": 4,
  "nbformat_minor": 0,
  "metadata": {
    "colab": {
      "name": "convolution.ipynb",
      "provenance": []
    },
    "kernelspec": {
      "name": "python3",
      "display_name": "Python 3"
    }
  },
  "cells": [
    {
      "cell_type": "code",
      "metadata": {
        "id": "5o-kLKAomCGL",
        "colab_type": "code",
        "colab": {}
      },
      "source": [
        "import torch\n",
        "from torch.nn import functional\n",
        "import numpy as np\n",
        "from PIL import Image\n",
        "import matplotlib.pyplot as plt"
      ],
      "execution_count": 0,
      "outputs": []
    },
    {
      "cell_type": "code",
      "metadata": {
        "id": "hbSu3aU-mqwu",
        "colab_type": "code",
        "colab": {}
      },
      "source": [
        "conv2d = lambda im , kr , pd = 0: functional.conv2d(torch.tensor(im[None,None]),\n",
        "                                                    torch.tensor(kr[None,None]),\n",
        "                                                    padding = pd).numpy().squeeze()"
      ],
      "execution_count": 0,
      "outputs": []
    },
    {
      "cell_type": "code",
      "metadata": {
        "id": "iVS1QUiLo-C6",
        "colab_type": "code",
        "outputId": "a41668a1-67e0-4e22-d2d3-7e815237f615",
        "colab": {
          "base_uri": "https://localhost:8080/",
          "height": 545
        }
      },
      "source": [
        "%matplotlib inline\n",
        "img1 = np.array([[0,0,0,0,0,0,0,0,0],\n",
        "                 [0,0,0,0,0,0,0,0,0],\n",
        "                 [0,0,0,0,0,0,0,0,0],\n",
        "                 [0,0,1,0,0,0,0,0,0],\n",
        "                 [0,0,0,0,0,0,0,0,0],\n",
        "                 [0,0,0,0,0,0,0,0,0],\n",
        "                 [0,0,0,0,0,0,0,0,0],\n",
        "                 [0,0,0,0,0,0,0,0,0],\n",
        "                 [0,0,0,0,0,0,0,0,0]])\n",
        "\n",
        "kernel1 = np.array([[1,0,0],\n",
        "\t                [1,0,0],\n",
        "\t                [1,1,0]])\n",
        "plt.imshow(img1 , cmap = \"Greys_r\")\n",
        "plt.title(\"input image\")\n",
        "plt.show()\n",
        "\n",
        "plt.imshow(conv2d(img1, kernel1) , cmap = \"Greys_r\")\n",
        "plt.title(\"output image\")\n",
        "plt.show()"
      ],
      "execution_count": 12,
      "outputs": [
        {
          "output_type": "display_data",
          "data": {
            "image/png": "[encoded data removed]",
            "text/plain": [
              "<Figure size 432x288 with 1 Axes>"
            ]
          },
          "metadata": {
            "tags": [],
            "needs_background": "light"
          }
        },
        {
          "output_type": "display_data",
          "data": {
            "image/png": "[encoded data removed]",
            "text/plain": [
              "<Figure size 432x288 with 1 Axes>"
            ]
          },
          "metadata": {
            "tags": [],
            "needs_background": "light"
          }
        }
      ]
    },
    {
      "cell_type": "code",
      "metadata": {
        "id": "LZLSsrDhp-QD",
        "colab_type": "code",
        "outputId": "b8637d81-d753-4e9c-b5bd-a82bf85b25d9",
        "colab": {
          "base_uri": "https://localhost:8080/",
          "height": 545
        }
      },
      "source": [
        "img2 =np.array([[0,0,0,0,0,1,1,1,1,1],\n",
        "                [0,0,0,0,0,1,1,1,1,1],\n",
        "                [0,0,0,0,0,1,1,1,1,1],\n",
        "                [0,0,0,0,0,1,1,1,1,1],\n",
        "                [0,0,0,0,0,1,1,1,1,1],\n",
        "                [0,0,0,0,0,1,1,1,1,1],\n",
        "                [0,0,0,0,0,1,1,1,1,1],\n",
        "                [0,0,0,0,0,1,1,1,1,1],\n",
        "                [0,0,0,0,0,1,1,1,1,1]])\n",
        "\n",
        "kernel2 = np.array([[-1,-1,-1],\n",
        "\t                  [-1, 8,-1],\n",
        "\t                  [-1,-1,-1]])\n",
        "plt.imshow(img2,cmap = \"Greys_r\")\n",
        "plt.title(\"input image\")\n",
        "plt.show()\n",
        "\n",
        "plt.imshow(conv2d(img2, kernel2),cmap = \"Greys_r\")\n",
        "plt.title(\"output image\")\n",
        "plt.show()"
      ],
      "execution_count": 13,
      "outputs": [
        {
          "output_type": "display_data",
          "data": {
            "image/png": "[encoded data removed]",
            "text/plain": [
              "<Figure size 432x288 with 1 Axes>"
            ]
          },
          "metadata": {
            "tags": [],
            "needs_background": "light"
          }
        },
        {
          "output_type": "display_data",
          "data": {
            "image/png": "[encoded data removed]",
            "text/plain": [
              "<Figure size 432x288 with 1 Axes>"
            ]
          },
          "metadata": {
            "tags": [],
            "needs_background": "light"
          }
        }
      ]
    },
    {
      "cell_type": "markdown",
      "metadata": {
        "id": "qhwQ3GfBsc05",
        "colab_type": "text"
      },
      "source": [
        "The image above is shrinked from its original shape and the excess area is shown in grey colour"
      ]
    },
    {
      "cell_type": "markdown",
      "metadata": {
        "id": "N8JYMhaetAUv",
        "colab_type": "text"
      },
      "source": [
        "# Need of padding\n",
        "as clear from above two implementation of the conv2d function, the output image's shape is somewhat diminished. to handle this we add some extra elements to the image at its end point so that the output image have right shape."
      ]
    },
    {
      "cell_type": "code",
      "metadata": {
        "id": "3jlv7I1Xr75R",
        "colab_type": "code",
        "outputId": "42d085ca-e68d-4bf1-95df-ee575054df65",
        "colab": {
          "base_uri": "https://localhost:8080/",
          "height": 809
        }
      },
      "source": [
        "plt.imshow(img2 , cmap = \"Greys_r\")\n",
        "plt.title(\"input image\")\n",
        "plt.show()\n",
        "\n",
        "plt.imshow(conv2d(img2 , kernel2 , 1) , cmap = \"Greys_r\")\n",
        "plt.title(\"padding same\")\n",
        "plt.show()\n",
        "\n",
        "plt.imshow(conv2d(img2 , kernel2 , 2), cmap= \"Greys_r\")\n",
        "plt.title(\"padding full\")\n",
        "plt.show()"
      ],
      "execution_count": 14,
      "outputs": [
        {
          "output_type": "display_data",
          "data": {
            "image/png": "[encoded data removed]",
            "text/plain": [
              "<Figure size 432x288 with 1 Axes>"
            ]
          },
          "metadata": {
            "tags": [],
            "needs_background": "light"
          }
        },
        {
          "output_type": "display_data",
          "data": {
            "image/png": "[encoded data removed]",
            "text/plain": [
              "<Figure size 432x288 with 1 Axes>"
            ]
          },
          "metadata": {
            "tags": [],
            "needs_background": "light"
          }
        },
        {
          "output_type": "display_data",
          "data": {
            "image/png": "[encoded data removed]",
            "text/plain": [
              "<Figure size 432x288 with 1 Axes>"
            ]
          },
          "metadata": {
            "tags": [],
            "needs_background": "light"
          }
        }
      ]
    },
    {
      "cell_type": "markdown",
      "metadata": {
        "id": "dKbsteA35Lc9",
        "colab_type": "text"
      },
      "source": [
        "from the image plots this looks like that in \"padding same\" we can detect only one of the boundries....but in full case we are detecting the borders also."
      ]
    },
    {
      "cell_type": "markdown",
      "metadata": {
        "id": "DXc9sR6Q6F0J",
        "colab_type": "text"
      },
      "source": [
        "# padding size\n",
        "for \"padding same\" the pad size needs to be (n-1)/2 X (m-1)/2\n",
        "while for \"padding full\" the padding size needs to be (n+1)/2 X (m+1)/2 "
      ]
    },
    {
      "cell_type": "code",
      "metadata": {
        "id": "PCTM4Xf8wQyE",
        "colab_type": "code",
        "colab": {
          "base_uri": "https://localhost:8080/",
          "height": 35
        },
        "outputId": "6002e9ed-73c2-4184-f13b-074cf08f78c0"
      },
      "source": [
        "#input size = [mini_batch,in_channels,img_height,img_width]\n",
        "img = np.random.rand(10,5,21,19)\n",
        "#kernel size = [out_channels,in_channels,kernel_height,kernel_width]\n",
        "kernel = np.random.rand(3,5,5,7)\n",
        "desired = functional.conv2d(torch.tensor(img),torch.tensor(kernel)).numpy().squeeze()\n",
        "#output size = [mini_batch,out_channels,img_height,img_width]\n",
        "desired.shape"
      ],
      "execution_count": 15,
      "outputs": [
        {
          "output_type": "execute_result",
          "data": {
            "text/plain": [
              "(10, 3, 17, 13)"
            ]
          },
          "metadata": {
            "tags": []
          },
          "execution_count": 15
        }
      ]
    },
    {
      "cell_type": "markdown",
      "metadata": {
        "id": "wdAe2KMARry0",
        "colab_type": "text"
      },
      "source": [
        "the code below shows what the torch inbuilt function.conv2d is doing in a fraction of second."
      ]
    },
    {
      "cell_type": "code",
      "metadata": {
        "id": "trZ3s1IKNhC2",
        "colab_type": "code",
        "colab": {}
      },
      "source": [
        "def conv2d_stack(im,kr):\n",
        "  batch_size,in_channels,im_h,im_w = im.shape\n",
        "  out_channels,_,kr_h,kr_w = kr.shape\n",
        "  r = np.zeros((batch_size,out_channels,im_h-kr_h+1,im_w-kr_w+1))\n",
        "  for i in range(batch_size):\n",
        "    for j in range(out_channels):\n",
        "      for k in range(in_channels):\n",
        "        r[i,j]+= conv2d(im[i,k],kr[j,k])\n",
        "  return r "
      ],
      "execution_count": 0,
      "outputs": []
    },
    {
      "cell_type": "code",
      "metadata": {
        "id": "m6ILjdPmRcyz",
        "colab_type": "code",
        "colab": {
          "base_uri": "https://localhost:8080/",
          "height": 35
        },
        "outputId": "a715e3dd-6e4b-48d9-e12d-2d3627472c0f"
      },
      "source": [
        "np.isclose(conv2d_stack(img, kernel), desired).all()"
      ],
      "execution_count": 17,
      "outputs": [
        {
          "output_type": "execute_result",
          "data": {
            "text/plain": [
              "True"
            ]
          },
          "metadata": {
            "tags": []
          },
          "execution_count": 17
        }
      ]
    },
    {
      "cell_type": "code",
      "metadata": {
        "id": "Cw_oTurqRlmw",
        "colab_type": "code",
        "colab": {
          "base_uri": "https://localhost:8080/",
          "height": 87
        },
        "outputId": "a8b9eb86-44e5-473e-d3c1-1625abd31465"
      },
      "source": [
        "#[batch,feature_map_in,im_h,im_w]\n",
        "img = np.random.rand(40, 20, 21, 21)\n",
        "#[feature_map_out,feature_map_in,kr_h,kr_w]\n",
        "kernel = np.random.rand(10, 20, 5, 5)\n",
        "\n",
        "%time desired = functional.conv2d(torch.tensor(img),torch.tensor(kernel)).numpy().squeeze()\n",
        "%time r = conv2d_stack(img,kernel)"
      ],
      "execution_count": 19,
      "outputs": [
        {
          "output_type": "stream",
          "text": [
            "CPU times: user 18.1 ms, sys: 34.3 ms, total: 52.3 ms\n",
            "Wall time: 52.7 ms\n",
            "CPU times: user 415 ms, sys: 11.8 ms, total: 426 ms\n",
            "Wall time: 427 ms\n"
          ],
          "name": "stdout"
        }
      ]
    },
    {
      "cell_type": "code",
      "metadata": {
        "id": "89pkF2IYTcRg",
        "colab_type": "code",
        "colab": {}
      },
      "source": [
        ""
      ],
      "execution_count": 0,
      "outputs": []
    }
  ]
}