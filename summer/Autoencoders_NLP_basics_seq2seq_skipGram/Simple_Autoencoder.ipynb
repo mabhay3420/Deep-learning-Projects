{
  "nbformat": 4,
  "nbformat_minor": 0,
  "metadata": {
    "kernelspec": {
      "display_name": "Python 3",
      "language": "python",
      "name": "python3"
    },
    "language_info": {
      "codemirror_mode": {
        "name": "ipython",
        "version": 3
      },
      "file_extension": ".py",
      "mimetype": "text/x-python",
      "name": "python",
      "nbconvert_exporter": "python",
      "pygments_lexer": "ipython3",
      "version": "3.6.1"
    },
    "colab": {
      "name": "Copy of Simple_Autoencoder.ipynb",
      "provenance": []
    },
    "accelerator": "GPU"
  },
  "cells": [
    {
      "cell_type": "markdown",
      "metadata": {
        "id": "Qbof2NUll_wF"
      },
      "source": [
        "# A Simple Autoencoder\n",
        "\n",
        "We'll start off by building a simple autoencoder to compress the MNIST dataset. With autoencoders, we pass input data through an encoder that makes a compressed representation of the input. Then, this representation is passed through a decoder to reconstruct the input data. Generally the encoder and decoder will be built with neural networks, then trained on example data.\n",
        "\n",
        "![Autoencoder](https://github.com/mabhay3420/Deep-learning-Projects/blob/master/summer/assingnment%203/assets/autoencoder_1.png?raw=1)\n",
        "\n",
        "In this notebook, we'll be build a simple network architecture for the encoder and decoder. Let's get started by importing our libraries and getting the dataset."
      ]
    },
    {
      "cell_type": "code",
      "metadata": {
        "id": "yBIjhzLYmy5z"
      },
      "source": [
        "%tensorflow_version 1.x"
      ],
      "execution_count": null,
      "outputs": []
    },
    {
      "cell_type": "code",
      "metadata": {
        "id": "8jCN1OQ9l_wG"
      },
      "source": [
        "%matplotlib inline\n",
        "\n",
        "import numpy as np\n",
        "import tensorflow as tf\n",
        "import matplotlib.pyplot as plt"
      ],
      "execution_count": null,
      "outputs": []
    },
    {
      "cell_type": "code",
      "metadata": {
        "id": "SiBtsi28l_wK",
        "colab": {
          "base_uri": "https://localhost:8080/",
          "height": 87
        },
        "outputId": "deddaf97-1073-4c4a-f503-874d3dc44cc7"
      },
      "source": [
        "from tensorflow.examples.tutorials.mnist import input_data\n",
        "mnist = input_data.read_data_sets('MNIST_data', validation_size=0)"
      ],
      "execution_count": null,
      "outputs": [
        {
          "output_type": "stream",
          "text": [
            "Extracting MNIST_data/train-images-idx3-ubyte.gz\n",
            "Extracting MNIST_data/train-labels-idx1-ubyte.gz\n",
            "Extracting MNIST_data/t10k-images-idx3-ubyte.gz\n",
            "Extracting MNIST_data/t10k-labels-idx1-ubyte.gz\n"
          ],
          "name": "stdout"
        }
      ]
    },
    {
      "cell_type": "markdown",
      "metadata": {
        "id": "Ji7CJ7Mtl_wN"
      },
      "source": [
        "Below I'm plotting an example image from the MNIST dataset. These are 28x28 grayscale images of handwritten digits."
      ]
    },
    {
      "cell_type": "code",
      "metadata": {
        "id": "8Km02nrDl_wO",
        "colab": {
          "base_uri": "https://localhost:8080/",
          "height": 283
        },
        "outputId": "ddb16a36-a43b-40a0-de62-fc620da390ef"
      },
      "source": [
        "img = mnist.train.images[2]\n",
        "plt.imshow(img.reshape((28, 28)), cmap='Greys_r')"
      ],
      "execution_count": null,
      "outputs": [
        {
          "output_type": "execute_result",
          "data": {
            "text/plain": [
              "<matplotlib.image.AxesImage at 0x7ff5ac05e630>"
            ]
          },
          "metadata": {
            "tags": []
          },
          "execution_count": 18
        },
        {
          "output_type": "display_data",
          "data": {
            "image/png": "[encoded data removed]",
            "text/plain": [
              "<Figure size 432x288 with 1 Axes>"
            ]
          },
          "metadata": {
            "tags": [],
            "needs_background": "light"
          }
        }
      ]
    },
    {
      "cell_type": "markdown",
      "metadata": {
        "id": "IZ9Alaiyl_wQ"
      },
      "source": [
        "We'll train an autoencoder with these images by flattening them into 784 length vectors. The images from this dataset are already normalized such that the values are between 0 and 1. Let's start by building basically the simplest autoencoder with a **single ReLU hidden layer**. This layer will be used as the compressed representation. Then, the encoder is the input layer and the hidden layer. The decoder is the hidden layer and the output layer. Since the images are normalized between 0 and 1, we need to use a **sigmoid activation on the output layer** to get values matching the input.\n",
        "\n",
        "![Autoencoder architecture](https://github.com/mabhay3420/Deep-learning-Projects/blob/master/summer/assingnment%203/assets/simple_autoencoder.png?raw=1)\n",
        "\n",
        "\n",
        "> **Exercise:** Build the graph for the autoencoder in the cell below. The input images will be flattened into 784 length vectors. The targets are the same as the inputs. And there should be one hidden layer with a ReLU activation and an output layer with a sigmoid activation. Feel free to use TensorFlow's higher level API, `tf.layers`. For instance, you would use [`tf.layers.dense(inputs, units, activation=tf.nn.relu)`](https://www.tensorflow.org/api_docs/python/tf/layers/dense) to create a fully connected layer with a ReLU activation. The loss should be calculated with the cross-entropy loss, there is a convenient TensorFlow function for this `tf.nn.sigmoid_cross_entropy_with_logits` ([documentation](https://www.tensorflow.org/api_docs/python/tf/nn/sigmoid_cross_entropy_with_logits)). You should note that `tf.nn.sigmoid_cross_entropy_with_logits` takes the logits, but to get the reconstructed images you'll need to pass the logits through the sigmoid function."
      ]
    },
    {
      "cell_type": "code",
      "metadata": {
        "id": "eqkCxIJ4usiN"
      },
      "source": [
        ""
      ],
      "execution_count": null,
      "outputs": []
    },
    {
      "cell_type": "code",
      "metadata": {
        "id": "URXiaRY1l_wR"
      },
      "source": [
        "lr = 0.001\n",
        "# Size of the encoding layer (the hidden layer)\n",
        "encoding_dim = 32 # feel free to change this value\n",
        "image_size = mnist.train.images.shape[1]\n",
        "# Input and target placeholders\n",
        "inputs_ = tf.placeholder(tf.float32,(None,image_size),name = \"input\")\n",
        "targets_ = tf.placeholder(tf.float32,(None,image_size),name = \"target\")\n",
        "# Output of hidden layer, single fully connected layer here with ReLU activation\n",
        "encoded = tf.layers.dense(inputs_,encoding_dim,activation=tf.nn.relu)\n",
        "\n",
        "# Output layer logits, fully connected layer with no activation\n",
        "logits = tf.layers.dense(encoded,image_size,activation=None)\n",
        "# Sigmoid output from logits\n",
        "decoded = tf.nn.sigmoid(logits)\n",
        "\n",
        "# Sigmoid cross-entropy loss\n",
        "loss = tf.nn.sigmoid_cross_entropy_with_logits(labels=targets_,logits=logits)\n",
        "# Mean of the loss\n",
        "cost = tf.reduce_mean(loss)\n",
        "\n",
        "# Adam optimizer\n",
        "opt = tf.train.AdamOptimizer(lr).minimize(cost)"
      ],
      "execution_count": null,
      "outputs": []
    },
    {
      "cell_type": "markdown",
      "metadata": {
        "id": "v1I5dEqTl_wT"
      },
      "source": [
        "## Training"
      ]
    },
    {
      "cell_type": "code",
      "metadata": {
        "id": "vTmSJBI0l_wT"
      },
      "source": [
        "# Create the session\n",
        "sess = tf.Session()"
      ],
      "execution_count": null,
      "outputs": []
    },
    {
      "cell_type": "markdown",
      "metadata": {
        "id": "fxQLuhEtl_wW"
      },
      "source": [
        "Here I'll write a bit of code to train the network. I'm not too interested in validation here, so I'll just monitor the training loss. \n",
        "\n",
        "Calling `mnist.train.next_batch(batch_size)` will return a tuple of `(images, labels)`. We're not concerned with the labels here, we just need the images. Otherwise this is pretty straightfoward training with TensorFlow. We initialize the variables with `sess.run(tf.global_variables_initializer())`. Then, run the optimizer and get the loss with `batch_cost, _ = sess.run([cost, opt], feed_dict=feed)`."
      ]
    },
    {
      "cell_type": "code",
      "metadata": {
        "id": "NvMCGEKYl_wW"
      },
      "source": [
        "epochs = 20\n",
        "batch_size = 200\n",
        "sess.run(tf.global_variables_initializer())\n",
        "for e in range(epochs):\n",
        "    for ii in range(mnist.train.num_examples//batch_size):\n",
        "        batch = mnist.train.next_batch(batch_size)\n",
        "        feed = {inputs_: batch[0], targets_: batch[0]}\n",
        "        batch_cost, _ = sess.run([cost, opt], feed_dict=feed)\n",
        "\n",
        "        print(\"Epoch: {}/{}...\".format(e+1, epochs),\n",
        "              \"Training loss: {:.4f}\".format(batch_cost))"
      ],
      "execution_count": null,
      "outputs": []
    },
    {
      "cell_type": "markdown",
      "metadata": {
        "id": "AxV1GW3ll_wZ"
      },
      "source": [
        "## Checking out the results\n",
        "\n",
        "Below I've plotted some of the test images along with their reconstructions. For the most part these look pretty good except for some blurriness in some parts."
      ]
    },
    {
      "cell_type": "code",
      "metadata": {
        "id": "PZTvi9x3l_wZ",
        "colab": {
          "base_uri": "https://localhost:8080/",
          "height": 255
        },
        "outputId": "e9655a6b-79df-456a-dfd1-f9fff86c277c"
      },
      "source": [
        "fig, axes = plt.subplots(nrows=2, ncols=10, sharex=True, sharey=True, figsize=(20,4))\n",
        "in_imgs = mnist.test.images[:10]\n",
        "reconstructed, compressed = sess.run([decoded, encoded], feed_dict={inputs_: in_imgs})\n",
        "\n",
        "for images, row in zip([in_imgs, reconstructed], axes):\n",
        "    for img, ax in zip(images, row):\n",
        "        ax.imshow(img.reshape((28, 28)), cmap='Greys_r')\n",
        "        ax.get_xaxis().set_visible(False)\n",
        "        ax.get_yaxis().set_visible(False)\n",
        "\n",
        "fig.tight_layout(pad=0.1)"
      ],
      "execution_count": null,
      "outputs": [
        {
          "output_type": "display_data",
          "data": {
            "image/png": "[encoded data removed]",
            "text/plain": [
              "<Figure size 1440x288 with 20 Axes>"
            ]
          },
          "metadata": {
            "tags": [],
            "needs_background": "light"
          }
        }
      ]
    },
    {
      "cell_type": "code",
      "metadata": {
        "id": "YF6r3Pt0l_wb"
      },
      "source": [
        "sess.close()"
      ],
      "execution_count": null,
      "outputs": []
    },
    {
      "cell_type": "markdown",
      "metadata": {
        "collapsed": true,
        "id": "Zy5Igqchl_wd"
      },
      "source": [
        "## Up Next\n",
        "\n",
        "We're dealing with images here, so we can (usually) get better performance using convolution layers. So, next we'll build a better autoencoder with convolutional layers.\n",
        "\n",
        "In practice, autoencoders aren't actually better at compression compared to typical methods like JPEGs and MP3s. But, they are being used for noise reduction, which you'll also build."
      ]
    }
  ]
}