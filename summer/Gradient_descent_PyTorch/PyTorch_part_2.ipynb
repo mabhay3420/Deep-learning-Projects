{
  "nbformat": 4,
  "nbformat_minor": 0,
  "metadata": {
    "colab": {
      "name": "PyTorch part 2",
      "provenance": []
    },
    "kernelspec": {
      "name": "python3",
      "display_name": "Python 3"
    }
  },
  "cells": [
    {
      "cell_type": "code",
      "metadata": {
        "id": "hN3EuI65t7YZ",
        "colab_type": "code",
        "colab": {}
      },
      "source": [
        "%matplotlib inline\n",
        "%config inlineBackend.figure_format = 'retina'\n",
        "\n",
        "import numpy as np\n",
        "import torch\n",
        " \n",
        "import helper\n",
        "import matplotlib.pyplot as plt\n"
      ],
      "execution_count": 0,
      "outputs": []
    },
    {
      "cell_type": "code",
      "metadata": {
        "id": "qu9ezQzFwgMh",
        "colab_type": "code",
        "colab": {}
      },
      "source": [
        "from torchvision import datasets, transforms\n",
        "\n",
        "# Define a transform to normalize the data\n",
        "transform = transforms.Compose([transforms.ToTensor(),\n",
        "                              transforms.Normalize((0.5,), (0.5,)),\n",
        "                              ])\n",
        "\n",
        "# Download and load the training data\n",
        "trainset = datasets.MNIST('~/.pytorch/MNIST_data/', download=True, train=True, transform=transform)\n",
        "trainloader = torch.utils.data.DataLoader(trainset, batch_size=64, shuffle=True)"
      ],
      "execution_count": 0,
      "outputs": []
    },
    {
      "cell_type": "code",
      "metadata": {
        "id": "vVOoBG78xTHv",
        "colab_type": "code",
        "outputId": "e2bb89b6-6b9e-4944-8d39-34665a38b4ef",
        "colab": {
          "base_uri": "https://localhost:8080/",
          "height": 69
        }
      },
      "source": [
        "dataiter = iter(trainloader)\n",
        "images, labels = dataiter.next()\n",
        "print(type(images))\n",
        "print(images.shape)\n",
        "print(labels.shape)"
      ],
      "execution_count": 0,
      "outputs": [
        {
          "output_type": "stream",
          "text": [
            "<class 'torch.Tensor'>\n",
            "torch.Size([64, 1, 28, 28])\n",
            "torch.Size([64])\n"
          ],
          "name": "stdout"
        }
      ]
    },
    {
      "cell_type": "code",
      "metadata": {
        "collapsed": true,
        "id": "1ceUuo0mtuMz",
        "colab_type": "code",
        "outputId": "caf60978-2fb5-4abc-d32f-bbf979d8f8ca",
        "colab": {
          "base_uri": "https://localhost:8080/",
          "height": 265
        }
      },
      "source": [
        "plt.imshow(images[1].numpy().squeeze(), cmap='Greys_r');"
      ],
      "execution_count": 0,
      "outputs": [
        {
          "output_type": "display_data",
          "data": {
            "image/png": "[encoded data removed]",
            "text/plain": [
              "<Figure size 432x288 with 1 Axes>"
            ]
          },
          "metadata": {
            "tags": [],
            "needs_background": "light"
          }
        }
      ]
    },
    {
      "cell_type": "code",
      "metadata": {
        "id": "G_h2eqrByYal",
        "colab_type": "code",
        "outputId": "5499847e-5d2e-4fae-9ee5-f867d31e33fb",
        "colab": {
          "base_uri": "https://localhost:8080/",
          "height": 35
        }
      },
      "source": [
        "images.shape"
      ],
      "execution_count": 0,
      "outputs": [
        {
          "output_type": "execute_result",
          "data": {
            "text/plain": [
              "torch.Size([64, 1, 28, 28])"
            ]
          },
          "metadata": {
            "tags": []
          },
          "execution_count": 6
        }
      ]
    },
    {
      "cell_type": "code",
      "metadata": {
        "id": "Jz-hhgOAy9tl",
        "colab_type": "code",
        "outputId": "24aaa9c5-ce79-44ea-d6d7-d98499d5f37d",
        "colab": {
          "base_uri": "https://localhost:8080/",
          "height": 971
        }
      },
      "source": [
        "images"
      ],
      "execution_count": 0,
      "outputs": [
        {
          "output_type": "execute_result",
          "data": {
            "text/plain": [
              "tensor([[[[-1., -1., -1.,  ..., -1., -1., -1.],\n",
              "          [-1., -1., -1.,  ..., -1., -1., -1.],\n",
              "          [-1., -1., -1.,  ..., -1., -1., -1.],\n",
              "          ...,\n",
              "          [-1., -1., -1.,  ..., -1., -1., -1.],\n",
              "          [-1., -1., -1.,  ..., -1., -1., -1.],\n",
              "          [-1., -1., -1.,  ..., -1., -1., -1.]]],\n",
              "\n",
              "\n",
              "        [[[-1., -1., -1.,  ..., -1., -1., -1.],\n",
              "          [-1., -1., -1.,  ..., -1., -1., -1.],\n",
              "          [-1., -1., -1.,  ..., -1., -1., -1.],\n",
              "          ...,\n",
              "          [-1., -1., -1.,  ..., -1., -1., -1.],\n",
              "          [-1., -1., -1.,  ..., -1., -1., -1.],\n",
              "          [-1., -1., -1.,  ..., -1., -1., -1.]]],\n",
              "\n",
              "\n",
              "        [[[-1., -1., -1.,  ..., -1., -1., -1.],\n",
              "          [-1., -1., -1.,  ..., -1., -1., -1.],\n",
              "          [-1., -1., -1.,  ..., -1., -1., -1.],\n",
              "          ...,\n",
              "          [-1., -1., -1.,  ..., -1., -1., -1.],\n",
              "          [-1., -1., -1.,  ..., -1., -1., -1.],\n",
              "          [-1., -1., -1.,  ..., -1., -1., -1.]]],\n",
              "\n",
              "\n",
              "        ...,\n",
              "\n",
              "\n",
              "        [[[-1., -1., -1.,  ..., -1., -1., -1.],\n",
              "          [-1., -1., -1.,  ..., -1., -1., -1.],\n",
              "          [-1., -1., -1.,  ..., -1., -1., -1.],\n",
              "          ...,\n",
              "          [-1., -1., -1.,  ..., -1., -1., -1.],\n",
              "          [-1., -1., -1.,  ..., -1., -1., -1.],\n",
              "          [-1., -1., -1.,  ..., -1., -1., -1.]]],\n",
              "\n",
              "\n",
              "        [[[-1., -1., -1.,  ..., -1., -1., -1.],\n",
              "          [-1., -1., -1.,  ..., -1., -1., -1.],\n",
              "          [-1., -1., -1.,  ..., -1., -1., -1.],\n",
              "          ...,\n",
              "          [-1., -1., -1.,  ..., -1., -1., -1.],\n",
              "          [-1., -1., -1.,  ..., -1., -1., -1.],\n",
              "          [-1., -1., -1.,  ..., -1., -1., -1.]]],\n",
              "\n",
              "\n",
              "        [[[-1., -1., -1.,  ..., -1., -1., -1.],\n",
              "          [-1., -1., -1.,  ..., -1., -1., -1.],\n",
              "          [-1., -1., -1.,  ..., -1., -1., -1.],\n",
              "          ...,\n",
              "          [-1., -1., -1.,  ..., -1., -1., -1.],\n",
              "          [-1., -1., -1.,  ..., -1., -1., -1.],\n",
              "          [-1., -1., -1.,  ..., -1., -1., -1.]]]])"
            ]
          },
          "metadata": {
            "tags": []
          },
          "execution_count": 7
        }
      ]
    },
    {
      "cell_type": "code",
      "metadata": {
        "id": "wJ9GSQLZzX0I",
        "colab_type": "code",
        "colab": {}
      },
      "source": [
        "images = images.resize_((64,784))"
      ],
      "execution_count": 0,
      "outputs": []
    },
    {
      "cell_type": "code",
      "metadata": {
        "id": "9sXTpZlN1I9Q",
        "colab_type": "code",
        "outputId": "67433581-6600-4fff-9a34-1b7a054db2f0",
        "colab": {
          "base_uri": "https://localhost:8080/",
          "height": 139
        }
      },
      "source": [
        "images"
      ],
      "execution_count": 0,
      "outputs": [
        {
          "output_type": "execute_result",
          "data": {
            "text/plain": [
              "tensor([[-1., -1., -1.,  ..., -1., -1., -1.],\n",
              "        [-1., -1., -1.,  ..., -1., -1., -1.],\n",
              "        [-1., -1., -1.,  ..., -1., -1., -1.],\n",
              "        ...,\n",
              "        [-1., -1., -1.,  ..., -1., -1., -1.],\n",
              "        [-1., -1., -1.,  ..., -1., -1., -1.],\n",
              "        [-1., -1., -1.,  ..., -1., -1., -1.]])"
            ]
          },
          "metadata": {
            "tags": []
          },
          "execution_count": 9
        }
      ]
    },
    {
      "cell_type": "code",
      "metadata": {
        "id": "B2UWHjeK1LHG",
        "colab_type": "code",
        "colab": {}
      },
      "source": [
        "def activation(x):\n",
        "  return 1/(1+torch.exp(-x))"
      ],
      "execution_count": 0,
      "outputs": []
    },
    {
      "cell_type": "code",
      "metadata": {
        "id": "LZ8Ar5Ad42TK",
        "colab_type": "code",
        "colab": {}
      },
      "source": [
        "torch.manual_seed(7)\n",
        "W1 = torch.randn((784,256))\n",
        "B1 = torch.randn((1,256))\n",
        "W2 = torch.randn((256,10))\n",
        "B2 = torch.randn((1,10))"
      ],
      "execution_count": 0,
      "outputs": []
    },
    {
      "cell_type": "code",
      "metadata": {
        "id": "IopmpbxJ7Ue_",
        "colab_type": "code",
        "colab": {}
      },
      "source": [
        "output1 = activation(torch.mm(images,W1)+B1)\n",
        "output2 = torch.mm(output1,W2)+B2"
      ],
      "execution_count": 0,
      "outputs": []
    },
    {
      "cell_type": "code",
      "metadata": {
        "id": "KvW4NW058fpj",
        "colab_type": "code",
        "outputId": "4be67ecb-8a3e-46e6-f953-bc275f867fc3",
        "colab": {
          "base_uri": "https://localhost:8080/",
          "height": 35
        }
      },
      "source": [
        "output2.shape"
      ],
      "execution_count": 0,
      "outputs": [
        {
          "output_type": "execute_result",
          "data": {
            "text/plain": [
              "torch.Size([64, 10])"
            ]
          },
          "metadata": {
            "tags": []
          },
          "execution_count": 13
        }
      ]
    },
    {
      "cell_type": "code",
      "metadata": {
        "id": "Xn2s09zS8l8_",
        "colab_type": "code",
        "colab": {}
      },
      "source": [
        "def softmax(x):\n",
        "  pre = torch.exp(x)\n",
        "  total = torch.sum(pre,dim=1,keepdims = True)\n",
        "  return pre/total"
      ],
      "execution_count": 0,
      "outputs": []
    },
    {
      "cell_type": "code",
      "metadata": {
        "id": "6SwiL4z5BsDZ",
        "colab_type": "code",
        "colab": {}
      },
      "source": [
        "probability = softmax(output2)"
      ],
      "execution_count": 0,
      "outputs": []
    },
    {
      "cell_type": "code",
      "metadata": {
        "id": "IEpVb3BEB65G",
        "colab_type": "code",
        "outputId": "16bb4348-8524-48d4-ac53-f4c0e77695db",
        "colab": {
          "base_uri": "https://localhost:8080/",
          "height": 35
        }
      },
      "source": [
        "probability.shape"
      ],
      "execution_count": 0,
      "outputs": [
        {
          "output_type": "execute_result",
          "data": {
            "text/plain": [
              "torch.Size([64, 10])"
            ]
          },
          "metadata": {
            "tags": []
          },
          "execution_count": 16
        }
      ]
    },
    {
      "cell_type": "code",
      "metadata": {
        "id": "4lbvHPuGCAr4",
        "colab_type": "code",
        "outputId": "538fa45c-3d65-4615-da6e-a49b3ffe0738",
        "colab": {
          "base_uri": "https://localhost:8080/",
          "height": 156
        }
      },
      "source": [
        "print(probability.sum(dim=1))"
      ],
      "execution_count": 0,
      "outputs": [
        {
          "output_type": "stream",
          "text": [
            "tensor([1.0000, 1.0000, 1.0000, 1.0000, 1.0000, 1.0000, 1.0000, 1.0000, 1.0000,\n",
            "        1.0000, 1.0000, 1.0000, 1.0000, 1.0000, 1.0000, 1.0000, 1.0000, 1.0000,\n",
            "        1.0000, 1.0000, 1.0000, 1.0000, 1.0000, 1.0000, 1.0000, 1.0000, 1.0000,\n",
            "        1.0000, 1.0000, 1.0000, 1.0000, 1.0000, 1.0000, 1.0000, 1.0000, 1.0000,\n",
            "        1.0000, 1.0000, 1.0000, 1.0000, 1.0000, 1.0000, 1.0000, 1.0000, 1.0000,\n",
            "        1.0000, 1.0000, 1.0000, 1.0000, 1.0000, 1.0000, 1.0000, 1.0000, 1.0000,\n",
            "        1.0000, 1.0000, 1.0000, 1.0000, 1.0000, 1.0000, 1.0000, 1.0000, 1.0000,\n",
            "        1.0000])\n"
          ],
          "name": "stdout"
        }
      ]
    },
    {
      "cell_type": "code",
      "metadata": {
        "id": "ta16m4WACXTw",
        "colab_type": "code",
        "outputId": "6dd371f0-636b-4741-d0e5-8d43c55f902d",
        "colab": {
          "base_uri": "https://localhost:8080/",
          "height": 1000
        }
      },
      "source": [
        "probability"
      ],
      "execution_count": 0,
      "outputs": [
        {
          "output_type": "execute_result",
          "data": {
            "text/plain": [
              "tensor([[2.5330e-01, 2.7682e-05, 7.4146e-01, 1.8444e-04, 1.1856e-04, 3.8679e-03,\n",
              "         5.1719e-09, 1.1391e-07, 1.0396e-03, 6.4799e-11],\n",
              "        [6.0901e-03, 2.3288e-12, 2.5109e-02, 9.6910e-05, 4.8662e-06, 6.4777e-03,\n",
              "         1.3040e-10, 1.4603e-07, 9.6222e-01, 6.1605e-07],\n",
              "        [2.3864e-02, 3.4490e-07, 1.0838e-02, 5.5006e-01, 1.8132e-05, 4.1521e-01,\n",
              "         3.9172e-08, 2.2473e-10, 4.8458e-06, 2.0166e-11],\n",
              "        [1.7871e-01, 6.2523e-04, 7.4391e-01, 3.0955e-03, 6.9815e-04, 4.3209e-02,\n",
              "         3.4438e-04, 2.0273e-04, 2.9209e-02, 1.0157e-07],\n",
              "        [1.1549e-03, 1.1912e-06, 6.7628e-01, 2.2913e-06, 2.8650e-06, 3.1004e-01,\n",
              "         6.7555e-05, 2.9414e-05, 3.7762e-04, 1.2041e-02],\n",
              "        [1.9702e-02, 4.3691e-06, 2.0674e-04, 1.4210e-06, 5.6727e-06, 9.7729e-01,\n",
              "         1.9926e-05, 1.8684e-06, 2.3713e-03, 3.9326e-04],\n",
              "        [3.1490e-08, 5.7320e-09, 1.2561e-02, 2.7042e-10, 7.4554e-04, 9.8663e-01,\n",
              "         6.4467e-07, 7.3240e-12, 6.0416e-05, 7.4726e-13],\n",
              "        [4.1136e-01, 3.4005e-09, 2.3362e-04, 2.3732e-05, 4.1670e-08, 5.8757e-01,\n",
              "         5.2807e-09, 6.3161e-04, 1.8459e-04, 5.6833e-08],\n",
              "        [4.3453e-06, 6.7867e-14, 1.8453e-08, 3.2039e-11, 4.0766e-10, 1.0000e+00,\n",
              "         2.9007e-11, 1.5523e-13, 1.1673e-09, 3.3497e-09],\n",
              "        [1.9738e-01, 8.5223e-06, 2.2261e-04, 9.0692e-07, 1.4735e-01, 5.6961e-02,\n",
              "         1.9244e-06, 3.5363e-04, 5.6892e-01, 2.8801e-02],\n",
              "        [1.6905e-05, 1.5430e-02, 8.6444e-04, 5.1272e-10, 1.4155e-04, 9.8201e-01,\n",
              "         7.6116e-06, 7.9950e-11, 1.5335e-03, 3.8492e-09],\n",
              "        [5.1573e-01, 1.7377e-09, 2.6926e-01, 2.8730e-05, 6.3997e-03, 2.0834e-01,\n",
              "         6.2556e-06, 6.7732e-15, 2.3427e-04, 4.9161e-10],\n",
              "        [4.8682e-02, 3.3224e-07, 4.6985e-05, 1.7832e-05, 5.9137e-08, 7.8685e-04,\n",
              "         3.4149e-10, 2.1491e-07, 9.5046e-01, 2.6651e-06],\n",
              "        [1.5318e-05, 1.7354e-08, 3.5031e-05, 5.8435e-06, 3.5875e-09, 9.9982e-01,\n",
              "         1.3263e-06, 1.2268e-04, 1.4455e-07, 8.3756e-11],\n",
              "        [2.6525e-06, 3.8933e-06, 4.8138e-02, 5.0382e-03, 1.2313e-06, 9.7225e-02,\n",
              "         3.1867e-05, 3.0020e-01, 5.4936e-01, 4.7830e-06],\n",
              "        [3.2857e-01, 5.4830e-06, 1.0199e-04, 3.8348e-07, 3.4832e-07, 1.3137e-01,\n",
              "         9.9417e-04, 1.7842e-05, 5.3894e-01, 7.1282e-08],\n",
              "        [9.9154e-01, 5.3730e-07, 9.3837e-04, 2.9817e-07, 2.9253e-05, 1.3812e-03,\n",
              "         2.5361e-04, 4.9758e-07, 5.8601e-03, 2.7031e-10],\n",
              "        [2.1509e-04, 2.8034e-08, 2.2378e-02, 8.1090e-08, 1.6756e-07, 9.7645e-01,\n",
              "         2.3625e-10, 4.7512e-07, 9.5121e-04, 1.3909e-10],\n",
              "        [3.4819e-04, 7.6522e-09, 1.2339e-05, 9.1063e-07, 7.4742e-08, 9.9962e-01,\n",
              "         6.2913e-08, 5.5179e-10, 1.8250e-05, 7.6298e-13],\n",
              "        [2.3659e-04, 5.7596e-09, 1.3573e-03, 1.4190e-08, 3.6757e-04, 9.9619e-01,\n",
              "         1.3205e-07, 4.4799e-04, 1.4011e-03, 1.0670e-09],\n",
              "        [2.7543e-03, 2.0056e-08, 9.8607e-01, 2.2620e-06, 2.3743e-04, 4.4443e-03,\n",
              "         2.6607e-08, 3.7612e-05, 6.4563e-03, 9.4379e-09],\n",
              "        [5.4708e-05, 5.6467e-09, 3.9766e-07, 2.4037e-09, 5.1896e-03, 9.9469e-01,\n",
              "         1.3560e-06, 6.3587e-05, 6.4371e-08, 3.9377e-08],\n",
              "        [6.0585e-01, 5.2534e-08, 3.2911e-01, 5.6198e-08, 1.1038e-07, 6.4955e-02,\n",
              "         6.7880e-07, 5.0359e-11, 8.5274e-05, 2.6170e-11],\n",
              "        [2.6121e-08, 4.7332e-08, 1.7080e-06, 2.3589e-12, 2.6917e-07, 9.9478e-01,\n",
              "         1.7973e-08, 9.0195e-08, 5.2133e-03, 4.8923e-13],\n",
              "        [4.5769e-02, 7.8600e-06, 3.4160e-05, 2.8779e-06, 4.9135e-05, 2.2635e-05,\n",
              "         5.6348e-07, 3.0968e-08, 9.5399e-01, 1.2708e-04],\n",
              "        [4.0561e-05, 1.4892e-09, 4.8092e-02, 9.3558e-06, 9.6660e-09, 9.5186e-01,\n",
              "         9.4418e-07, 1.6189e-11, 9.9592e-09, 1.6673e-12],\n",
              "        [3.5335e-02, 1.6449e-10, 2.0892e-03, 2.0311e-06, 9.9371e-06, 9.5564e-01,\n",
              "         6.2069e-09, 1.1782e-07, 6.9254e-03, 1.3771e-06],\n",
              "        [1.1118e-01, 1.7767e-10, 5.5474e-04, 2.2474e-04, 1.0768e-05, 8.8728e-01,\n",
              "         1.0338e-06, 1.5200e-08, 7.2993e-04, 2.7562e-05],\n",
              "        [1.2576e-01, 7.6289e-10, 1.2307e-03, 1.0030e-10, 2.1634e-09, 8.7279e-01,\n",
              "         8.1347e-06, 8.3793e-11, 4.8826e-05, 1.6060e-04],\n",
              "        [7.4596e-03, 1.1234e-10, 4.1511e-06, 2.3583e-05, 1.4976e-05, 9.9210e-01,\n",
              "         1.2975e-07, 4.9599e-08, 1.2648e-04, 2.6776e-04],\n",
              "        [3.0743e-05, 6.9778e-09, 2.9191e-05, 1.2634e-03, 1.3826e-10, 9.8405e-01,\n",
              "         5.2995e-10, 3.2846e-11, 1.4631e-02, 1.1747e-08],\n",
              "        [6.4174e-04, 2.7996e-06, 1.0493e-05, 1.3717e-04, 2.0845e-05, 9.8673e-01,\n",
              "         5.1647e-10, 9.2686e-09, 1.2455e-02, 5.6761e-09],\n",
              "        [5.3315e-03, 2.4028e-02, 6.1673e-03, 1.0122e-09, 9.5625e-01, 7.8830e-05,\n",
              "         9.0130e-06, 4.1294e-08, 5.6851e-03, 2.4495e-03],\n",
              "        [2.0800e-03, 5.6272e-10, 2.3769e-03, 1.7537e-09, 5.3148e-04, 9.9496e-01,\n",
              "         1.0405e-06, 7.3907e-07, 5.4706e-05, 3.5176e-09],\n",
              "        [7.2517e-04, 8.0552e-08, 2.4751e-03, 2.8491e-05, 1.4585e-08, 9.9504e-01,\n",
              "         1.7274e-03, 3.8445e-09, 6.5359e-06, 9.9460e-11],\n",
              "        [8.5452e-05, 3.0776e-07, 2.2303e-04, 7.6512e-04, 8.1646e-01, 1.8215e-01,\n",
              "         1.3695e-06, 1.0568e-08, 3.0423e-04, 8.4337e-06],\n",
              "        [2.3447e-01, 1.1283e-04, 2.8674e-05, 2.4273e-05, 1.5701e-03, 1.9193e-01,\n",
              "         1.7873e-04, 4.7173e-05, 5.7163e-01, 3.4045e-10],\n",
              "        [1.1919e-03, 1.7342e-04, 1.0510e-04, 1.0656e-09, 2.0027e-05, 9.9702e-01,\n",
              "         2.2078e-07, 9.2651e-10, 1.4864e-03, 6.4301e-09],\n",
              "        [4.2618e-02, 1.6876e-04, 8.9765e-03, 7.6954e-10, 1.4706e-07, 9.4665e-01,\n",
              "         1.3953e-05, 2.1713e-10, 1.5685e-03, 2.0940e-08],\n",
              "        [9.6940e-01, 1.3368e-04, 6.4614e-04, 3.4591e-03, 1.5961e-05, 2.5962e-02,\n",
              "         1.5250e-05, 2.7627e-07, 3.5176e-04, 1.3481e-05],\n",
              "        [2.0169e-03, 1.9989e-06, 5.2823e-05, 1.0067e-08, 2.6265e-06, 9.9707e-01,\n",
              "         5.4274e-06, 8.6982e-11, 7.9599e-04, 5.1133e-05],\n",
              "        [4.0948e-06, 7.8877e-07, 2.1132e-06, 6.6481e-08, 4.5825e-11, 9.9994e-01,\n",
              "         1.0549e-07, 1.5163e-12, 5.4273e-05, 2.2180e-09],\n",
              "        [2.1711e-05, 8.6960e-07, 1.8112e-06, 3.0714e-07, 4.1511e-05, 1.0867e-01,\n",
              "         1.5614e-06, 9.0525e-05, 8.9117e-01, 2.2292e-08],\n",
              "        [9.6761e-04, 3.1650e-12, 1.9727e-05, 4.9136e-09, 1.9593e-10, 9.9901e-01,\n",
              "         4.2581e-12, 1.2084e-12, 4.0235e-09, 1.6756e-09],\n",
              "        [3.9089e-05, 1.6538e-11, 1.2715e-02, 6.3123e-03, 1.6989e-04, 9.8074e-01,\n",
              "         4.3051e-14, 2.2346e-09, 1.9385e-05, 3.8134e-09],\n",
              "        [2.6035e-04, 1.8373e-10, 1.7727e-05, 1.7473e-10, 1.9270e-06, 9.9971e-01,\n",
              "         4.0735e-07, 4.1547e-08, 1.0528e-05, 4.5435e-07],\n",
              "        [9.1256e-06, 3.3212e-10, 1.2523e-06, 1.1144e-05, 6.4350e-10, 9.0684e-01,\n",
              "         7.6006e-13, 1.6332e-09, 9.3139e-02, 1.7904e-07],\n",
              "        [3.2655e-04, 1.2640e-09, 3.4267e-07, 4.8340e-11, 4.9732e-07, 1.5289e-02,\n",
              "         1.7138e-10, 8.1826e-12, 9.8438e-01, 2.7392e-11],\n",
              "        [3.3307e-06, 5.3610e-05, 5.4600e-01, 5.6919e-06, 3.9296e-04, 3.2543e-01,\n",
              "         2.5327e-04, 2.7948e-02, 9.9774e-02, 1.4891e-04],\n",
              "        [2.4278e-07, 4.4492e-08, 4.2537e-05, 8.4326e-11, 8.2526e-07, 9.9970e-01,\n",
              "         7.9049e-09, 1.8911e-11, 2.5422e-04, 1.6930e-08],\n",
              "        [3.0540e-01, 6.4046e-05, 1.2292e-02, 1.1485e-04, 9.0113e-04, 7.8669e-04,\n",
              "         2.7491e-10, 6.5015e-07, 6.7934e-01, 1.1048e-03],\n",
              "        [9.0168e-03, 8.4171e-05, 3.1519e-04, 1.1373e-05, 7.3183e-06, 5.1218e-04,\n",
              "         4.0595e-01, 5.5891e-01, 2.5181e-02, 6.1648e-06],\n",
              "        [2.4509e-05, 2.0978e-10, 7.4038e-03, 1.3173e-06, 1.1649e-03, 9.9138e-01,\n",
              "         4.2242e-08, 1.1778e-08, 2.5809e-05, 6.0281e-10],\n",
              "        [1.0988e-07, 1.5715e-09, 2.5080e-07, 2.7661e-09, 4.1087e-09, 9.9903e-01,\n",
              "         8.2436e-08, 4.8431e-07, 9.5110e-04, 1.6046e-05],\n",
              "        [2.7135e-01, 9.7277e-07, 3.5858e-04, 5.6134e-03, 9.8766e-05, 7.2235e-01,\n",
              "         1.7205e-06, 5.3932e-08, 2.2432e-04, 2.7469e-09],\n",
              "        [9.9138e-01, 4.9737e-04, 4.0699e-03, 1.2284e-06, 2.7234e-07, 3.5723e-03,\n",
              "         2.3102e-04, 2.8871e-06, 2.4738e-04, 1.3425e-13],\n",
              "        [1.5730e-04, 1.7456e-10, 1.2600e-03, 2.8830e-06, 8.6503e-09, 9.9858e-01,\n",
              "         1.7626e-13, 9.6323e-10, 3.0189e-07, 5.8380e-11],\n",
              "        [6.6397e-09, 2.8018e-05, 8.6185e-03, 2.3663e-09, 1.6336e-07, 9.9099e-01,\n",
              "         1.5380e-06, 5.0099e-09, 3.5914e-04, 4.7124e-11],\n",
              "        [7.8529e-09, 1.1970e-14, 3.1569e-08, 1.4563e-11, 4.1275e-13, 9.9993e-01,\n",
              "         1.5000e-14, 4.8748e-08, 6.5135e-05, 5.1207e-13],\n",
              "        [2.6548e-05, 7.6320e-05, 2.4210e-08, 5.2654e-08, 9.0452e-02, 8.9151e-01,\n",
              "         7.3706e-05, 9.7471e-04, 1.6887e-02, 2.3962e-08],\n",
              "        [3.8745e-05, 9.5197e-07, 2.3944e-02, 1.0905e-05, 8.2668e-06, 9.4743e-01,\n",
              "         6.6976e-09, 1.0028e-08, 2.8569e-02, 1.4410e-07],\n",
              "        [6.4117e-06, 1.4683e-07, 1.8119e-08, 2.5686e-08, 1.2766e-07, 9.9762e-01,\n",
              "         2.0220e-09, 7.9329e-10, 2.3726e-03, 6.5590e-07],\n",
              "        [4.6991e-08, 2.6619e-13, 3.2840e-05, 2.3706e-05, 6.8901e-05, 9.9987e-01,\n",
              "         1.4474e-06, 6.5263e-12, 2.6126e-07, 7.4837e-09],\n",
              "        [9.0176e-10, 7.1412e-07, 7.8663e-05, 1.6792e-07, 5.1407e-08, 4.3751e-01,\n",
              "         2.0482e-07, 1.5735e-06, 5.6186e-01, 5.5155e-04]])"
            ]
          },
          "metadata": {
            "tags": []
          },
          "execution_count": 18
        }
      ]
    },
    {
      "cell_type": "markdown",
      "metadata": {
        "id": "oMNfVI9VPv1t",
        "colab_type": "text"
      },
      "source": [
        "### ***Building Neural networks with pytorch***"
      ]
    },
    {
      "cell_type": "code",
      "metadata": {
        "id": "dulYP3QKCeo6",
        "colab_type": "code",
        "colab": {}
      },
      "source": [
        "from torch import nn"
      ],
      "execution_count": 0,
      "outputs": []
    },
    {
      "cell_type": "code",
      "metadata": {
        "id": "Knyfs7vStuNU",
        "colab_type": "code",
        "colab": {}
      },
      "source": [
        "import torch.nn.functional as F\n",
        "\n",
        "class Network(nn.Module):\n",
        "    def __init__(self):\n",
        "        super().__init__()\n",
        "        # Inputs to hidden layer linear transformation\n",
        "        self.fc1 = nn.Linear(784,256)\n",
        "        # Output layer, 10 units - one for each digit\n",
        "        self.fc2 = nn.Linear(256,64)\n",
        "        self.fc3 = nn.Linear(64,10)\n",
        "        \n",
        "    def forward(self, x):\n",
        "        # Hidden layer with relu activation\n",
        "        x = F.relu(self.fc1(x))\n",
        "        x = F.relu(self.fc2(x))\n",
        "         # Output layer with softmax activation\n",
        "        x = F.softmax(self.fc3(x),dim=1)\n",
        "        return x"
      ],
      "execution_count": 0,
      "outputs": []
    },
    {
      "cell_type": "code",
      "metadata": {
        "id": "MbRQIT1BeTbx",
        "colab_type": "code",
        "outputId": "42268d0f-1bad-4bd7-df3a-cc74e8744f74",
        "colab": {
          "base_uri": "https://localhost:8080/",
          "height": 104
        }
      },
      "source": [
        "model = Network()\n",
        "model"
      ],
      "execution_count": 0,
      "outputs": [
        {
          "output_type": "execute_result",
          "data": {
            "text/plain": [
              "Network(\n",
              "  (fc1): Linear(in_features=784, out_features=256, bias=True)\n",
              "  (fc2): Linear(in_features=256, out_features=64, bias=True)\n",
              "  (fc3): Linear(in_features=64, out_features=10, bias=True)\n",
              ")"
            ]
          },
          "metadata": {
            "tags": []
          },
          "execution_count": 27
        }
      ]
    },
    {
      "cell_type": "code",
      "metadata": {
        "id": "bH4Nc6UpeaMs",
        "colab_type": "code",
        "outputId": "0255d137-c6ee-4026-f7b1-6956cc5ace60",
        "colab": {
          "base_uri": "https://localhost:8080/",
          "height": 173
        }
      },
      "source": [
        "print(model.fc1.weight)"
      ],
      "execution_count": 0,
      "outputs": [
        {
          "output_type": "stream",
          "text": [
            "Parameter containing:\n",
            "tensor([[ 0.0188, -0.0273, -0.0062,  ..., -0.0302,  0.0100, -0.0166],\n",
            "        [-0.0159, -0.0329,  0.0085,  ...,  0.0305, -0.0118,  0.0226],\n",
            "        [-0.0284,  0.0014,  0.0034,  ...,  0.0230, -0.0318, -0.0062],\n",
            "        ...,\n",
            "        [ 0.0324, -0.0264,  0.0119,  ...,  0.0004, -0.0049,  0.0060],\n",
            "        [ 0.0119, -0.0143, -0.0204,  ...,  0.0100, -0.0275, -0.0178],\n",
            "        [-0.0184, -0.0305, -0.0176,  ...,  0.0136, -0.0077, -0.0202]],\n",
            "       requires_grad=True)\n"
          ],
          "name": "stdout"
        }
      ]
    },
    {
      "cell_type": "code",
      "metadata": {
        "collapsed": true,
        "id": "RGhOGJtetuNz",
        "colab_type": "code",
        "outputId": "7c013e91-6f8c-4b1d-e928-b7f0c46cdea6",
        "colab": {
          "base_uri": "https://localhost:8080/",
          "height": 253
        }
      },
      "source": [
        "# Grab some data \n",
        "dataiter = iter(trainloader)\n",
        "images, labels = dataiter.next()\n",
        "\n",
        "# Resize images into a 1D vector, new shape is (batch size, color channels, image pixels) \n",
        "images.resize_(64, 1, 784)\n",
        "# or images.resize_(images.shape[0], 1, 784) to automatically get batch size\n",
        "\n",
        "# Forward pass through the network\n",
        "img_idx = 0\n",
        "ps = model.forward(images[img_idx,:])\n",
        "\n",
        "img = images[img_idx]\n",
        "helper.view_classify(img.view(1, 28, 28), ps)"
      ],
      "execution_count": 0,
      "outputs": [
        {
          "output_type": "display_data",
          "data": {
            "image/png": "[encoded data removed]",
            "text/plain": [
              "<Figure size 432x648 with 2 Axes>"
            ]
          },
          "metadata": {
            "tags": [],
            "needs_background": "light"
          }
        }
      ]
    },
    {
      "cell_type": "code",
      "metadata": {
        "id": "AOUhToCffV72",
        "colab_type": "code",
        "outputId": "d9bb32cc-d66d-44fd-9e70-9d30dfcd1632",
        "colab": {
          "base_uri": "https://localhost:8080/",
          "height": 208
        }
      },
      "source": [
        "model.fc1.bias.data.fill_(0)"
      ],
      "execution_count": 0,
      "outputs": [
        {
          "output_type": "execute_result",
          "data": {
            "text/plain": [
              "tensor([0., 0., 0., 0., 0., 0., 0., 0., 0., 0., 0., 0., 0., 0., 0., 0., 0., 0., 0., 0., 0., 0., 0., 0.,\n",
              "        0., 0., 0., 0., 0., 0., 0., 0., 0., 0., 0., 0., 0., 0., 0., 0., 0., 0., 0., 0., 0., 0., 0., 0.,\n",
              "        0., 0., 0., 0., 0., 0., 0., 0., 0., 0., 0., 0., 0., 0., 0., 0., 0., 0., 0., 0., 0., 0., 0., 0.,\n",
              "        0., 0., 0., 0., 0., 0., 0., 0., 0., 0., 0., 0., 0., 0., 0., 0., 0., 0., 0., 0., 0., 0., 0., 0.,\n",
              "        0., 0., 0., 0., 0., 0., 0., 0., 0., 0., 0., 0., 0., 0., 0., 0., 0., 0., 0., 0., 0., 0., 0., 0.,\n",
              "        0., 0., 0., 0., 0., 0., 0., 0., 0., 0., 0., 0., 0., 0., 0., 0., 0., 0., 0., 0., 0., 0., 0., 0.,\n",
              "        0., 0., 0., 0., 0., 0., 0., 0., 0., 0., 0., 0., 0., 0., 0., 0., 0., 0., 0., 0., 0., 0., 0., 0.,\n",
              "        0., 0., 0., 0., 0., 0., 0., 0., 0., 0., 0., 0., 0., 0., 0., 0., 0., 0., 0., 0., 0., 0., 0., 0.,\n",
              "        0., 0., 0., 0., 0., 0., 0., 0., 0., 0., 0., 0., 0., 0., 0., 0., 0., 0., 0., 0., 0., 0., 0., 0.,\n",
              "        0., 0., 0., 0., 0., 0., 0., 0., 0., 0., 0., 0., 0., 0., 0., 0., 0., 0., 0., 0., 0., 0., 0., 0.,\n",
              "        0., 0., 0., 0., 0., 0., 0., 0., 0., 0., 0., 0., 0., 0., 0., 0.])"
            ]
          },
          "metadata": {
            "tags": []
          },
          "execution_count": 30
        }
      ]
    },
    {
      "cell_type": "code",
      "metadata": {
        "id": "CF8vDp7yfx6g",
        "colab_type": "code",
        "outputId": "5884cfd2-89a7-40ac-8fc6-83f0deee104b",
        "colab": {
          "base_uri": "https://localhost:8080/",
          "height": 139
        }
      },
      "source": [
        "model.fc1.weight.data.normal_(std=0.01)"
      ],
      "execution_count": 0,
      "outputs": [
        {
          "output_type": "execute_result",
          "data": {
            "text/plain": [
              "tensor([[-0.0044,  0.0110,  0.0169,  ...,  0.0034,  0.0020,  0.0087],\n",
              "        [-0.0112,  0.0103,  0.0090,  ..., -0.0116,  0.0053, -0.0061],\n",
              "        [ 0.0065,  0.0041,  0.0114,  ...,  0.0097,  0.0056, -0.0025],\n",
              "        ...,\n",
              "        [ 0.0020,  0.0028,  0.0063,  ...,  0.0040,  0.0087,  0.0075],\n",
              "        [ 0.0023,  0.0083,  0.0026,  ..., -0.0041, -0.0044,  0.0055],\n",
              "        [ 0.0127, -0.0044,  0.0102,  ..., -0.0141, -0.0057, -0.0121]])"
            ]
          },
          "metadata": {
            "tags": []
          },
          "execution_count": 31
        }
      ]
    },
    {
      "cell_type": "markdown",
      "metadata": {
        "id": "0CX88Wn-gvvN",
        "colab_type": "text"
      },
      "source": [
        "# **Using nn.sequential**"
      ]
    },
    {
      "cell_type": "code",
      "metadata": {
        "collapsed": true,
        "id": "tObSIHWetuN5",
        "colab_type": "code",
        "outputId": "683a50ee-99ab-4c23-ae56-6de876eb7db8",
        "colab": {
          "base_uri": "https://localhost:8080/",
          "height": 392
        }
      },
      "source": [
        "# Hyperparameters for our network\n",
        "input_size = 784\n",
        "hidden_sizes = [128, 64]\n",
        "output_size = 10\n",
        "\n",
        "# Build a feed-forward network\n",
        "model = nn.Sequential(nn.Linear(input_size, hidden_sizes[0]),\n",
        "                      nn.ReLU(),\n",
        "                      nn.Linear(hidden_sizes[0], hidden_sizes[1]),\n",
        "                      nn.ReLU(),\n",
        "                      nn.Linear(hidden_sizes[1], output_size),\n",
        "                      nn.Softmax(dim=1))\n",
        "print(model)\n",
        "\n",
        "# Forward pass through the network and display output\n",
        "images, labels = next(iter(trainloader))\n",
        "images.resize_(images.shape[0], 1, 784)\n",
        "ps = model.forward(images[0,:])\n",
        "helper.view_classify(images[0].view(1, 28, 28), ps)"
      ],
      "execution_count": 0,
      "outputs": [
        {
          "output_type": "stream",
          "text": [
            "Sequential(\n",
            "  (0): Linear(in_features=784, out_features=128, bias=True)\n",
            "  (1): ReLU()\n",
            "  (2): Linear(in_features=128, out_features=64, bias=True)\n",
            "  (3): ReLU()\n",
            "  (4): Linear(in_features=64, out_features=10, bias=True)\n",
            "  (5): Softmax(dim=1)\n",
            ")\n"
          ],
          "name": "stdout"
        },
        {
          "output_type": "display_data",
          "data": {
            "image/png": "[encoded data removed]",
            "text/plain": [
              "<Figure size 432x648 with 2 Axes>"
            ]
          },
          "metadata": {
            "tags": [],
            "needs_background": "light"
          }
        }
      ]
    },
    {
      "cell_type": "markdown",
      "metadata": {
        "id": "JqtO2EaFkAyq",
        "colab_type": "text"
      },
      "source": [
        "## Naming layers"
      ]
    },
    {
      "cell_type": "code",
      "metadata": {
        "collapsed": true,
        "id": "_o9SI8W-vPAX",
        "colab_type": "code",
        "colab": {
          "base_uri": "https://localhost:8080/",
          "height": 156
        },
        "outputId": "1dd43264-4560-43df-a0d6-41c8f2b42d6d"
      },
      "source": [
        "from collections import OrderedDict\n",
        "model = nn.Sequential(OrderedDict([\n",
        "                      ('fc1', nn.Linear(input_size, hidden_sizes[0])),\n",
        "                      ('relu1', nn.ReLU()),\n",
        "                      ('fc2', nn.Linear(hidden_sizes[0], hidden_sizes[1])),\n",
        "                      ('relu2', nn.ReLU()),\n",
        "                      ('output', nn.Linear(hidden_sizes[1], output_size)),\n",
        "                      ('softmax', nn.Softmax(dim=1))]))\n",
        "model"
      ],
      "execution_count": 33,
      "outputs": [
        {
          "output_type": "execute_result",
          "data": {
            "text/plain": [
              "Sequential(\n",
              "  (fc1): Linear(in_features=784, out_features=128, bias=True)\n",
              "  (relu1): ReLU()\n",
              "  (fc2): Linear(in_features=128, out_features=64, bias=True)\n",
              "  (relu2): ReLU()\n",
              "  (output): Linear(in_features=64, out_features=10, bias=True)\n",
              "  (softmax): Softmax(dim=1)\n",
              ")"
            ]
          },
          "metadata": {
            "tags": []
          },
          "execution_count": 33
        }
      ]
    },
    {
      "cell_type": "code",
      "metadata": {
        "collapsed": true,
        "id": "JmR7RJdCvPAb",
        "colab_type": "code",
        "colab": {
          "base_uri": "https://localhost:8080/",
          "height": 52
        },
        "outputId": "b0b86957-5417-40b8-cb37-b91484bcc0f2"
      },
      "source": [
        "print(model[0])\n",
        "print(model.fc1)"
      ],
      "execution_count": 34,
      "outputs": [
        {
          "output_type": "stream",
          "text": [
            "Linear(in_features=784, out_features=128, bias=True)\n",
            "Linear(in_features=784, out_features=128, bias=True)\n"
          ],
          "name": "stdout"
        }
      ]
    },
    {
      "cell_type": "code",
      "metadata": {
        "id": "kSm8Q_Snv2mK",
        "colab_type": "code",
        "colab": {}
      },
      "source": [
        ""
      ],
      "execution_count": 0,
      "outputs": []
    }
  ]
}
